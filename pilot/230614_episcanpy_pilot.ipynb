{
 "cells": [
  {
   "cell_type": "code",
   "execution_count": null,
   "id": "023714cc",
   "metadata": {},
   "outputs": [],
   "source": [
    "import scanpy as sc\n",
    "import muon as mu\n",
    "import numpy as np\n",
    "import pandas as pd\n",
    "import episcanpy as epi\n",
    "import os\n",
    "import matplotlib.pyplot as plt\n",
    "from collections import defaultdict"
   ]
  },
  {
   "cell_type": "code",
   "execution_count": null,
   "id": "3e014807",
   "metadata": {},
   "outputs": [],
   "source": [
    "sc_file = '/home/carsten/alvira_bioinformatics/postnatal_lung_multiome/data/single_cell_files'\n",
    "mdata = mu.read(f'{sc_file}/multi_all_cells_raw.h5mu')\n",
    "atac = mdata.mod['atac']\n",
    "tf_bed = pd.read_csv(\"/home/carsten/alvira_bioinformatics/postnatal_lung_multiome/data/cellranger_output/230609_aggregate/outs/analysis/tf_analysis/peak_motif_mapping.bed\",\n",
    "                     sep='\\t',\n",
    "                     index_col=None,\n",
    "                     header=None\n",
    "                    )"
   ]
  },
  {
   "cell_type": "code",
   "execution_count": null,
   "id": "a386f667",
   "metadata": {},
   "outputs": [],
   "source": [
    "tf_bed"
   ]
  },
  {
   "cell_type": "code",
   "execution_count": null,
   "id": "36601a72",
   "metadata": {},
   "outputs": [],
   "source": [
    "# tf_bed[2] = tf_bed[2]-1 # end of peak name from cellranger-arc seems to be + 1\n"
   ]
  },
  {
   "cell_type": "code",
   "execution_count": null,
   "id": "79ba257b",
   "metadata": {},
   "outputs": [],
   "source": [
    "atac.uns['atac']['peak_annotation']"
   ]
  },
  {
   "cell_type": "code",
   "execution_count": null,
   "id": "0654756b",
   "metadata": {},
   "outputs": [],
   "source": [
    "# tf_bed[2] = tf_bed[2]-1 # end of peak name from cellranger-arc seems to be + 1\n",
    "tf_bed['peak_name'] = tf_bed[0] +\":\"+tf_bed[1].astype('string')+'-'+tf_bed[2].astype('string')\n",
    "df = tf_bed.groupby('peak_name')[3].apply(lambda x: ','.join(x.astype(str))).reset_index()\n",
    "peak_tf_dt = pd.Series(df[3].values,index=df.peak_name)\n",
    "peak_tf_dt = pd.Series(df[3].values, index=df.peak_name)\n",
    "atac.var['tfs'] = pd.Series(peak_tf_dt)\n",
    "atac.var['tfs']"
   ]
  },
  {
   "cell_type": "code",
   "execution_count": null,
   "id": "86afb8e9",
   "metadata": {},
   "outputs": [],
   "source": [
    "atac.var_names"
   ]
  },
  {
   "cell_type": "code",
   "execution_count": null,
   "id": "fea3d082",
   "metadata": {},
   "outputs": [],
   "source": [
    "peak_tf_dt['chr1:3119667-3120573']"
   ]
  },
  {
   "cell_type": "code",
   "execution_count": null,
   "id": "4f810077",
   "metadata": {},
   "outputs": [],
   "source": [
    "output_fol = '/home/carsten/alvira_bioinformatics/postnatal_lung_multiome/data/pilot/230614_episcanpy_pilot'\n",
    "os.makedirs(output_fol, exist_ok=True)\n",
    "sc.set_figure_params(dpi_save = 300, fontsize=10)\n",
    "sc.settings.figdir = output_fol\n",
    "epi.settings.figdir = output_fol\n",
    "epi.set_figure_params(dpi_save=300, fontsize=10)\n",
    "plt.rcParams[\"font.family\"] = \"Arial\""
   ]
  },
  {
   "cell_type": "code",
   "execution_count": null,
   "id": "236814b1",
   "metadata": {},
   "outputs": [],
   "source": [
    "adata_rna = sc.read('/home/carsten/alvira_bioinformatics/postnatal_lung_multiome/data/single_cell_files/share/p7_multiome_rna.gz.h5ad')\n",
    "sc.pp.normalize_total(adata_rna, target_sum=1e6)\n",
    "sc.pp.log1p(adata_rna,base=10)"
   ]
  },
  {
   "cell_type": "code",
   "execution_count": null,
   "id": "4563ee9b",
   "metadata": {},
   "outputs": [],
   "source": [
    "adata_atac = sc.read('/home/carsten/alvira_bioinformatics/postnatal_lung_multiome/data/single_cell_files/share/p7_multiome_atac.gz.h5ad')"
   ]
  },
  {
   "cell_type": "code",
   "execution_count": null,
   "id": "d7249095",
   "metadata": {},
   "outputs": [],
   "source": [
    "tf_bed = pd.read_csv(\"/home/carsten/alvira_bioinformatics/postnatal_lung_multiome/data/cellranger_output/230609_aggregate/outs/analysis/tf_analysis/peak_motif_mapping.bed\",\n",
    "                     sep='\\t',\n",
    "                     index_col=None,\n",
    "                     header=None\n",
    "                    )\n"
   ]
  },
  {
   "cell_type": "code",
   "execution_count": null,
   "id": "73712f7c",
   "metadata": {},
   "outputs": [],
   "source": [
    "len(no_tf)"
   ]
  },
  {
   "cell_type": "code",
   "execution_count": null,
   "id": "0918abfe",
   "metadata": {},
   "outputs": [],
   "source": [
    "epi.pp.filter_cells(adata_atac, min_features=1)\n",
    "epi.pp.filter_features(adata_atac, min_cells=1)\n",
    "adata_atac.obs['log_nb_features'] = [np.log10(x) for x in adata_atac.obs['nb_features']]\n",
    "sc.pl.violin(adata_atac, ['nb_features'], groupby='mouse', jitter=False,inner='box')\n",
    "sc.pl.violin(adata_atac, ['log_nb_features'], groupby='mouse',jitter=False, inner='box')\n"
   ]
  },
  {
   "cell_type": "code",
   "execution_count": null,
   "id": "718e834c",
   "metadata": {},
   "outputs": [],
   "source": [
    "min_features = 1000\n",
    "\n",
    "epi.pp.coverage_cells(adata_atac, binary=True, log=False, bins=50,\n",
    "               threshold=min_features, save=f'{output_fol}_peaks_coverage_cells.png')\n",
    "epi.pp.coverage_cells(adata_atac, binary=True, log=10, bins=50,\n",
    "               threshold=min_features, save=f'{output_fol}_peaks_coverage_cells_log10.png')"
   ]
  },
  {
   "cell_type": "code",
   "execution_count": null,
   "id": "c295f00e",
   "metadata": {},
   "outputs": [],
   "source": [
    "adata_atac"
   ]
  },
  {
   "cell_type": "code",
   "execution_count": null,
   "id": "a061cdc8",
   "metadata": {},
   "outputs": [],
   "source": [
    "min_cells = 10\n",
    "epi.pp.coverage_features(adata_atac, binary=True, log=False, \n",
    "                        threshold=min_cells, save=f'{output_fol}_peaks_coverage_peaks.png')\n",
    "epi.pp.coverage_features(adata_atac, binary=True, log=True, \n",
    "                        threshold=min_cells, save=f'{output_fol}_peaks_coverage_peaks_log10.png')"
   ]
  },
  {
   "cell_type": "code",
   "execution_count": null,
   "id": "1a89bb20",
   "metadata": {},
   "outputs": [],
   "source": [
    "epi.pp.filter_cells(adata_atac, min_features=min_features)\n",
    "epi.pp.filter_features(adata_atac, min_cells=min_cells)\n",
    "adata_atac"
   ]
  },
  {
   "cell_type": "code",
   "execution_count": null,
   "id": "0f2f0f83",
   "metadata": {},
   "outputs": [],
   "source": [
    "epi.pp.cal_var(adata_atac)"
   ]
  },
  {
   "cell_type": "code",
   "execution_count": null,
   "id": "45ce2ba2",
   "metadata": {},
   "outputs": [],
   "source": [
    "min_score_value = 0.515\n",
    "nb_feature_selected = 20000\n",
    "epi.pl.variability_features(adata_atac,log=None,\n",
    "                     min_score=min_score_value, nb_features=nb_feature_selected,\n",
    "                     save=f'{output_fol}/variability_features_plot_peakmatrix.png')\n",
    "\n",
    "epi.pl.variability_features(adata_atac,log='log10',\n",
    "                     min_score=min_score_value, nb_features=nb_feature_selected,\n",
    "                     save=f'{output_fol}/variability_features_plot_peakmatrix_log10.png')"
   ]
  },
  {
   "cell_type": "code",
   "execution_count": null,
   "id": "462e5919",
   "metadata": {},
   "outputs": [],
   "source": [
    "adata_atac.raw = adata_atac"
   ]
  },
  {
   "cell_type": "code",
   "execution_count": null,
   "id": "8b2b676b",
   "metadata": {},
   "outputs": [],
   "source": [
    "# adata_atac = epi.pp.select_var_feature(adata_atac,\n",
    "#                                   nb_features=nb_feature_selected,\n",
    "#                                   show=False,\n",
    "#                                   copy=True)"
   ]
  },
  {
   "cell_type": "code",
   "execution_count": null,
   "id": "9bb45dc6",
   "metadata": {},
   "outputs": [],
   "source": [
    "adata_atac"
   ]
  },
  {
   "cell_type": "code",
   "execution_count": null,
   "id": "353f3f46",
   "metadata": {},
   "outputs": [],
   "source": [
    "import scanpy.external as sce"
   ]
  },
  {
   "cell_type": "code",
   "execution_count": null,
   "id": "442a6011",
   "metadata": {},
   "outputs": [],
   "source": [
    "sc.pp.normalize_total(adata_atac, target_sum=1e6)\n",
    "sc.pp.log1p(adata_atac,base=10)\n",
    "sc.pp.highly_variable_genes(adata_atac)\n",
    "sc.pp.pca(adata_atac)\n",
    "sce.pp.harmony_integrate(adata_atac,key='mouse',max_iter_harmony=20)\n",
    "sc.pp.neighbors(adata_atac,use_rep='X_pca_harmony')\n",
    "sc.tl.umap(adata_atac)\n",
    "sc.pl.umap(adata_atac, color=['log_nb_features', 'celltype'], wspace=0.3)\n"
   ]
  },
  {
   "cell_type": "code",
   "execution_count": null,
   "id": "b09767f7",
   "metadata": {},
   "outputs": [],
   "source": [
    "adata_atac.var['highly_variable'].value_counts()"
   ]
  },
  {
   "cell_type": "code",
   "execution_count": null,
   "id": "0d96d872",
   "metadata": {},
   "outputs": [],
   "source": [
    "sc.pl.umap(adata_atac, color=['lineage', 'treatment','mouse'], wspace=0.3, save='lineage.png')"
   ]
  },
  {
   "cell_type": "code",
   "execution_count": null,
   "id": "a9559ac8",
   "metadata": {},
   "outputs": [],
   "source": [
    "sc.pl.umap(adata_atac, color=['log_nb_features', 'treatment','mouse'], wspace=0.3)"
   ]
  },
  {
   "cell_type": "code",
   "execution_count": null,
   "id": "d39acc12",
   "metadata": {},
   "outputs": [],
   "source": [
    "lin_dict = {}\n",
    "for lineage in adata_atac.obs['lineage'].cat.categories:\n",
    "    lin_adata_atac = adata_atac[adata_atac.obs['lineage']==lineage]\n",
    "    sc.pp.pca(lin_adata_atac)\n",
    "    sce.pp.harmony_integrate(lin_adata_atac,key='mouse',max_iter_harmony=20)\n",
    "    sc.pp.neighbors(lin_adata_atac,use_rep='X_pca_harmony')\n",
    "    sc.tl.leiden(lin_adata_atac)\n",
    "    sc.tl.umap(lin_adata_atac, min_dist=0.1)\n",
    "    sc.pl.umap(lin_adata_atac, color=['nb_features', 'celltype'], wspace=0.3, )\n",
    "    sc.pl.umap(lin_adata_atac, color=['log_nb_features', 'treatment','mouse','celltype'], ncols=2,wspace=0.3,save=f'{lineage}_celltype.png')\n",
    "    lin_dict[lineage] = lin_adata_atac"
   ]
  },
  {
   "cell_type": "code",
   "execution_count": null,
   "id": "09788c11",
   "metadata": {},
   "outputs": [],
   "source": [
    "adata_atac.uns['atac']['peak_annotation'].loc['Kdr']"
   ]
  },
  {
   "cell_type": "code",
   "execution_count": null,
   "id": "f7c5f81d",
   "metadata": {},
   "outputs": [],
   "source": [
    "sc.pl.umap(lin_dict['endothelial'],color = adata_atac.uns['atac']['peak_annotation'].loc['Kdr']['peak'].values)"
   ]
  },
  {
   "cell_type": "code",
   "execution_count": null,
   "id": "559ded93",
   "metadata": {},
   "outputs": [],
   "source": [
    "sc.pl.dotplot(lin_dict['endothelial'],\n",
    "              adata_atac.uns['atac']['peak_annotation'].loc['Edn1']['peak'].values,\n",
    "             groupby=['celltype','treatment'])"
   ]
  },
  {
   "cell_type": "code",
   "execution_count": null,
   "id": "26a47963",
   "metadata": {},
   "outputs": [],
   "source": [
    "sc.pl.dotplot(lin_dict['endothelial'],\n",
    "              adata_atac.uns['atac']['peak_annotation'].loc['Cdkn1a']['peak'].values,\n",
    "             groupby=['celltype','treatment'],\n",
    "             save='endo_cdkn1a_atac.png')"
   ]
  },
  {
   "cell_type": "code",
   "execution_count": null,
   "id": "90d0faa5",
   "metadata": {},
   "outputs": [],
   "source": [
    "sc.pl.dotplot(adata_rna[adata_rna.obs['lineage']=='endothelial'],\n",
    "             'Cdkn1a',\n",
    "             groupby=['celltype','treatment'],\n",
    "             save='endo_cdkn1a_rna.png')"
   ]
  },
  {
   "cell_type": "code",
   "execution_count": null,
   "id": "bcd60099",
   "metadata": {},
   "outputs": [],
   "source": [
    "adata_atac.var['tfs'].loc['chr17:29095049-29095880']"
   ]
  },
  {
   "cell_type": "code",
   "execution_count": null,
   "id": "d6464d86",
   "metadata": {},
   "outputs": [],
   "source": [
    " adata_atac.uns['atac']['peak_annotation'].loc['Cdkn1a']"
   ]
  },
  {
   "cell_type": "code",
   "execution_count": null,
   "id": "9af097ab",
   "metadata": {},
   "outputs": [],
   "source": [
    " adata_atac.uns['atac']['peak_annotation'].loc['Mki67']"
   ]
  },
  {
   "cell_type": "code",
   "execution_count": null,
   "id": "c1c72739",
   "metadata": {},
   "outputs": [],
   "source": [
    "adata_atac.var.loc['chr8:123884577-123885483']"
   ]
  },
  {
   "cell_type": "code",
   "execution_count": null,
   "id": "ddda3345",
   "metadata": {},
   "outputs": [],
   "source": [
    "sc.pl.dotplot(lin_dict['mesenchymal'],\n",
    "              adata_atac.uns['atac']['peak_annotation'].loc['Acta1']['peak'],\n",
    "             groupby=['celltype'])"
   ]
  },
  {
   "cell_type": "code",
   "execution_count": null,
   "id": "b1662729",
   "metadata": {},
   "outputs": [],
   "source": [
    "sc.pl.dotplot(adata_atac,\n",
    "              adata_atac.uns['atac']['peak_annotation'].loc['Mki67']['peak'],\n",
    "              title='Mki67 peaks',\n",
    "             groupby=['celltype', 'treatment'],\n",
    "             save='mki67_peaks.png')"
   ]
  },
  {
   "cell_type": "code",
   "execution_count": null,
   "id": "80ffba25",
   "metadata": {},
   "outputs": [],
   "source": []
  }
 ],
 "metadata": {
  "kernelspec": {
   "display_name": "Python 3 (ipykernel)",
   "language": "python",
   "name": "python3"
  },
  "language_info": {
   "codemirror_mode": {
    "name": "ipython",
    "version": 3
   },
   "file_extension": ".py",
   "mimetype": "text/x-python",
   "name": "python",
   "nbconvert_exporter": "python",
   "pygments_lexer": "ipython3",
   "version": "3.7.11"
  }
 },
 "nbformat": 4,
 "nbformat_minor": 5
}

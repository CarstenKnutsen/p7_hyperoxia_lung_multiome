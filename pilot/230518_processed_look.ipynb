{
 "cells": [
  {
   "cell_type": "code",
   "execution_count": null,
   "id": "023714cc",
   "metadata": {},
   "outputs": [],
   "source": [
    "import scanpy as sc\n",
    "import muon as mu\n",
    "import numpy as np\n",
    "import pandas as pd"
   ]
  },
  {
   "cell_type": "code",
   "execution_count": null,
   "id": "94fdfd10",
   "metadata": {},
   "outputs": [],
   "source": [
    "adata = sc.read('/home/carsten/alvira_bioinformatics/postnatal_lung_multiome/data/single_cell_files/multiome_gex_processed_cell_typed_raw.gz.h5ad')\n",
    "sc.pp.normalize_total(adata)\n",
    "sc.pp.log1p(adata,base=10)"
   ]
  },
  {
   "cell_type": "code",
   "execution_count": null,
   "id": "20fc5bf1",
   "metadata": {},
   "outputs": [],
   "source": []
  },
  {
   "cell_type": "code",
   "execution_count": null,
   "id": "87e726aa",
   "metadata": {},
   "outputs": [],
   "source": [
    "adata.obs['celltype'].cat.categories"
   ]
  },
  {
   "cell_type": "code",
   "execution_count": null,
   "id": "c8a2001e",
   "metadata": {},
   "outputs": [],
   "source": [
    "adata[adata.obs['celltype']=='nor-2'].obs['celltype'].value_counts()"
   ]
  },
  {
   "cell_type": "code",
   "execution_count": null,
   "id": "a58ef960",
   "metadata": {},
   "outputs": [],
   "source": [
    "pd.set_option('display.max_rows', None)\n",
    "adata.obs.groupby('treatment')['celltype'].value_counts()"
   ]
  },
  {
   "cell_type": "code",
   "execution_count": null,
   "id": "09d845bc",
   "metadata": {},
   "outputs": [],
   "source": [
    "prolif_ec = adata[adata.obs['celltype']=='Proliferating EC'].copy()\n",
    "sc.pp.highly_variable_genes(prolif_ec,n_top_genes=500,batch_key='mouse')\n",
    "sc.pp.pca(prolif_ec)\n",
    "sc.pp.neighbors(prolif_ec)\n",
    "sc.tl.umap(prolif_ec)\n",
    "sc.tl.leiden(prolif_ec)\n",
    "sc.pl.umap(prolif_ec, color=['Kit','Car4','Gja5','Car8','Slc6a2','Ccl21a','leiden', 'mouse'])"
   ]
  },
  {
   "cell_type": "code",
   "execution_count": null,
   "id": "479911ff",
   "metadata": {},
   "outputs": [],
   "source": [
    "prolif_ec.obs.groupby('leiden')['mouse'.value_counts()"
   ]
  },
  {
   "cell_type": "code",
   "execution_count": null,
   "id": "932e896d",
   "metadata": {},
   "outputs": [],
   "source": [
    "sc.tl.rank_genes_groups(prolif_ec, \"leiden\", method=\"wilcoxon\")\n",
    "sc.pl.rank_genes_groups_dotplot(\n",
    "    prolif_ec,\n",
    "    groupby=\"leiden\",\n",
    "    dendrogram=False,\n",
    "    n_genes=int(50 / len(prolif_ec.obs[\"leiden\"].unique())),\n",
    ")\n",
    "sc.pl.dotplot(prolif_ec,['Car8','Slc6a2'], groupby='leiden')\n",
    "prolif_ec.obs['leiden'].value_counts()"
   ]
  },
  {
   "cell_type": "code",
   "execution_count": null,
   "id": "2e44bf1d",
   "metadata": {},
   "outputs": [],
   "source": [
    "sc.pl.embedding(adata[adata.obs['lineage']=='endothelial'],\n",
    "               basis='X_umap_endothelial',\n",
    "               color=['Mki67','Car8','celltype'])"
   ]
  },
  {
   "cell_type": "code",
   "execution_count": null,
   "id": "0fce30df",
   "metadata": {},
   "outputs": [],
   "source": [
    "sc.pl.dotplot(adata[adata.obs['celltype']=='Alveolar fibroblast'],\n",
    "              ['Acta1'],\n",
    "              groupby=['celltype','treatment']\n",
    "             )"
   ]
  },
  {
   "cell_type": "code",
   "execution_count": null,
   "id": "55077288",
   "metadata": {},
   "outputs": [],
   "source": [
    "pd.set_option('display.max_rows', None)\n",
    "\n",
    "adata.obs.groupby('celltype')['mouse'].value_counts()"
   ]
  },
  {
   "cell_type": "code",
   "execution_count": null,
   "id": "562e0e37",
   "metadata": {},
   "outputs": [],
   "source": [
    "sc.pl.umap(adata, color ='mouse')"
   ]
  },
  {
   "cell_type": "code",
   "execution_count": null,
   "id": "c65ff296",
   "metadata": {},
   "outputs": [],
   "source": [
    "sc.pl.umap(adata, color ='doublet_score')"
   ]
  },
  {
   "cell_type": "code",
   "execution_count": null,
   "id": "fb160333",
   "metadata": {},
   "outputs": [],
   "source": [
    "sc.pl.umap(adata, color =['Epcam','Col1a1','Cdh5','Ptprc'])"
   ]
  },
  {
   "cell_type": "code",
   "execution_count": null,
   "id": "15defeb7",
   "metadata": {},
   "outputs": [],
   "source": [
    "adata.obs['predicted_doublet'] = adata.obs['predicted_doublet'].astype('str')\n",
    "sc.pl.umap(adata, color ='predicted_doublet')"
   ]
  },
  {
   "cell_type": "code",
   "execution_count": null,
   "id": "1c79ee22",
   "metadata": {},
   "outputs": [],
   "source": [
    "adata.obs['predicted_doublet'].value_counts(normalize=True)"
   ]
  },
  {
   "cell_type": "code",
   "execution_count": null,
   "id": "b13b038b",
   "metadata": {},
   "outputs": [],
   "source": [
    "adata.obs['mouse'].value_counts(normalize=True)"
   ]
  }
 ],
 "metadata": {
  "kernelspec": {
   "display_name": "Python 3 (ipykernel)",
   "language": "python",
   "name": "python3"
  },
  "language_info": {
   "codemirror_mode": {
    "name": "ipython",
    "version": 3
   },
   "file_extension": ".py",
   "mimetype": "text/x-python",
   "name": "python",
   "nbconvert_exporter": "python",
   "pygments_lexer": "ipython3",
   "version": "3.7.11"
  }
 },
 "nbformat": 4,
 "nbformat_minor": 5
}

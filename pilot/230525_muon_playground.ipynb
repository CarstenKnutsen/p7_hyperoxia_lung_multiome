{
 "cells": [
  {
   "cell_type": "code",
   "execution_count": null,
   "id": "023714cc",
   "metadata": {},
   "outputs": [],
   "source": [
    "import scanpy as sc\n",
    "import numpy as np\n",
    "import pandas as pd\n",
    "from gtfparse import read_gtf\n",
    "import muon as mu\n",
    "import scipy.io\n",
    "import csv\n",
    "import os"
   ]
  },
  {
   "cell_type": "code",
   "execution_count": null,
   "id": "66cf0337",
   "metadata": {},
   "outputs": [],
   "source": [
    "sc_file = '/home/carsten/alvira_bioinformatics/postnatal_lung_multiome/data/single_cell_files'\n",
    "mudata = mu.read(f'{sc_file}/multi_all_cells_raw.h5mu')"
   ]
  },
  {
   "cell_type": "code",
   "execution_count": null,
   "id": "943182aa",
   "metadata": {},
   "outputs": [],
   "source": [
    "rna = mudata['rna']\n",
    "adata.var['seqname'] = adata.var['interval'].str.split(':')[0]"
   ]
  },
  {
   "cell_type": "code",
   "execution_count": null,
   "id": "6e487ae0",
   "metadata": {},
   "outputs": [],
   "source": [
    "[x[0] for x in rna.var['interval'].str.split(':')]"
   ]
  },
  {
   "cell_type": "code",
   "execution_count": null,
   "id": "f5b249b4",
   "metadata": {},
   "outputs": [],
   "source": [
    "gtf_fn = '/home/carsten/alvira_bioinformatics/postnatal_lung_multiome/data/refdata-cellranger-arc-mm10-2020-A-2.0.0/genes/genes.gtf'\n",
    "rna_data = '/home/carsten/alvira_bioinformatics/postnatal_lung_multiome/data/single_cell_files/soupx'\n",
    "sc_file = '/home/carsten/alvira_bioinformatics/postnatal_lung_multiome/data/single_cell_files'\n",
    "h5_file = '/home/carsten/alvira_bioinformatics/postnatal_lung_multiome/data/cellranger_output/230609_aggregate/outs/filtered_feature_bc_matrix.h5'\n",
    "qc = '/home/carsten/alvira_bioinformatics/postnatal_lung_multiome/data/figures/qc'\n",
    "tf_matrix_dir = \"/home/carsten/alvira_bioinformatics/postnatal_lung_multiome/data/cellranger_output/230609_aggregate/outs/analysis/tf_analysis/filtered_tf_bc_matrix\"\n",
    "\n",
    "os.makedirs(sc_file, exist_ok=True)\n",
    "os.makedirs(qc, exist_ok=True)\n",
    "\n",
    "\n",
    "\n",
    "var = pd.read_csv(\n",
    "    '/home/carsten/alvira_bioinformatics/postnatal_lung_multiome/data/cellranger_output/230609_aggregate/outs/filtered_feature_bc_matrix/features.tsv.gz',\n",
    "    header=None,sep = '\\t', index_col=None)\n",
    "var.columns = ['gene_id','gene_name_feature','measure','seqname','num1','num2']\n",
    "var.set_index('gene_name_feature',drop=False,inplace=True)\n",
    "var.rename_axis('feature',inplace=True)\n",
    "gtf = read_gtf(gtf_fn)\n",
    "print(gtf.head(1))\n",
    "adata = sc.read_10x_mtx(rna_data)\n",
    "adata.var = var[['gene_id','gene_name_feature',]].loc[var['measure']=='Gene Expression']\n",
    "## Add .var columns from gtf\n",
    "for column in ['gene_type','gene_name','seqname']:\n",
    "    temp_dict = pd.Series(gtf[column].values, index=gtf['gene_id']).to_dict()\n",
    "    adata.var[column] = [temp_dict[x] for x in adata.var['gene_id'].values]\n",
    "mudata = mu.read_10x_h5(\"/home/carsten/alvira_bioinformatics/postnatal_lung_multiome/data/cellranger_output/230609_aggregate/outs/filtered_feature_bc_matrix.h5\")\n",
    "mudata.write(f'{sc_file}/multi_all_cells_raw.h5mu')\n",
    "\n",
    "\n",
    "mudata['rna'].X = adata.X\n",
    "mudata['rna'].var = adata.var\n",
    "mudata['rna'].var_names = adata.var_names\n",
    "mudata['rna'].obs = adata.obs\n",
    "mudata['rna'].obs_names = adata.obs_names\n",
    "\n",
    "# tf-bc matrix=\n",
    "adata_tf = sc.read_mtx(f\"{tf_matrix_dir}/matrix.mtx\")\n",
    "\n",
    "motifs_path = f\"{tf_matrix_dir}/motifs.tsv\"\n",
    "var = pd.read_csv(motifs_path, sep='\\t', index_col=0, header=None)\n",
    "barcodes_path = f\"{tf_matrix_dir}/barcodes.tsv\"\n",
    "obs = pd.read_csv(barcodes_path, sep='\\t', index_col=0, header=None)\n",
    "adata_tf = adata_tf.T\n",
    "adata_tf.layers['raw'] = adata_tf.X.copy()\n",
    "adata_tf.obs_names = obs.index.values\n",
    "adata_tf.var_names = var.index.values\n",
    "mudata.mod['tfs'] = adata_tf\n",
    "del mudata.mod['tfs'].layers['raw']\n",
    "## Add .obs columns custom\n",
    "mouse = []\n",
    "sex= []\n",
    "for x in adata.obs_names:\n",
    "    if x.split('-')[1] == '1':\n",
    "        mouse.append('nor-1')\n",
    "        sex.append('F')\n",
    "    elif x.split('-')[1] == '2':\n",
    "        mouse.append('nor-2')\n",
    "        sex.append('F')\n",
    "    elif x.split('-')[1] == '3':\n",
    "        mouse.append('nor-3')\n",
    "        sex.append('M')\n",
    "    elif x.split('-')[1] == '4':\n",
    "        mouse.append('hyp-1')\n",
    "        sex.append('F')\n",
    "    elif x.split('-')[1] == '5':\n",
    "        mouse.append('hyp-2')\n",
    "        sex.append('M')\n",
    "mudata.mod['rna'].obs['mouse'] = mouse\n",
    "mudata.mod['rna'].obs['sex'] = sex\n",
    "mudata.mod['rna'].obs['treatment'] = ['Hyperoxia' if x.split('-')[0].startswith('h') else 'Normoxia' for x in adata.obs['mouse']]\n",
    "mudata.mod['rna'].obs['timepoint'] = 'P7'\n",
    "mudata.mod['atac'].uns['atac'] = dict(mudata.mod['atac'].uns['atac'])  # anndata does not write ordered dict\n",
    "mudata.mod['atac'].uns['files'] = dict(mudata.mod['atac'].uns['files'])  # anndata does not write ordered dict\n",
    "mudata.obs = mudata['rna'].obs.copy()\n",
    "# mudata.update()\n",
    "print(mudata)\n"
   ]
  },
  {
   "cell_type": "code",
   "execution_count": null,
   "id": "b470807f",
   "metadata": {},
   "outputs": [],
   "source": [
    "\n",
    "mudata.write(f'{sc_file}/multi_all_cells_raw.h5mu')"
   ]
  },
  {
   "cell_type": "code",
   "execution_count": null,
   "id": "42adee4a",
   "metadata": {},
   "outputs": [],
   "source": [
    "mudata.obsm"
   ]
  },
  {
   "cell_type": "code",
   "execution_count": null,
   "id": "890031c5",
   "metadata": {},
   "outputs": [],
   "source": [
    "adata_rna = sc.read('/home/carsten/alvira_bioinformatics/postnatal_lung_multiome/data/single_cell_files/multiome_gex_processed_cell_typed_raw.gz.h5ad')\n",
    "adata_rna"
   ]
  },
  {
   "cell_type": "code",
   "execution_count": null,
   "id": "98fd8338",
   "metadata": {},
   "outputs": [],
   "source": [
    "muon_adata = mu.read_10x_h5(\"/home/carsten/alvira_bioinformatics/postnatal_lung_multiome/data/cellranger_output/230609_aggregate/outs/filtered_feature_bc_matrix.h5\")"
   ]
  },
  {
   "cell_type": "code",
   "execution_count": null,
   "id": "bffe86a8",
   "metadata": {},
   "outputs": [],
   "source": [
    "del muon_adata.var['interval']"
   ]
  },
  {
   "cell_type": "code",
   "execution_count": null,
   "id": "8bc2eb82",
   "metadata": {},
   "outputs": [],
   "source": [
    "muon_adata = muon_adata[adata_rna.obs_names,:]\n",
    "mu_rna = muon_adata['rna'].copy()\n",
    "mu_rna.var_names_make_unique()\n",
    "mu_rna = mu_rna[:,adata_rna.var_names]\n",
    "mu_rna.layers['soupx'] = adata_rna.X.copy()\n",
    "mu_rna.obs = adata_rna.obs[['mouse', 'sex', 'treatment', 'timepoint','lineage', 'celltype']]\n",
    "\n",
    "\n",
    "mu_atac = muon_adata['atac'].copy()\n",
    "mu_atac.obs = adata_rna.obs[['mouse', 'sex', 'treatment', 'timepoint','lineage', 'celltype']]\n",
    "mu_atac.uns['atac'] = dict(mu_atac.uns['atac']) # anndata does not write ordered dict\n",
    "mu_atac.uns['files'] = dict(mu_atac.uns['files']) # anndata does not write ordered dict"
   ]
  },
  {
   "cell_type": "code",
   "execution_count": null,
   "id": "f8dec5d7",
   "metadata": {},
   "outputs": [],
   "source": [
    "mu_rna.obs.to_csv('/home/carsten/alvira_bioinformatics/postnatal_lung_multiome/data/single_cell_files/share/p7_multiome_metadata.csv')"
   ]
  },
  {
   "cell_type": "code",
   "execution_count": null,
   "id": "7abc526b",
   "metadata": {},
   "outputs": [],
   "source": [
    "mu_rna.write('/home/carsten/alvira_bioinformatics/postnatal_lung_multiome/data/single_cell_files/share/p7_multiome_rna.gz.h5ad',\n",
    "                       compression='gzip')\n",
    "mu_atac.write('/home/carsten/alvira_bioinformatics/postnatal_lung_multiome/data/single_cell_files/share/p7_multiome_atac.gz.h5ad',\n",
    "                       compression='gzip')"
   ]
  },
  {
   "cell_type": "code",
   "execution_count": null,
   "id": "f782147f",
   "metadata": {},
   "outputs": [],
   "source": [
    "mu_atac.uns['files']"
   ]
  },
  {
   "cell_type": "code",
   "execution_count": null,
   "id": "4a8df702",
   "metadata": {},
   "outputs": [],
   "source": [
    "sc.pl.dotplot(adata_rna, ['Cxcl10'], groupby=['celltype','treatment'])"
   ]
  },
  {
   "cell_type": "code",
   "execution_count": null,
   "id": "995d8644",
   "metadata": {},
   "outputs": [],
   "source": [
    "mu_rna.layers['soupx']"
   ]
  },
  {
   "cell_type": "code",
   "execution_count": null,
   "id": "dc84b14c",
   "metadata": {},
   "outputs": [],
   "source": [
    "adata_rna.obs[['mouse', 'sex', 'treatment', 'timepoint','lineage', 'celltype']]"
   ]
  },
  {
   "cell_type": "code",
   "execution_count": null,
   "id": "7bc1ca91",
   "metadata": {},
   "outputs": [],
   "source": [
    "muon_adata.obs"
   ]
  },
  {
   "cell_type": "code",
   "execution_count": null,
   "id": "09e68091",
   "metadata": {},
   "outputs": [],
   "source": [
    "muon_adata.var_names"
   ]
  },
  {
   "cell_type": "code",
   "execution_count": null,
   "id": "6e2ccd9e",
   "metadata": {},
   "outputs": [],
   "source": [
    "adata_rna"
   ]
  },
  {
   "cell_type": "code",
   "execution_count": null,
   "id": "ade1ec48",
   "metadata": {},
   "outputs": [],
   "source": [
    "adata_rna"
   ]
  },
  {
   "cell_type": "code",
   "execution_count": null,
   "id": "bffc5d69",
   "metadata": {},
   "outputs": [],
   "source": [
    "adata_atac = muon_adata['atac']\n",
    "adata_atac.var_names"
   ]
  },
  {
   "cell_type": "code",
   "execution_count": null,
   "id": "3dc510b7",
   "metadata": {},
   "outputs": [],
   "source": [
    "# tf-bc matrix\n",
    "import scipy.io\n",
    "import csv\n",
    "import os \n",
    "matrix_dir = \"/home/carsten/alvira_bioinformatics/postnatal_lung_multiome/data/cellranger_output/outs/analysis/tf_analysis/filtered_tf_bc_matrix\"\n",
    "adata_tf = sc.read_mtx(os.path.join(matrix_dir, \"matrix.mtx\"))\n",
    " \n",
    "motifs_path = os.path.join(matrix_dir, \"motifs.tsv\")\n",
    "var = pd.read_csv(motifs_path, sep='\\t', index_col =0,header=None)\n",
    "barcodes_path = os.path.join(matrix_dir, \"barcodes.tsv\")\n",
    "obs = pd.read_csv(barcodes_path, sep='\\t', index_col =0,header=None)\n",
    "adata_tf = adata_tf.T\n",
    "adata_tf.layers['raw']= adata_tf.X.copy()\n",
    "adata_tf.obs_names=obs.index.values\n",
    "adata_tf.var_names=var.index.values\n",
    "\n",
    "\n",
    "adata_tf"
   ]
  },
  {
   "cell_type": "code",
   "execution_count": null,
   "id": "ecdbb3ed",
   "metadata": {},
   "outputs": [],
   "source": [
    "import h5py\n",
    "fl = '/home/carsten/alvira_bioinformatics/postnatal_lung_multiome/data/cellranger_output/230609_aggregate/outs/analysis/feature_linkage/feature_linkage_matrix.h5'\n",
    "f = h5py.File(fl,\n",
    "              'r')\n",
    "[key for key in f.keys()]\n"
   ]
  },
  {
   "cell_type": "code",
   "execution_count": null,
   "id": "9d268ece",
   "metadata": {},
   "outputs": [],
   "source": [
    "for key in f.keys():\n",
    "    print(key)\n",
    "    d = f[key]\n",
    "    try:\n",
    "        print(type(d))\n",
    "        print(d.keys())\n",
    "#         for key2 in d.keys():\n",
    "#             print(key2)\n",
    "#             print(d[key2].head())\n",
    "    except:\n",
    "        print(type(d))\n",
    "        print(d.shape)"
   ]
  },
  {
   "cell_type": "code",
   "execution_count": null,
   "id": "91a51113",
   "metadata": {},
   "outputs": [],
   "source": [
    "score = f['score']\n",
    "sig = f['significance']\n",
    "indices = f['indices']\n",
    "indptr = f['indptr']\n"
   ]
  },
  {
   "cell_type": "code",
   "execution_count": null,
   "id": "80e7d6b3",
   "metadata": {},
   "outputs": [],
   "source": [
    "from scipy.sparse import csr_matrix\n",
    "score_mtx = csr_matrix((score,indices,indptr), shape=(118535,118535))\n",
    "sig_mtx = csr_matrix((sig,indices,indptr), shape=(118535,118535))"
   ]
  },
  {
   "cell_type": "code",
   "execution_count": null,
   "id": "50ddbfd5",
   "metadata": {},
   "outputs": [],
   "source": [
    "from anndata import AnnData\n",
    "score_mtx"
   ]
  },
  {
   "cell_type": "code",
   "execution_count": null,
   "id": "a81e1390",
   "metadata": {},
   "outputs": [],
   "source": [
    "top_5 = np.argpartition(score_mtx,-5,axis = 1)[-5:]\n"
   ]
  },
  {
   "cell_type": "code",
   "execution_count": null,
   "id": "5cc68afe",
   "metadata": {},
   "outputs": [],
   "source": [
    "f['features']['name']"
   ]
  },
  {
   "cell_type": "code",
   "execution_count": null,
   "id": "82f96070",
   "metadata": {},
   "outputs": [],
   "source": [
    "indptr = f['indptr']\n",
    "indptr[14]"
   ]
  },
  {
   "cell_type": "code",
   "execution_count": null,
   "id": "aad5721a",
   "metadata": {},
   "outputs": [],
   "source": [
    "sig = f['significance']"
   ]
  },
  {
   "cell_type": "code",
   "execution_count": null,
   "id": "e0880eac",
   "metadata": {},
   "outputs": [],
   "source": [
    "sig[12]"
   ]
  },
  {
   "cell_type": "code",
   "execution_count": null,
   "id": "d4a040d2",
   "metadata": {},
   "outputs": [],
   "source": [
    "score = f['score']\n",
    "score[20]"
   ]
  },
  {
   "cell_type": "code",
   "execution_count": null,
   "id": "b2c205e2",
   "metadata": {},
   "outputs": [],
   "source": [
    "import collections\n",
    "import scipy.sparse as sp_sparse\n",
    "import tables\n",
    " \n",
    "CountMatrix = collections.namedtuple('CountMatrix', ['feature_ref', 'barcodes', 'matrix'])\n",
    " \n",
    "def get_matrix_from_h5(filename):\n",
    "    with tables.open_file(filename, 'r') as f:\n",
    "        mat_group = f.get_node(f.root, 'matrix')\n",
    "        barcodes = f.get_node(mat_group, 'barcodes').read()\n",
    "        data = getattr(mat_group, 'data').read()\n",
    "        indices = getattr(mat_group, 'indices').read()\n",
    "        indptr = getattr(mat_group, 'indptr').read()\n",
    "        shape = getattr(mat_group, 'shape').read()\n",
    "        matrix = sp_sparse.csc_matrix((data, indices, indptr), shape=shape)\n",
    "         \n",
    "        feature_ref = {}\n",
    "        feature_group = f.get_node(mat_group, 'features')\n",
    "        feature_ids = getattr(feature_group, 'id').read()\n",
    "        feature_names = getattr(feature_group, 'name').read()\n",
    "        feature_types = getattr(feature_group, 'feature_type').read()\n",
    "        feature_ref['id'] = feature_ids\n",
    "        feature_ref['name'] = feature_names\n",
    "        feature_ref['feature_type'] = feature_types\n",
    "        tag_keys = [key.decode() for key in getattr(feature_group, '_all_tag_keys').read()]\n",
    "        for key in tag_keys:\n",
    "            feature_ref[key] = getattr(feature_group, key).read()\n",
    "         \n",
    "        return CountMatrix(feature_ref, barcodes, matrix)\n",
    " \n",
    "filtered_matrix_h5 = '/home/carsten/alvira_bioinformatics/postnatal_lung_multiome/data/cellranger_output/230609_aggregate/outs/analysis/feature_linkage/feature_linkage_matrix.h5'\n",
    "filtered_feature_bc_matrix = get_matrix_from_h5(filtered_matrix_h5)"
   ]
  },
  {
   "cell_type": "code",
   "execution_count": null,
   "id": "f6b4b2ac",
   "metadata": {},
   "outputs": [],
   "source": [
    "tf_bed = pd.read_csv(\"/home/carsten/alvira_bioinformatics/postnatal_lung_multiome/data/cellranger_output/outs/analysis/tf_analysis/peak_motif_mapping.bed\",\n",
    "                     sep='\\t',\n",
    "                     index_col=None,\n",
    "                     header=None\n",
    "                    )\n"
   ]
  },
  {
   "cell_type": "code",
   "execution_count": null,
   "id": "9b3fd3ba",
   "metadata": {},
   "outputs": [],
   "source": [
    "tf_bed"
   ]
  },
  {
   "cell_type": "code",
   "execution_count": null,
   "id": "a9e9be9a",
   "metadata": {},
   "outputs": [],
   "source": [
    "adata_atac.uns['atac']['peak_annotation'].loc['Slc6a2']"
   ]
  },
  {
   "cell_type": "code",
   "execution_count": null,
   "id": "6d406fe2",
   "metadata": {},
   "outputs": [],
   "source": [
    "var[1].loc[var[1].str.startswith('Sox')]"
   ]
  },
  {
   "cell_type": "code",
   "execution_count": null,
   "id": "2056be22",
   "metadata": {},
   "outputs": [],
   "source": []
  }
 ],
 "metadata": {
  "kernelspec": {
   "display_name": "Python 3 (ipykernel)",
   "language": "python",
   "name": "python3"
  },
  "language_info": {
   "codemirror_mode": {
    "name": "ipython",
    "version": 3
   },
   "file_extension": ".py",
   "mimetype": "text/x-python",
   "name": "python",
   "nbconvert_exporter": "python",
   "pygments_lexer": "ipython3",
   "version": "3.7.11"
  }
 },
 "nbformat": 4,
 "nbformat_minor": 5
}

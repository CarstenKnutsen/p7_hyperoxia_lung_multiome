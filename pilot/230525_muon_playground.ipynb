{
 "cells": [
  {
   "cell_type": "code",
   "execution_count": null,
   "id": "023714cc",
   "metadata": {},
   "outputs": [],
   "source": [
    "import scanpy as sc\n",
    "import muon as mu\n",
    "import numpy as np\n",
    "import pandas as pd"
   ]
  },
  {
   "cell_type": "code",
   "execution_count": null,
   "id": "890031c5",
   "metadata": {},
   "outputs": [],
   "source": [
    "adata_rna = sc.read('/home/carsten/alvira_bioinformatics/postnatal_lung_multiome/data/single_cell_files/multiome_gex_processed_cell_typed_raw.gz.h5ad')\n",
    "adata_rna.obs_names"
   ]
  },
  {
   "cell_type": "code",
   "execution_count": null,
   "id": "6e2ccd9e",
   "metadata": {},
   "outputs": [],
   "source": [
    "adata_rna.obs_names.to_list"
   ]
  },
  {
   "cell_type": "code",
   "execution_count": null,
   "id": "98fd8338",
   "metadata": {},
   "outputs": [],
   "source": [
    "muon_adata = mu.read_10x_h5(\"/home/carsten/alvira_bioinformatics/postnatal_lung_multiome/data/cellranger_output/outs/filtered_feature_bc_matrix.h5\")"
   ]
  },
  {
   "cell_type": "code",
   "execution_count": null,
   "id": "ade1ec48",
   "metadata": {},
   "outputs": [],
   "source": [
    "adata_rna"
   ]
  },
  {
   "cell_type": "code",
   "execution_count": null,
   "id": "bffc5d69",
   "metadata": {},
   "outputs": [],
   "source": [
    "adata_atac = muon_adata['atac']\n",
    "adata_atac.var_names"
   ]
  },
  {
   "cell_type": "code",
   "execution_count": null,
   "id": "3dc510b7",
   "metadata": {},
   "outputs": [],
   "source": [
    "# tf-bc matrix\n",
    "import scipy.io\n",
    "import csv\n",
    "import os \n",
    "matrix_dir = \"/home/carsten/alvira_bioinformatics/postnatal_lung_multiome/data/cellranger_output/outs/analysis/tf_analysis/filtered_tf_bc_matrix\"\n",
    "adata_tf = sc.read_mtx(os.path.join(matrix_dir, \"matrix.mtx\"))\n",
    " \n",
    "motifs_path = os.path.join(matrix_dir, \"motifs.tsv\")\n",
    "var = pd.read_csv(motifs_path, sep='\\t', index_col =0,header=None)\n",
    "barcodes_path = os.path.join(matrix_dir, \"barcodes.tsv\")\n",
    "obs = pd.read_csv(barcodes_path, sep='\\t', index_col =0,header=None)\n",
    "adata_tf = adata_tf.T\n",
    "adata_tf.layers['raw']= adata_tf.X.copy()\n",
    "adata_tf.obs_names=obs.index.values\n",
    "adata_tf.var_names=var.index.values\n",
    "\n",
    "\n",
    "adata_tf = adata_tf[adata_rna.obs_names]\n",
    "adata_tf.obs = adata_rna.obs[['celltype','mouse','treatment','lineage']]\n",
    "\n",
    "\n",
    "adata_tf.X = adata_tf.layers['raw'].copy()\n",
    "# sc.pp.normalize_total(adata_tf)\n",
    "# sc.pp.log1p(adata_tf)\n",
    "sc.tl.rank_genes_groups(adata_tf, groupby ='celltype', method='wilcoxon')\n",
    "sc.pl.rank_genes_groups_dotplot(adata_tf, groupby='celltype', n_genes=1)\n"
   ]
  },
  {
   "cell_type": "code",
   "execution_count": null,
   "id": "f6b4b2ac",
   "metadata": {},
   "outputs": [],
   "source": [
    "tf_bed = pd.read_csv(\"/home/carsten/alvira_bioinformatics/postnatal_lung_multiome/data/cellranger_output/outs/analysis/tf_analysis/peak_motif_mapping.bed\",\n",
    "                     sep='\\t',\n",
    "                     index_col=None,\n",
    "                     header=None\n",
    "                    )\n"
   ]
  },
  {
   "cell_type": "code",
   "execution_count": null,
   "id": "a9e9be9a",
   "metadata": {},
   "outputs": [],
   "source": [
    "adata_atac.uns['atac']['peak_annotation'].loc['Slc6a2']"
   ]
  },
  {
   "cell_type": "code",
   "execution_count": null,
   "id": "6d406fe2",
   "metadata": {},
   "outputs": [],
   "source": [
    "var[1].loc[var[1].str.startswith('Sox')]"
   ]
  }
 ],
 "metadata": {
  "kernelspec": {
   "display_name": "Python 3 (ipykernel)",
   "language": "python",
   "name": "python3"
  },
  "language_info": {
   "codemirror_mode": {
    "name": "ipython",
    "version": 3
   },
   "file_extension": ".py",
   "mimetype": "text/x-python",
   "name": "python",
   "nbconvert_exporter": "python",
   "pygments_lexer": "ipython3",
   "version": "3.7.11"
  }
 },
 "nbformat": 4,
 "nbformat_minor": 5
}

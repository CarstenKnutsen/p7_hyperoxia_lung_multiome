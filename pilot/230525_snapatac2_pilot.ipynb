{
 "cells": [
  {
   "cell_type": "code",
   "execution_count": null,
   "id": "023714cc",
   "metadata": {},
   "outputs": [],
   "source": [
    "import scanpy as sc\n",
    "import muon as mu\n",
    "import numpy as np\n",
    "import pandas as pd\n",
    "import snapatac2 as snap"
   ]
  },
  {
   "cell_type": "code",
   "execution_count": null,
   "id": "236814b1",
   "metadata": {},
   "outputs": [],
   "source": [
    "adata_rna = sc.read('/home/carsten/alvira_bioinformatics/postnatal_lung_multiome/data/single_cell_files/multiome_gex_processed_cell_typed_raw.gz.h5ad')\n",
    "adata_rna.obs_names"
   ]
  },
  {
   "cell_type": "code",
   "execution_count": null,
   "id": "98fd8338",
   "metadata": {},
   "outputs": [],
   "source": [
    "fragment_file = '/home/carsten/alvira_bioinformatics/postnatal_lung_multiome/data/cellranger_output/outs_no_secondary/atac_fragments.tsv.gz'\n",
    "output_f = '/home/carsten/alvira_bioinformatics/postnatal_lung_multiome/data/single_cell_files/multiome_atac_pilot.h5ad'\n",
    "gtf = '/home/carsten/alvira_bioinformatics/postnatal_lung_multiome/data/refdata-cellranger-arc-mm10-2020-A-2.0.0/genes/genes.gtf'\n",
    "chrom_sizes_fn = '/home/carsten/alvira_bioinformatics/postnatal_lung_multiome/data/refdata-cellranger-arc-mm10-2020-A-2.0.0/sizes.genome'"
   ]
  },
  {
   "cell_type": "code",
   "execution_count": null,
   "id": "f3b8d89c",
   "metadata": {},
   "outputs": [],
   "source": []
  },
  {
   "cell_type": "code",
   "execution_count": null,
   "id": "ad0c82c6",
   "metadata": {},
   "outputs": [],
   "source": [
    "## Chrom sizes were genereated using command on next line \n",
    "# faidx refdata-cellranger-arc-mm10-2020-A-2.0.0/fasta/genome.fa -i chromsizes > sizes.genome\n",
    "chrom_sizes = pd.read_csv(chrom_sizes_fn, sep='\\t', header=None, index_col=0).to_dict()\n",
    "chrom_sizes = chrom_sizes[1]"
   ]
  },
  {
   "cell_type": "code",
   "execution_count": null,
   "id": "2b5ce44a",
   "metadata": {},
   "outputs": [],
   "source": [
    "%%time\n",
    "data = snap.pp.import_data(\n",
    "    fragment_file,\n",
    "    gene_anno=gtf,\n",
    "    chrom_size=chrom_sizes,\n",
    "    file=output_f,  # Optional\n",
    "    sorted_by_barcode=True,\n",
    ")\n",
    "data"
   ]
  },
  {
   "cell_type": "code",
   "execution_count": null,
   "id": "7e1bab5b",
   "metadata": {},
   "outputs": [],
   "source": [
    "snap.pl.tsse(data, interactive=False)"
   ]
  },
  {
   "cell_type": "code",
   "execution_count": null,
   "id": "b55abb2b",
   "metadata": {},
   "outputs": [],
   "source": [
    "print(len(adata_rna.obs_names.tolist()))\n",
    "print(len(data.obs_names))\n",
    "print(len(list(set(adata_rna.obs_names) & set(data.obs_names))))"
   ]
  },
  {
   "cell_type": "code",
   "execution_count": null,
   "id": "82cacf14",
   "metadata": {},
   "outputs": [],
   "source": [
    "data.subset(obs_indices=list(set(adata_rna.obs_names) & set(data.obs_names)))"
   ]
  },
  {
   "cell_type": "code",
   "execution_count": null,
   "id": "643d3fdb",
   "metadata": {},
   "outputs": [],
   "source": [
    "snap.pl.tsse(data, interactive=False)"
   ]
  },
  {
   "cell_type": "code",
   "execution_count": null,
   "id": "c7727b01",
   "metadata": {},
   "outputs": [],
   "source": [
    "data"
   ]
  },
  {
   "cell_type": "code",
   "execution_count": null,
   "id": "57ff6507",
   "metadata": {},
   "outputs": [],
   "source": [
    "len(set(data.obs_names))"
   ]
  },
  {
   "cell_type": "code",
   "execution_count": null,
   "id": "e882a5fb",
   "metadata": {},
   "outputs": [],
   "source": [
    "data_sub = \n",
    "data_sub"
   ]
  },
  {
   "cell_type": "code",
   "execution_count": null,
   "id": "788a1408",
   "metadata": {},
   "outputs": [],
   "source": [
    "%%time\n",
    "snap.pp.filter_cells(data, min_counts=5000, min_tsse=0, max_counts=1000000)\n",
    "data"
   ]
  }
 ],
 "metadata": {
  "kernelspec": {
   "display_name": "Python 3 (ipykernel)",
   "language": "python",
   "name": "python3"
  },
  "language_info": {
   "codemirror_mode": {
    "name": "ipython",
    "version": 3
   },
   "file_extension": ".py",
   "mimetype": "text/x-python",
   "name": "python",
   "nbconvert_exporter": "python",
   "pygments_lexer": "ipython3",
   "version": "3.7.11"
  }
 },
 "nbformat": 4,
 "nbformat_minor": 5
}

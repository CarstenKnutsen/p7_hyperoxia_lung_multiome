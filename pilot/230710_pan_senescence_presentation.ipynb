{
 "cells": [
  {
   "cell_type": "code",
   "execution_count": null,
   "id": "4bdc5657",
   "metadata": {},
   "outputs": [],
   "source": [
    "import numpy as np\n",
    "import pandas as pd\n",
    "import os\n",
    "import scanpy as sc\n",
    "import sys\n",
    "import muon as mu\n",
    "import muon.atac as ac\n",
    "import matplotlib.pyplot as plt\n",
    "import seaborn as sns\n",
    "\n",
    "\n",
    "figures = '/home/carsten/alvira_bioinformatics/postnatal_lung_multiome/data/pilot/230710_pan_senescence_presentation'\n",
    "sc_file = '/home/carsten/alvira_bioinformatics/postnatal_lung_multiome/data/single_cell_files'\n",
    "os.makedirs(figures, exist_ok=True)\n",
    "sc.set_figure_params(dpi=300, format=\"png\")\n",
    "sc.settings.figdir = figures\n",
    "\n"
   ]
  },
  {
   "cell_type": "code",
   "execution_count": null,
   "id": "10527025",
   "metadata": {},
   "outputs": [],
   "source": [
    "mudata = mu.read(f'{sc_file}/multi_all_cells_processed.h5mu')\n",
    "rna = mudata.mod['rna']\n",
    "atac = mudata.mod['atac']"
   ]
  },
  {
   "cell_type": "markdown",
   "id": "dedf9965",
   "metadata": {},
   "source": [
    "### make umap for all lineages"
   ]
  },
  {
   "cell_type": "code",
   "execution_count": null,
   "id": "3bfc458f",
   "metadata": {},
   "outputs": [],
   "source": [
    "\n",
    "fig, axs = plt.subplots(2, 2, figsize=(4,4))\n",
    "axs = axs.ravel()\n",
    "#     plt.subplots_adjust(wspace=0.8, hspace=0.8)\n",
    "ax_num = 0\n",
    "for color in ['lineage','treatment']: \n",
    "    for ind, adata in enumerate([rna,atac]):\n",
    "            if ax_num ==0:\n",
    "                legend_loc=None\n",
    "                title = 'RNA'\n",
    "            elif ax_num==1:\n",
    "                legend_loc='right margin'\n",
    "                title = 'ATAC'\n",
    "            elif ax_num==2:\n",
    "                legend_loc=None\n",
    "                title = ''\n",
    "            elif ax_num==3:\n",
    "                legend_loc='right margin'\n",
    "                title = ''\n",
    "\n",
    "            ax = sc.pl.embedding(adata,\n",
    "                                 basis=f'X_umap',\n",
    "                                 color=color,\n",
    "                                 legend_loc=legend_loc,\n",
    "                                 size=10,\n",
    "                                 legend_fontoutline=1,\n",
    "                                 legend_fontsize=10,\n",
    "                                 frameon=False,\n",
    "                                 title=title,\n",
    "                                 ax=axs[ax_num],\n",
    "                                 show=False\n",
    "\n",
    "                                 )\n",
    "            ax.title.set_size(10)\n",
    "            ax_num+=1\n",
    "\n",
    "fig.savefig(os.path.join(figures, f'umap_all.png'), dpi=300, bbox_inches='tight')"
   ]
  },
  {
   "cell_type": "code",
   "execution_count": null,
   "id": "350ebfde",
   "metadata": {},
   "outputs": [],
   "source": [
    "ac.pl.dotplot(atac, ['Cdh5','Epcam','Ptprc','Col1a1'], groupby='lineage', save='lineage_markers_atac.png')\n",
    "sc.pl.dotplot(rna, ['Cdh5','Epcam','Ptprc','Col1a1'], groupby='lineage', save='lineage_markers_rna.png')"
   ]
  },
  {
   "cell_type": "code",
   "execution_count": null,
   "id": "664cd7cf",
   "metadata": {},
   "outputs": [],
   "source": []
  },
  {
   "cell_type": "markdown",
   "id": "c18a0a16",
   "metadata": {},
   "source": [
    "### Make Umap for ATAC/RNA data for each lineage"
   ]
  },
  {
   "cell_type": "code",
   "execution_count": null,
   "id": "c5e742ca",
   "metadata": {},
   "outputs": [],
   "source": [
    "for ind, lin in enumerate(\n",
    "        rna.obs['lineage'].cat.categories):\n",
    "    fig, axs = plt.subplots(2, 2, figsize=(4,4))\n",
    "    axs = axs.ravel()\n",
    "#     plt.subplots_adjust(wspace=0.8, hspace=0.8)\n",
    "    ax_num = 0\n",
    "    for color in ['celltype','treatment']: \n",
    "        for ind, adata in enumerate([rna,atac]):\n",
    "                if ax_num ==0:\n",
    "                    legend_loc=None\n",
    "                    title = 'RNA'\n",
    "                elif ax_num==1:\n",
    "                    legend_loc='right margin'\n",
    "                    title = 'ATAC'\n",
    "                elif ax_num==2:\n",
    "                    legend_loc=None\n",
    "                    title = ''\n",
    "                elif ax_num==3:\n",
    "                    legend_loc='right margin'\n",
    "                    title = ''\n",
    "\n",
    "                ax = sc.pl.embedding(adata[adata.obs['lineage'] == lin],\n",
    "                                     basis=f'X_umap_{lin}',\n",
    "                                     color=color,\n",
    "                                     legend_loc=legend_loc,\n",
    "                                     size=10,\n",
    "                                     legend_fontoutline=1,\n",
    "                                     legend_fontsize=10,\n",
    "                                     frameon=False,\n",
    "                                     title=title,\n",
    "                                     ax=axs[ax_num],\n",
    "                                     show=False\n",
    "\n",
    "                                     )\n",
    "                ax.title.set_size(10)\n",
    "                ax_num+=1\n",
    "\n",
    "    fig.savefig(os.path.join(figures, f'umap_{lin}.png'), dpi=300, bbox_inches='tight')"
   ]
  },
  {
   "cell_type": "code",
   "execution_count": null,
   "id": "dd830aea",
   "metadata": {},
   "outputs": [],
   "source": [
    "ac.pl.embedding(atac[atac.obs['lineage'] == 'mesenchymal'],\n",
    "                                     basis=f'X_umap_mesenchymal',\n",
    "                                     color='Acta1',\n",
    "                                     size=10,\n",
    "                                     legend_fontoutline=1,\n",
    "                use_raw=False,\n",
    "                average='peak_type',\n",
    "                                     legend_fontsize=10,\n",
    "                                     )"
   ]
  },
  {
   "cell_type": "code",
   "execution_count": null,
   "id": "414d6f45",
   "metadata": {},
   "outputs": [],
   "source": [
    "atac[atac.obs['lineage'] == 'endothelial']"
   ]
  },
  {
   "cell_type": "markdown",
   "id": "346ee4e9",
   "metadata": {},
   "source": [
    "### Dotplots for Cdkn1a pan expression change"
   ]
  },
  {
   "cell_type": "code",
   "execution_count": null,
   "id": "b2f1e578",
   "metadata": {},
   "outputs": [],
   "source": [
    "genes=['Cdkn1a']\n",
    "cts  = sorted(rna.obs['celltype_abv'].unique())\n",
    "\n",
    "output_dict = {}\n",
    "for treatment in ['Normoxia', 'Hyperoxia']:\n",
    "    treat_adata = rna[rna.obs['treatment'] == treatment, genes]\n",
    "    obs = treat_adata[:,genes].X.toarray()\n",
    "    obs = pd.DataFrame(obs,columns=genes,index=treat_adata.obs['celltype_abv'])\n",
    "    average_obs = obs.groupby(level=0).mean()\n",
    "    obs_bool = obs.astype(bool)\n",
    "    fraction_obs = obs_bool.groupby(level=0).sum()/obs_bool.groupby(level=0).count()\n",
    "    output_dict[treatment] = {'average':average_obs,\n",
    "                              'fraction':fraction_obs}\n",
    "    for measure in ['average', 'fraction']:\n",
    "        output_dict[treatment][measure]['ct'] = output_dict[treatment][measure].index\n",
    "        output_dict[treatment][measure]['treatment'] = treatment\n",
    "        output_dict[treatment][measure].index = [f'{x}_{treatment}' for x in output_dict[treatment][measure].index]\n",
    "\n",
    "    \n",
    "\n",
    "final_average = pd.concat([output_dict['Hyperoxia']['average'],\n",
    "                           output_dict['Normoxia']['average']]).rename(columns = {'Cdkn1a': 'Cdkn1a average'})\n",
    "final_fraction = pd.concat([output_dict['Hyperoxia']['fraction'],\n",
    "                           output_dict['Normoxia']['fraction']]).rename(columns = {'Cdkn1a': 'Cdkn1a fraction'})\n",
    "final_average['Cdkn1a fraction'] = final_fraction['Cdkn1a fraction']\n",
    "final_average['ct'] = pd.Categorical(final_average['ct'], sorted(final_average['ct'].unique(), reverse = True))\n",
    "final_average['treatment'] = pd.Categorical(final_average['treatment'], sorted(final_average['treatment'].unique(), reverse = True))\n",
    "\n",
    "sns.relplot(\n",
    "    data=final_average,\n",
    "    x=\"ct\", \n",
    "    y=\"treatment\",\n",
    "    hue=\"Cdkn1a average\",\n",
    "    size=\"Cdkn1a fraction\",\n",
    "    palette=\"Reds\",\n",
    "    row_order = rna.obs['celltype_abv'].cat.categories.tolist(),\n",
    "    edgecolor=\".7\", \n",
    "    height=1.5, \n",
    "    aspect = 4, \n",
    "    sizes=(10, 200), \n",
    "    size_norm=(0, 1), legend = False\n",
    ")\n",
    "plt.grid(b=None)\n",
    "plt.xticks(rotation = 90)\n",
    "plt.savefig(f'{figures}/dotplot_Cdkn1a.png', dpi = 300, bbox_inches = 'tight')\n",
    "\n"
   ]
  },
  {
   "cell_type": "code",
   "execution_count": null,
   "id": "6d3865cd",
   "metadata": {},
   "outputs": [],
   "source": [
    "sc.get.obs_df(rna, ['Cdkn1a','treatment','celltype'])"
   ]
  },
  {
   "cell_type": "code",
   "execution_count": null,
   "id": "c00d9105",
   "metadata": {},
   "outputs": [],
   "source": [
    "treatments = rna.obs['treatment'].cat.categories\n",
    "cts = rna.obs['celltype_abv'].cat.categories\n",
    "\n",
    "df = sc.get.obs_df(rna, ['Cdkn1a','treatment','celltype_abv'])\n",
    "plot_df = pd.DataFrame(index=cts,\n",
    "                      columns = treatments,\n",
    "                      data=None)\n",
    "for treatment in treatments:\n",
    "    for ct in cts:\n",
    "        plot_df.at[ct,treatment] = df.loc[(df['treatment']==treatment)\n",
    "                                         &(df['celltype_abv']==ct)]['Cdkn1a'].mean()\n",
    "plot_df.fillna(0,inplace=True)\n",
    "\n",
    "fig, ax = plt.subplots(1, 1, figsize=(8,4))\n",
    "cbar_ax = fig.add_axes([.32,.7,.25,.01])\n",
    "sns.heatmap(\n",
    "plot_df.T,\n",
    "    cmap='Reds',\n",
    "    square=True,\n",
    "    xticklabels=True,\n",
    "    yticklabels=True,\n",
    "    linewidth=.5,\n",
    "    cbar_ax = cbar_ax,\n",
    "    cbar_kws={'orientation':'horizontal',\n",
    "             'label':'Log10(CPM)'},\n",
    "    ax=ax\n",
    ")\n",
    "for item in ([ax.title, ax.xaxis.label, ax.yaxis.label,] +\n",
    "             ax.get_xticklabels() + ax.get_yticklabels()):\n",
    "    item.set_fontsize(10)\n",
    "cbar_ax.tick_params(labelsize=10)\n",
    "cbar_ax.xaxis.label.set_size(10)\n",
    "fig.suptitle('Cdkn1a expression',fontsize=12,y = 0.8, x=0.45)\n",
    "fig.savefig(f'{figures}/rna_cdkn1a_heatmap.png')"
   ]
  },
  {
   "cell_type": "code",
   "execution_count": null,
   "id": "9d0f2d60",
   "metadata": {},
   "outputs": [],
   "source": [
    "atac.var.loc[atac.var['annotated_gene']=='Cdkn1a']"
   ]
  },
  {
   "cell_type": "code",
   "execution_count": null,
   "id": "cd0cf489",
   "metadata": {},
   "outputs": [],
   "source": [
    "atac.X = atac.layers['counts'].copy()\n",
    "sc.pp.normalize_total(atac, target_sum=1e6)\n",
    "sc.pp.log1p(atac, base=10)\n",
    "sc.pp.scale(atac)\n",
    "treatments = atac.obs['treatment'].cat.categories\n",
    "cts = atac.obs['celltype_abv'].cat.categories\n",
    "\n",
    "df = sc.get.obs_df(atac, ['chr17:29095049-29095880','treatment','celltype_abv'])\n",
    "plot_df = pd.DataFrame(index=cts,\n",
    "                      columns = treatments,\n",
    "                      data=None)\n",
    "for treatment in treatments:\n",
    "    for ct in cts:\n",
    "        plot_df.at[ct,treatment] = df.loc[(df['treatment']==treatment)\n",
    "                                         &(df['celltype_abv']==ct)]['chr17:29095049-29095880'].mean()\n",
    "plot_df.fillna(0,inplace=True)\n",
    "\n",
    "fig, ax = plt.subplots(1, 1, figsize=(8,4))\n",
    "cbar_ax = fig.add_axes([.32,.7,.25,.01])\n",
    "sns.heatmap(\n",
    "plot_df.T,\n",
    "    cmap='RdBu_r',\n",
    "    square=True,\n",
    "    center=0,\n",
    "    xticklabels=True,\n",
    "    yticklabels=True,\n",
    "    linewidth=.5,\n",
    "    cbar_ax = cbar_ax,\n",
    "    cbar_kws={'orientation':'horizontal'},\n",
    "    ax=ax\n",
    ")\n",
    "for item in ([ax.title, ax.xaxis.label, ax.yaxis.label,] +\n",
    "             ax.get_xticklabels() + ax.get_yticklabels()):\n",
    "    item.set_fontsize(10)\n",
    "cbar_ax.tick_params(labelsize=10)\n",
    "cbar_ax.xaxis.label.set_size(10)\n",
    "fig.suptitle('Cdkn1a_distal_1269',fontsize=12,y = 0.8, x=0.45)\n",
    "fig.savefig(f'{figures}/atac_cdkn1a_distal_1269_heatmap.png')"
   ]
  },
  {
   "cell_type": "code",
   "execution_count": null,
   "id": "5465bdc7",
   "metadata": {},
   "outputs": [],
   "source": [
    "atac\n",
    "sc.pl.dotplot(atac, ['chr17:29095049-29095880'], groupby=['celltype','treatment'])"
   ]
  },
  {
   "cell_type": "code",
   "execution_count": null,
   "id": "54dc814d",
   "metadata": {},
   "outputs": [],
   "source": [
    "rna.obs['celltype'].cat.categories.tolist()"
   ]
  },
  {
   "cell_type": "code",
   "execution_count": null,
   "id": "48db9a33",
   "metadata": {},
   "outputs": [],
   "source": [
    "matrix_dir = \"/home/carsten/alvira_bioinformatics/postnatal_lung_multiome/data/cellranger_output/230609_aggregate/outs/analysis/tf_analysis/filtered_tf_bc_matrix\"\n",
    "adata_tf = sc.read_mtx(os.path.join(matrix_dir, \"matrix.mtx\"))\n",
    "\n",
    "motifs_path = os.path.join(matrix_dir, \"motifs.tsv\")\n",
    "var = pd.read_csv(motifs_path, sep='\\t', index_col=0, header=None)\n",
    "barcodes_path = os.path.join(matrix_dir, \"barcodes.tsv\")\n",
    "obs = pd.read_csv(barcodes_path, sep='\\t', index_col=0, header=None)\n",
    "adata_tf = adata_tf.T\n",
    "adata_tf.layers['raw'] = adata_tf.X.copy()\n",
    "adata_tf.obs_names = obs.index.values\n",
    "adata_tf.var_names = var.index.values\n",
    "adata_tf = adata_tf[atac.obs_names,:]\n",
    "sc.pp.normalize_total(adata_tf, target_sum=1e6)\n",
    "sc.pp.log1p(adata_tf,base=10)\n",
    "sc.pp.scale(adata_tf)"
   ]
  },
  {
   "cell_type": "code",
   "execution_count": null,
   "id": "708f9964",
   "metadata": {},
   "outputs": [],
   "source": [
    "adata_tf.obs[['lineage','celltype','celltype_abv','treatment']] = atac.obs[['lineage','celltype','celltype_abv','treatment']]\n"
   ]
  },
  {
   "cell_type": "code",
   "execution_count": null,
   "id": "da89a406",
   "metadata": {},
   "outputs": [],
   "source": [
    "treatments = adata_tf.obs['treatment'].cat.categories\n",
    "cts = adata_tf.obs['celltype_abv'].cat.categories\n",
    "\n",
    "df = sc.get.obs_df(adata_tf, ['CENPB_MA0637.1','treatment','celltype_abv'])\n",
    "plot_df = pd.DataFrame(index=cts,\n",
    "                      columns = treatments,\n",
    "                      data=None)\n",
    "for treatment in treatments:\n",
    "    for ct in cts:\n",
    "        plot_df.at[ct,treatment] = df.loc[(df['treatment']==treatment)\n",
    "                                         &(df['celltype_abv']==ct)]['CENPB_MA0637.1'].mean()\n",
    "plot_df.fillna(0,inplace=True)\n",
    "\n",
    "fig, ax = plt.subplots(1, 1, figsize=(8,4))\n",
    "cbar_ax = fig.add_axes([.32,.7,.25,.01])\n",
    "sns.heatmap(\n",
    "plot_df.T,\n",
    "    cmap='RdBu_r',\n",
    "    center=0,\n",
    "    square=True,\n",
    "    xticklabels=True,\n",
    "    yticklabels=True,\n",
    "    linewidth=.5,\n",
    "    cbar_ax = cbar_ax,\n",
    "    cbar_kws={'orientation':'horizontal'},\n",
    "    ax=ax\n",
    ")\n",
    "for item in ([ax.title, ax.xaxis.label, ax.yaxis.label,] +\n",
    "             ax.get_xticklabels() + ax.get_yticklabels()):\n",
    "    item.set_fontsize(10)\n",
    "cbar_ax.tick_params(labelsize=10)\n",
    "cbar_ax.xaxis.label.set_size(10)\n",
    "fig.suptitle('CENPB_MA0637.1 accessibility',fontsize=12,y = 0.8, x=0.45)\n",
    "fig.savefig(f'{figures}/adata_tf_CENPB_MA0637.1_heatmap.png')"
   ]
  },
  {
   "cell_type": "code",
   "execution_count": null,
   "id": "c4a3eb6b",
   "metadata": {},
   "outputs": [],
   "source": []
  },
  {
   "cell_type": "code",
   "execution_count": null,
   "id": "ef95c5d1",
   "metadata": {},
   "outputs": [],
   "source": [
    "ac.pl.dotplot(atac[atac.obs['celltype_abv'].isin(['Ca1','Ca2','ICa'])],\n",
    "                   ['Slc20a1'], groupby='celltype' )\n"
   ]
  },
  {
   "cell_type": "code",
   "execution_count": null,
   "id": "6d607ede",
   "metadata": {},
   "outputs": [],
   "source": [
    "sc.pl.dotplot(rna[rna.obs['celltype_abv'].isin(['Ca1','ICa','Ca2'])],\n",
    "                   ['Kit','Kitl','Apln','Aplnr','Car4','Kdr'], groupby='celltype_abv',categories_order=['Ca1','ICa','Ca2'] )\n"
   ]
  },
  {
   "cell_type": "code",
   "execution_count": null,
   "id": "e730f77b",
   "metadata": {},
   "outputs": [],
   "source": [
    "sc.pl.violin(adata_tf, 'log1p_total_counts',groupby='treatment')"
   ]
  },
  {
   "cell_type": "code",
   "execution_count": null,
   "id": "1d828450",
   "metadata": {},
   "outputs": [],
   "source": [
    "atac.var.loc[atac.var['annotated_gene']=='Peg3']"
   ]
  }
 ],
 "metadata": {
  "kernelspec": {
   "display_name": "Python 3 (ipykernel)",
   "language": "python",
   "name": "python3"
  },
  "language_info": {
   "codemirror_mode": {
    "name": "ipython",
    "version": 3
   },
   "file_extension": ".py",
   "mimetype": "text/x-python",
   "name": "python",
   "nbconvert_exporter": "python",
   "pygments_lexer": "ipython3",
   "version": "3.7.11"
  }
 },
 "nbformat": 4,
 "nbformat_minor": 5
}

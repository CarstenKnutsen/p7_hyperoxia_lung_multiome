{
 "cells": [
  {
   "cell_type": "code",
   "execution_count": null,
   "id": "aa583d8b",
   "metadata": {},
   "outputs": [],
   "source": [
    "import scanpy as sc\n",
    "import sys\n",
    "import muon as mu\n",
    "\n",
    "sys.path.insert(1, \"/home/carsten/alvira_bioinformatics/lungsc_ck\")\n",
    "from ck_functions import anndataks_ck\n",
    "\n",
    "sc.set_figure_params(dpi=200, format=\"png\")\n",
    "\n",
    "    "
   ]
  },
  {
   "cell_type": "code",
   "execution_count": null,
   "id": "e534a1a3",
   "metadata": {},
   "outputs": [],
   "source": [
    "sc_file = '/home/carsten/alvira_bioinformatics/postnatal_lung_multiome/data/single_cell_files/share'\n"
   ]
  },
  {
   "cell_type": "code",
   "execution_count": null,
   "id": "5fcfd3fa",
   "metadata": {},
   "outputs": [],
   "source": [
    "rna = sc.read(f'{sc_file}/p7_multiome_rna_processed.gz.h5ad')\n",
    "atac = sc.read(f'{sc_file}/p7_multiome_atac_processed.gz.h5ad')\n",
    "tf = sc.read(f'{sc_file}/p7_multiome_tf_processed.gz.h5ad')"
   ]
  },
  {
   "cell_type": "code",
   "execution_count": null,
   "id": "0fe4ea9e",
   "metadata": {},
   "outputs": [],
   "source": [
    "import numpy as np\n",
    "atac.obs['log10_n_genes_by_counts'] = np.log10(atac.obs['n_genes_by_counts'])\n",
    "\n",
    "sc.pl.violin(atac, ['log10_n_genes_by_counts'],groupby='mouse')\n"
   ]
  },
  {
   "cell_type": "code",
   "execution_count": null,
   "id": "2d98ecc1",
   "metadata": {},
   "outputs": [],
   "source": [
    "sc.pl.violin(rna, ['log10_n_genes_by_umis'],groupby='mouse')\n"
   ]
  },
  {
   "cell_type": "code",
   "execution_count": null,
   "id": "1c9841cd",
   "metadata": {},
   "outputs": [],
   "source": [
    "rna"
   ]
  },
  {
   "cell_type": "code",
   "execution_count": null,
   "id": "1a489276",
   "metadata": {},
   "outputs": [],
   "source": [
    "rna[~rna.obs['celltype'].isna()]"
   ]
  },
  {
   "cell_type": "code",
   "execution_count": null,
   "id": "5776df60",
   "metadata": {},
   "outputs": [],
   "source": [
    "mu.pp.intersect_obs(mudata)"
   ]
  },
  {
   "cell_type": "code",
   "execution_count": null,
   "id": "e6d2de23",
   "metadata": {},
   "outputs": [],
   "source": [
    "mudata.update_obs()"
   ]
  },
  {
   "cell_type": "code",
   "execution_count": null,
   "id": "2cdfcbcd",
   "metadata": {},
   "outputs": [],
   "source": [
    "mu.pp.update(mudata)"
   ]
  },
  {
   "cell_type": "code",
   "execution_count": null,
   "id": "8319b438",
   "metadata": {},
   "outputs": [],
   "source": [
    "mudata.mod['atac'].obs[['lineage','celltype']] = mudata.mod['rna'].obs[['lineage','celltype']]"
   ]
  },
  {
   "cell_type": "code",
   "execution_count": null,
   "id": "5a4c08be",
   "metadata": {},
   "outputs": [],
   "source": [
    "for data in []"
   ]
  }
 ],
 "metadata": {
  "kernelspec": {
   "display_name": "Python 3 (ipykernel)",
   "language": "python",
   "name": "python3"
  },
  "language_info": {
   "codemirror_mode": {
    "name": "ipython",
    "version": 3
   },
   "file_extension": ".py",
   "mimetype": "text/x-python",
   "name": "python",
   "nbconvert_exporter": "python",
   "pygments_lexer": "ipython3",
   "version": "3.7.11"
  }
 },
 "nbformat": 4,
 "nbformat_minor": 5
}

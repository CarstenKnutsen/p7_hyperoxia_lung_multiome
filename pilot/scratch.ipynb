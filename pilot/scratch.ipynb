{
 "cells": [
  {
   "cell_type": "code",
   "execution_count": null,
   "id": "aa583d8b",
   "metadata": {},
   "outputs": [],
   "source": [
    "import scanpy as sc\n",
    "import sys\n",
    "import muon as mu\n",
    "\n",
    "sys.path.insert(1, \"/home/carsten/alvira_bioinformatics/lungsc_ck\")\n",
    "from ck_functions import anndataks_ck\n",
    "\n",
    "sc_file = '/home/carsten/alvira_bioinformatics/postnatal_lung_multiome/data/single_cell_files'\n",
    "sc.set_figure_params(dpi=200, format=\"png\")\n",
    "\n",
    "mudata = mu.read(f'{sc_file}/multi_all_cells_raw.h5mu')\n",
    "    "
   ]
  },
  {
   "cell_type": "code",
   "execution_count": null,
   "id": "5fcfd3fa",
   "metadata": {},
   "outputs": [],
   "source": [
    "mudata"
   ]
  },
  {
   "cell_type": "code",
   "execution_count": null,
   "id": "5776df60",
   "metadata": {},
   "outputs": [],
   "source": [
    "mu.pp.intersect_obs(mudata)"
   ]
  },
  {
   "cell_type": "code",
   "execution_count": null,
   "id": "e6d2de23",
   "metadata": {},
   "outputs": [],
   "source": [
    "mudata.update_obs()"
   ]
  },
  {
   "cell_type": "code",
   "execution_count": null,
   "id": "2cdfcbcd",
   "metadata": {},
   "outputs": [],
   "source": [
    "mu.pp.update(mudata)"
   ]
  },
  {
   "cell_type": "code",
   "execution_count": null,
   "id": "8319b438",
   "metadata": {},
   "outputs": [],
   "source": [
    "mudata.mod['atac'].obs[['lineage','celltype']] = mudata.mod['rna'].obs[['lineage','celltype']]"
   ]
  },
  {
   "cell_type": "code",
   "execution_count": null,
   "id": "5a4c08be",
   "metadata": {},
   "outputs": [],
   "source": [
    "for data in []"
   ]
  }
 ],
 "metadata": {
  "kernelspec": {
   "display_name": "Python 3 (ipykernel)",
   "language": "python",
   "name": "python3"
  },
  "language_info": {
   "codemirror_mode": {
    "name": "ipython",
    "version": 3
   },
   "file_extension": ".py",
   "mimetype": "text/x-python",
   "name": "python",
   "nbconvert_exporter": "python",
   "pygments_lexer": "ipython3",
   "version": "3.7.11"
  }
 },
 "nbformat": 4,
 "nbformat_minor": 5
}

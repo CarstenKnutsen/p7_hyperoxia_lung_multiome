{
 "cells": [
  {
   "cell_type": "markdown",
   "id": "22ef57e1",
   "metadata": {},
   "source": [
    "### Goal: Does down sampling TF/ATAC counts change the differential tests between normoxia and hyperoxia \n",
    "\n",
    "#### This is different than the one from July as the normalization happens when making the fragment file\n"
   ]
  },
  {
   "cell_type": "code",
   "execution_count": null,
   "id": "4bdc5657",
   "metadata": {},
   "outputs": [],
   "source": [
    "import numpy as np\n",
    "import pandas as pd\n",
    "import os\n",
    "import scanpy as sc\n",
    "import scanpy.external as sce\n",
    "import sys\n",
    "import muon as mu\n",
    "import muon.atac as ac\n",
    "import matplotlib.pyplot as plt\n",
    "import seaborn as sns\n",
    "from scipy.stats import linregress\n",
    "\n",
    "figures = '/home/carsten/alvira_bioinformatics/postnatal_lung_multiome/data/pilot/231102_downsampling_test2'\n",
    "sc_file = '/home/carsten/alvira_bioinformatics/postnatal_lung_multiome/data/single_cell_files/share'\n",
    "atac_dir = '/home/carsten/alvira_bioinformatics/postnatal_lung_multiome/data/figures/atac'\n",
    "rna_dir = '/home/carsten/alvira_bioinformatics/postnatal_lung_multiome/data/figures/rna'\n",
    "os.makedirs(figures, exist_ok=True)\n",
    "sc.set_figure_params(dpi=300, format=\"png\")\n",
    "sc.settings.figdir = figures\n"
   ]
  },
  {
   "cell_type": "code",
   "execution_count": null,
   "id": "feeeaa9a",
   "metadata": {},
   "outputs": [],
   "source": [
    "adata_rna = sc.read('/home/carsten/alvira_bioinformatics/postnatal_lung_multiome/data/single_cell_files/share/p7_multiome_rna_processed.gz.h5ad')\n",
    "adata_rna.obs_names"
   ]
  },
  {
   "cell_type": "code",
   "execution_count": null,
   "id": "00cc0eb7-2be7-48f3-a1d6-f79b021d973c",
   "metadata": {},
   "outputs": [],
   "source": [
    "sc.pl.violin(adata_rna, ['log10_total_umis','log10_n_genes_by_umis'], stripplot=False,inner='box',groupby='mouse')\n",
    "sc.pl.violin(adata_rna, ['log10_total_umis','log10_n_genes_by_umis'], stripplot=False,inner='box',groupby='treatment')\n",
    "print(adata_rna.obs.groupby('treatment')['total_umis'].sum())\n",
    "print(adata_rna.obs.groupby('treatment')['n_genes_by_umis'].sum())\n",
    "print(adata_rna.obs.groupby('mouse')['total_umis'].sum())\n",
    "print(adata_rna.obs.groupby('mouse')['n_genes_by_umis'].sum())"
   ]
  },
  {
   "cell_type": "code",
   "execution_count": null,
   "id": "a4703583-2272-4947-8811-fc46a12ba901",
   "metadata": {},
   "outputs": [],
   "source": []
  },
  {
   "cell_type": "code",
   "execution_count": null,
   "id": "7b1ee20c",
   "metadata": {},
   "outputs": [],
   "source": [
    "adata_dt = {}\n",
    "for run in ['230609_aggregate','231101_aggregate_normalized']:\n",
    "    mudata = mu.read_10x_h5(f'/home/carsten/alvira_bioinformatics/postnatal_lung_multiome/data/cellranger_output/{run}/outs/filtered_feature_bc_matrix.h5')\n",
    "    mouse = []\n",
    "    sex= []\n",
    "    for x in mudata.obs_names:\n",
    "        if x.split('-')[1] == '1':\n",
    "            mouse.append('nor-1')\n",
    "            sex.append('F')\n",
    "        elif x.split('-')[1] == '2':\n",
    "            mouse.append('nor-2')\n",
    "            sex.append('F')\n",
    "        elif x.split('-')[1] == '3':\n",
    "            mouse.append('nor-3')\n",
    "            sex.append('M')\n",
    "        elif x.split('-')[1] == '4':\n",
    "            mouse.append('hyp-1')\n",
    "            sex.append('F')\n",
    "        elif x.split('-')[1] == '5':\n",
    "            mouse.append('hyp-2')\n",
    "            sex.append('M')\n",
    "    mudata.obs['mouse'] = mouse\n",
    "    mudata.obs['sex'] = sex\n",
    "    mudata.obs['treatment'] = ['Hyperoxia' if x.split('-')[0].startswith('h') else 'Normoxia' for x in mudata.obs['mouse']]\n",
    "    mudata.obs['timepoint'] = 'P7'\n",
    "    atac = mudata.mod['atac']\n",
    "    atac.obs = mudata.obs\n",
    "    sc.pp.calculate_qc_metrics(atac, inplace=True)\n",
    "    sc.pl.violin(atac, ['total_counts','n_genes_by_counts'], stripplot=False,inner='box',groupby='mouse')\n",
    "    sc.pl.violin(atac, ['log1p_total_counts','log1p_n_genes_by_counts'], stripplot=False,inner='box',groupby='mouse')\n",
    "\n",
    "    print(atac.obs.groupby('treatment')['total_counts'].sum())\n",
    "    print(atac.obs.groupby('treatment')['n_genes_by_counts'].mean())\n",
    "    print(atac.obs.groupby('mouse')['total_counts'].sum())\n",
    "    print(atac.obs.groupby('mouse')['n_genes_by_counts'].mean())"
   ]
  },
  {
   "cell_type": "code",
   "execution_count": null,
   "id": "41d06071",
   "metadata": {},
   "outputs": [],
   "source": [
    "ct_df_dt={}\n",
    "for lineage in adata_rna.obs['lineage'].cat.categories:\n",
    "    lin_cts = adata_rna[adata_rna.obs['lineage']==lineage].obs['celltype'].cat.categories\n",
    "    for ct in lin_cts:\n",
    "        ct_df_dt[ct]={}\n",
    "        try:\n",
    "            df_sub = pd.read_csv(f'/home/carsten/alvira_bioinformatics/postnatal_lung_multiome/data/figures/atac/snapatac2_subsampled/dap_datf/{lineage}/hyperoxia/{ct}_hyperoxia_dap.csv')\n",
    "            df_all = pd.read_csv(f'/home/carsten/alvira_bioinformatics/postnatal_lung_multiome/data/figures/atac/snapatac2_all_frags/dap_datf/{lineage}/hyperoxia/{ct}_hyperoxia_dap.csv')\n",
    "        except:\n",
    "            print('NO COMP!!!')\n",
    "            print(ct)\n",
    "            print('continuing')\n",
    "        ct_df_dt[ct]['sub'] = df_sub\n",
    "        ct_df_dt[ct]['all'] = df_all\n",
    "        print(ct)\n",
    "        for df in [df_all, df_sub]:\n",
    "            conditions = [\n",
    "                df['adjusted p-value'].le(0.05) & df['log2(fold_change)'].ge(0.5),\n",
    "                df['adjusted p-value'].le(0.05) & df['log2(fold_change)'].le(-0.5)\n",
    "            ]\n",
    "            choices = ['Up','Down']\n",
    "            df['color'] = np.select(conditions, choices, default='NS')\n",
    "            df['-Log10(FDR)'] = -np.log10(df['adjusted p-value'])\n",
    "            print(df['color'].value_counts(normalize=True)*100)\n",
    "        fig, axs = plt.subplots(1,2,figsize=(4,2),sharey=True)\n",
    "        axs = axs.ravel()\n",
    "        axs[0] = sns.scatterplot(x=df_all['log2(fold_change)'],y=df_all['-Log10(FDR)'],hue = df_all['color'], palette=['blue','grey','red'], hue_order=['Down','NS','Up'],s=10,linewidth=0,ax=axs[0])\n",
    "        axs[0].get_legend().remove()\n",
    "        axs[0].set_title('All fragments')\n",
    "        axs[1] = sns.scatterplot(x=df_sub['log2(fold_change)'],y=df_sub['-Log10(FDR)'],hue = df_sub['color'], palette=['blue','grey','red'], hue_order=['Down','NS','Up'],s=10,linewidth=0,ax = axs[1])\n",
    "        plt.legend(bbox_to_anchor=(1.05, 1), loc='upper left', borderaxespad=0)\n",
    "        axs[1].set_title('Subsampled fragments')\n",
    "        fig.savefig(f'{figures}/{lineage}_{ct}_volcanos.png',bbox_inches='tight',dpi=300)\n",
    "        plt.close()"
   ]
  },
  {
   "cell_type": "code",
   "execution_count": null,
   "id": "4e01f480-aa16-4cb8-b60a-9314b8e5a0df",
   "metadata": {},
   "outputs": [],
   "source": [
    "ct_df_dt={}\n",
    "for lineage in ['endothelial']:\n",
    "    lin_cts = adata_rna[adata_rna.obs['lineage']==lineage].obs['celltype'].cat.categories\n",
    "    for ct in lin_cts:\n",
    "        ct_df_dt[ct]={}\n",
    "        try:\n",
    "            df_sub = pd.read_csv(f'/home/carsten/alvira_bioinformatics/postnatal_lung_multiome/data/figures/atac/snapatac2_subsampled/dap_datf/{lineage}/hyperoxia/{ct}_hyperoxia_dap.csv')\n",
    "            df_all = pd.read_csv(f'/home/carsten/alvira_bioinformatics/postnatal_lung_multiome/data/figures/atac/snapatac2_all_frags/dap_datf/{lineage}/hyperoxia/{ct}_hyperoxia_dap.csv')\n",
    "            df_ct_treat = pd.read_csv(f'/home/carsten/alvira_bioinformatics/postnatal_lung_multiome/data/figures/atac/snapatac2/dap_datf/{lineage}/hyperoxia/{ct}_hyperoxia_dap.csv')\n",
    "        except:\n",
    "            print('NO COMP!!!')\n",
    "            print(ct)\n",
    "            print('continuing')\n",
    "        ct_df_dt[ct]['sub'] = df_sub\n",
    "        ct_df_dt[ct]['all'] = df_all\n",
    "        print(ct)\n",
    "        for df in [df_all, df_sub,df_ct_treat]:\n",
    "            conditions = [\n",
    "                df['adjusted p-value'].le(0.05) & df['log2(fold_change)'].ge(0.5),\n",
    "                df['adjusted p-value'].le(0.05) & df['log2(fold_change)'].le(-0.5)\n",
    "            ]\n",
    "            choices = ['Up','Down']\n",
    "            df['color'] = np.select(conditions, choices, default='NS')\n",
    "            df['-Log10(FDR)'] = -np.log10(df['adjusted p-value'])\n",
    "            print(df['color'].value_counts(normalize=True)*100)\n",
    "        fig, axs = plt.subplots(1,3,figsize=(6,4),sharey=True)\n",
    "        axs = axs.ravel()\n",
    "        axs[0] = sns.scatterplot(x=df_all['log2(fold_change)'],y=df_all['-Log10(FDR)'],hue = df_all['color'], palette=['blue','grey','red'], hue_order=['Down','NS','Up'],s=10,linewidth=0,ax=axs[0])\n",
    "        axs[0].get_legend().remove()\n",
    "        axs[0].set_title('All')\n",
    "        axs[1] = sns.scatterplot(x=df_sub['log2(fold_change)'],y=df_sub['-Log10(FDR)'],hue = df_sub['color'], palette=['blue','grey','red'], hue_order=['Down','NS','Up'],s=10,linewidth=0,ax = axs[1])\n",
    "        axs[1].set_title('Subsampled')\n",
    "        axs[1].get_legend().remove()\n",
    "        axs[2] = sns.scatterplot(x=df_ct_treat['log2(fold_change)'],y=df_ct_treat['-Log10(FDR)'],hue = df_ct_treat['color'], palette=['blue','grey','red'], hue_order=['Down','NS','Up'],s=10,linewidth=0,ax=axs[2])\n",
    "        axs[2].get_legend().remove()\n",
    "        axs[2].set_title('Treatment peaks')\n",
    "\n",
    "        plt.legend(bbox_to_anchor=(1.05, 1), loc='upper left', borderaxespad=0)\n",
    "        fig.suptitle(ct)\n",
    "        fig.tight_layout()\n",
    "        fig.show()\n"
   ]
  },
  {
   "cell_type": "code",
   "execution_count": null,
   "id": "9eb95100-b492-41c1-8cab-fa0b1a0d5f1b",
   "metadata": {},
   "outputs": [],
   "source": [
    "#### Try subsample using scanpy from the \n",
    "adata_peak = sc.read(f\"/home/carsten/alvira_bioinformatics/postnatal_lung_multiome/data/single_cell_files/snapatac2_peak_matrix_all_frags.gz.h5ad\")\n",
    "sc.pp.calculate_qc_metrics(adata_peak, inplace=True)\n",
    "sc.pl.violin(adata_peak, 'log1p_total_counts', groupby='mouse')\n",
    "sc.pl.violin(adata_peak, 'n_genes_by_counts', groupby='mouse')\n",
    "# sc.pp.downsample_counts(adata_peak, counts_per_cell=5000,replace=True)\n",
    "# sc.pp.calculate_qc_metrics(adata_peak, inplace=True)\n",
    "# sc.pl.violin(adata_peak, 'log1p_total_counts', groupby='treatment')\n",
    "# sc.pl.violin(adata_peak, 'n_genes_by_counts', groupby='treatment')\n",
    "adata_peak.obs.groupby('mouse')['n_genes_by_counts'].sum()\n",
    "adata_peak.obs.groupby('mouse')['n_genes_by_counts'].sum()\n"
   ]
  },
  {
   "cell_type": "code",
   "execution_count": null,
   "id": "e0d145e0-c41e-476d-8477-a8f98e076b9b",
   "metadata": {},
   "outputs": [],
   "source": [
    "adata_peak.obs.groupby('mouse')['n_genes_by_counts'].sum()\n"
   ]
  },
  {
   "cell_type": "code",
   "execution_count": null,
   "id": "a2061751-b149-477b-8a57-c952e408ad85",
   "metadata": {},
   "outputs": [],
   "source": [
    "adata_peak.obs.groupby('mouse')['total_counts'].sum()\n"
   ]
  },
  {
   "cell_type": "code",
   "execution_count": null,
   "id": "5317732e",
   "metadata": {},
   "outputs": [],
   "source": [
    "import snapatac2 as snap\n",
    "da_output = figures\n",
    "sc_file = \"/home/carsten/alvira_bioinformatics/postnatal_lung_multiome/data/single_cell_files\"\n",
    "genome = \"/home/carsten/alvira_bioinformatics/postnatal_lung_multiome/data/refdata-cellranger-arc-mm10-2020-A-2.0.0/fasta/genome.fa\"\n",
    "peaks_fn = \"/home/carsten/alvira_bioinformatics/postnatal_lung_multiome/data/figures/atac/snapatac2_all_frags/peaks_df.csv\"\n",
    "peak_md_fn = \"/home/carsten/alvira_bioinformatics/postnatal_lung_multiome/data/figures/atac/snapatac2_all_frags/peak_homer_annotation.txt\"\n",
    "peak_md_cols = [\n",
    "    \"Chr\",\n",
    "    \"Start\",\n",
    "    \"End\",\n",
    "    \"Annotation\",\n",
    "    \"Distance to TSS\",\n",
    "    \"Nearest PromoterID\",\n",
    "    \"Gene Name\",\n",
    "    \"Gene Type\",\n",
    "]\n",
    "\n",
    "print(adata_peak)\n",
    "peak_md = pd.read_csv(peak_md_fn, sep=\"\\t\", index_col=0)\n",
    "peaks = pd.read_csv(peaks_fn, header=0, index_col=0)\n",
    "dap_dt = {}\n",
    "for lineage in sorted(['endothelial']):\n",
    "    lin_adata = adata_peak[adata_peak.obs[\"lineage\"] == lineage]\n",
    "    print(lin_adata)\n",
    "    for ct in sorted(lin_adata.obs[\"celltype\"].unique()):\n",
    "        ct_adata = lin_adata[lin_adata.obs[\"celltype\"] == ct]\n",
    "        ct_norm = ct_adata[ct_adata.obs[\"treatment\"] == \"Normoxia\"]\n",
    "        ct_hyper = ct_adata[ct_adata.obs[\"treatment\"] == \"Hyperoxia\"]\n",
    "        ct_peaks = peaks[peaks[f'{ct}'] == True]\n",
    "        if len(ct_norm.obs_names) < 10 or len(ct_hyper.obs_names) < 10:\n",
    "            print(ct)\n",
    "            print(\"Too few cells\")\n",
    "            continue\n",
    "        diff_df = snap.tl.diff_test(\n",
    "            adata_peak, ct_hyper.obs_names, ct_norm.obs_names,\n",
    "        )\n",
    "        diff_df_pd = diff_df.to_pandas()\n",
    "        dap_dt[ct] = diff_df_pd\n",
    "     "
   ]
  },
  {
   "cell_type": "code",
   "execution_count": null,
   "id": "5e2df430-e0b4-4a17-9a84-9944a4c8857b",
   "metadata": {},
   "outputs": [],
   "source": [
    "for ct in sorted(dap_dt.keys()):\n",
    "    print(ct)\n",
    "    df = dap_dt[ct]\n",
    "    conditions = [\n",
    "        df['adjusted p-value'].le(0.05) & df['log2(fold_change)'].ge(0.5),\n",
    "        df['adjusted p-value'].le(0.05) & df['log2(fold_change)'].le(-0.5)\n",
    "    ]\n",
    "    choices = ['Up','Down']\n",
    "    df['color'] = np.select(conditions, choices, default='NS')\n",
    "    df['-Log10(FDR)'] = -np.log10(df['adjusted p-value'])\n",
    "    print(df['color'].value_counts(normalize=True)*100)\n",
    "    fig, ax = plt.subplots(1,1,figsize=(4,4))\n",
    "    ax = sns.scatterplot(x=df['log2(fold_change)'],y=df['-Log10(FDR)'],hue = df['color'], palette=['blue','grey','red'], hue_order=['Down','NS','Up'],s=10,linewidth=0,ax=ax)\n",
    "    plt.legend(bbox_to_anchor=(1.05, 1), loc='upper left', borderaxespad=0)\n",
    "    fig.suptitle(ct)\n",
    "    fig.show()"
   ]
  },
  {
   "cell_type": "code",
   "execution_count": null,
   "id": "23ef8a91-ef51-47f4-93bb-9f75949508de",
   "metadata": {},
   "outputs": [],
   "source": [
    "adata_tile = sc.read(f\"/home/carsten/alvira_bioinformatics/postnatal_lung_multiome/data/single_cell_files/snapatac2_tile_matrix_all_frags.h5ad\")\n",
    "sc.pp.calculate_qc_metrics(adata_tile, inplace=True)\n"
   ]
  },
  {
   "cell_type": "code",
   "execution_count": null,
   "id": "d160e6d8-2a67-4af0-bbe5-9c3b547a18d8",
   "metadata": {},
   "outputs": [],
   "source": [
    "adata_tile.obs.groupby('mouse')['n_genes_by_counts'].sum()\n"
   ]
  },
  {
   "cell_type": "code",
   "execution_count": null,
   "id": "1594b716-1ee5-490b-9d36-e2f57f6d1c53",
   "metadata": {},
   "outputs": [],
   "source": [
    "adata_tile.obs.groupby('mouse')['total_counts'].sum()"
   ]
  },
  {
   "cell_type": "code",
   "execution_count": null,
   "id": "4c3762fc-40b0-4e66-94d8-e2a079860a25",
   "metadata": {},
   "outputs": [],
   "source": []
  }
 ],
 "metadata": {
  "kernelspec": {
   "display_name": "Python 3 (ipykernel)",
   "language": "python",
   "name": "python3"
  },
  "language_info": {
   "codemirror_mode": {
    "name": "ipython",
    "version": 3
   },
   "file_extension": ".py",
   "mimetype": "text/x-python",
   "name": "python",
   "nbconvert_exporter": "python",
   "pygments_lexer": "ipython3",
   "version": "3.9.18"
  }
 },
 "nbformat": 4,
 "nbformat_minor": 5
}

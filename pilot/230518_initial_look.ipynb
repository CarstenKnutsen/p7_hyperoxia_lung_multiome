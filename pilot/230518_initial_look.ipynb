{
 "cells": [
  {
   "cell_type": "code",
   "execution_count": null,
   "id": "023714cc",
   "metadata": {},
   "outputs": [],
   "source": [
    "import scanpy as sc\n",
    "import muon as mu\n",
    "import numpy as np\n",
    "import pandas as pd"
   ]
  },
  {
   "cell_type": "code",
   "execution_count": null,
   "id": "94fdfd10",
   "metadata": {},
   "outputs": [],
   "source": [
    "adata = sc.read('/home/carsten/alvira_bioinformatics/postnatal_lung_multiome/data/single_cell_files/multiome_gex_all_cells_raw.gz.h5ad')\n",
    "adata.var_names_make_unique()"
   ]
  },
  {
   "cell_type": "code",
   "execution_count": null,
   "id": "c77af876",
   "metadata": {},
   "outputs": [],
   "source": [
    "sc.pp.calculate_qc_metrics(adata, expr_type='umis',log1p=False,inplace=True)\n",
    "adata.obs['log10_umis']=np.log10(adata.obs['total_umis'])"
   ]
  },
  {
   "cell_type": "code",
   "execution_count": null,
   "id": "aa903217",
   "metadata": {},
   "outputs": [],
   "source": [
    "sc.pl.violin(adata, 'log10_umis',groupby='mouse')\n",
    "sc.pl.violin(adata, 'n_genes_by_umis',groupby='mouse')\n",
    "sc.pl.violin(adata, 'Cdkn1a',groupby='mouse')\n",
    "sc.pl.violin(adata, 'pct_umis_mt',groupby='mouse')\n"
   ]
  },
  {
   "cell_type": "code",
   "execution_count": null,
   "id": "030e639b",
   "metadata": {},
   "outputs": [],
   "source": [
    "pd.set_option('display.max_rows', None)\n",
    "dup_genes=adata.var.loc[adata.var['gene_name'].duplicated()]['gene_name'].values.tolist()\n",
    "duplicated_var = adata.var.loc[adata.var['gene_name'].isin(dup_genes)]\n",
    "duplicated_var.sort_values('gene_name').head(100)"
   ]
  },
  {
   "cell_type": "code",
   "execution_count": null,
   "id": "51222ea4",
   "metadata": {},
   "outputs": [],
   "source": []
  },
  {
   "cell_type": "code",
   "execution_count": null,
   "id": "c0a86e83",
   "metadata": {},
   "outputs": [],
   "source": [
    "adata"
   ]
  },
  {
   "cell_type": "code",
   "execution_count": null,
   "id": "a7bbb4e9",
   "metadata": {},
   "outputs": [],
   "source": [
    "adata.obs['Mouse'].value_counts()"
   ]
  },
  {
   "cell_type": "code",
   "execution_count": null,
   "id": "09d845bc",
   "metadata": {},
   "outputs": [],
   "source": []
  }
 ],
 "metadata": {
  "kernelspec": {
   "display_name": "Python 3 (ipykernel)",
   "language": "python",
   "name": "python3"
  },
  "language_info": {
   "codemirror_mode": {
    "name": "ipython",
    "version": 3
   },
   "file_extension": ".py",
   "mimetype": "text/x-python",
   "name": "python",
   "nbconvert_exporter": "python",
   "pygments_lexer": "ipython3",
   "version": "3.7.11"
  }
 },
 "nbformat": 4,
 "nbformat_minor": 5
}

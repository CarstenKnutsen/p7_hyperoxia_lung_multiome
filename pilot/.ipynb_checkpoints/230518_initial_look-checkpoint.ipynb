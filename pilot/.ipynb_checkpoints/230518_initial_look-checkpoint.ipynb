{
 "cells": [
  {
   "cell_type": "code",
   "execution_count": null,
   "id": "023714cc",
   "metadata": {},
   "outputs": [],
   "source": [
    "import scanpy as sc\n",
    "import muon as mu"
   ]
  },
  {
   "cell_type": "code",
   "execution_count": null,
   "id": "a667af34",
   "metadata": {},
   "outputs": [],
   "source": [
    "adata = sc.read('/home/carsten/alvira_bioinformatics/postnatal_lung_multiome/data/from_fabio/merged_nor-1_nor-2.h5ad')"
   ]
  },
  {
   "cell_type": "code",
   "execution_count": null,
   "id": "70eb7850",
   "metadata": {},
   "outputs": [],
   "source": [
    "adata"
   ]
  },
  {
   "cell_type": "code",
   "execution_count": null,
   "id": "0633408b",
   "metadata": {},
   "outputs": [],
   "source": [
    "peaks = adata[:, adata.var['feature_types']=='Peaks']"
   ]
  },
  {
   "cell_type": "code",
   "execution_count": null,
   "id": "172bef5f",
   "metadata": {},
   "outputs": [],
   "source": [
    "peak_array = peaks.X.todense()"
   ]
  },
  {
   "cell_type": "code",
   "execution_count": null,
   "id": "dd173fe0",
   "metadata": {},
   "outputs": [],
   "source": [
    "peak_array.min()"
   ]
  }
 ],
 "metadata": {
  "kernelspec": {
   "display_name": "Python 3 (ipykernel)",
   "language": "python",
   "name": "python3"
  },
  "language_info": {
   "codemirror_mode": {
    "name": "ipython",
    "version": 3
   },
   "file_extension": ".py",
   "mimetype": "text/x-python",
   "name": "python",
   "nbconvert_exporter": "python",
   "pygments_lexer": "ipython3",
   "version": "3.7.11"
  }
 },
 "nbformat": 4,
 "nbformat_minor": 5
}

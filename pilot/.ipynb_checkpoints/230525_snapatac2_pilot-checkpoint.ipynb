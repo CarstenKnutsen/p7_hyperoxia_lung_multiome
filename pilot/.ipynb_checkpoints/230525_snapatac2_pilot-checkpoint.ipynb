{
 "cells": [
  {
   "cell_type": "code",
   "execution_count": null,
   "id": "023714cc",
   "metadata": {},
   "outputs": [],
   "source": [
    "import scanpy as sc\n",
    "import muon as mu\n",
    "import numpy as np\n",
    "import pandas as pd"
   ]
  },
  {
   "cell_type": "code",
   "execution_count": null,
   "id": "98fd8338",
   "metadata": {},
   "outputs": [],
   "source": [
    "muon_adata = mu.read_10x_h5(\"/home/carsten/alvira_bioinformatics/postnatal_lung_multiome/data/outs/filtered_feature_bc_matrix.h5\")"
   ]
  },
  {
   "cell_type": "code",
   "execution_count": null,
   "id": "2b5ce44a",
   "metadata": {},
   "outputs": [],
   "source": [
    "muon_adata['rna'].var"
   ]
  },
  {
   "cell_type": "code",
   "execution_count": null,
   "id": "94fdfd10",
   "metadata": {},
   "outputs": [],
   "source": [
    "adata = sc.read('/home/carsten/alvira_bioinformatics/postnatal_lung_multiome/data/single_cell_files/multiome_gex_qc_trimmed_raw.gz.h5ad')"
   ]
  },
  {
   "cell_type": "code",
   "execution_count": null,
   "id": "09d845bc",
   "metadata": {},
   "outputs": [],
   "source": [
    "sc.pl.umap(adata, color ='Col4a1')"
   ]
  },
  {
   "cell_type": "code",
   "execution_count": null,
   "id": "562e0e37",
   "metadata": {},
   "outputs": [],
   "source": [
    "sc.pl.umap(adata, color ='mouse')"
   ]
  },
  {
   "cell_type": "code",
   "execution_count": null,
   "id": "c65ff296",
   "metadata": {},
   "outputs": [],
   "source": [
    "sc.pl.umap(adata, color ='doublet_score')"
   ]
  },
  {
   "cell_type": "code",
   "execution_count": null,
   "id": "fb160333",
   "metadata": {},
   "outputs": [],
   "source": [
    "sc.pl.umap(adata, color =['Epcam','Col1a1','Cdh5','Ptprc'])"
   ]
  },
  {
   "cell_type": "code",
   "execution_count": null,
   "id": "15defeb7",
   "metadata": {},
   "outputs": [],
   "source": [
    "adata.obs['predicted_doublet'] = adata.obs['predicted_doublet'].astype('str')\n",
    "sc.pl.umap(adata, color ='predicted_doublet')"
   ]
  },
  {
   "cell_type": "code",
   "execution_count": null,
   "id": "1c79ee22",
   "metadata": {},
   "outputs": [],
   "source": [
    "adata.obs['predicted_doublet'].value_counts(normalize=True)"
   ]
  },
  {
   "cell_type": "code",
   "execution_count": null,
   "id": "b13b038b",
   "metadata": {},
   "outputs": [],
   "source": [
    "adata.obs['mouse'].value_counts(normalize=True)"
   ]
  }
 ],
 "metadata": {
  "kernelspec": {
   "display_name": "Python 3 (ipykernel)",
   "language": "python",
   "name": "python3"
  },
  "language_info": {
   "codemirror_mode": {
    "name": "ipython",
    "version": 3
   },
   "file_extension": ".py",
   "mimetype": "text/x-python",
   "name": "python",
   "nbconvert_exporter": "python",
   "pygments_lexer": "ipython3",
   "version": "3.7.11"
  }
 },
 "nbformat": 4,
 "nbformat_minor": 5
}

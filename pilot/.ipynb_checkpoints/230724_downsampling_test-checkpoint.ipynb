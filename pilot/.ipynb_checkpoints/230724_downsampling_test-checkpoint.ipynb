{
 "cells": [
  {
   "cell_type": "markdown",
   "id": "22ef57e1",
   "metadata": {},
   "source": [
    "### Goal: Email request from Cristina on various endothelial cell questions\n",
    "#### Carsten did a great job creating lists of differentially accessible chromatin regions, but is there any utility to also identify shared regions of accessibility between certain cell types? For example, the veins and the Cap1 seem similar in some ways (including their expression of Peg3, Alpnr, etc.). Would it be meaningful to assess what accessibility they share, that are not shared by other EC?\n",
    "#### Can we also compare all Peg3 expressing cells versus non-Peg3 expressing cells?\n",
    "#### Can we look at the proliferating venous EC versus the non-venous proliferating EC?\n"
   ]
  },
  {
   "cell_type": "code",
   "execution_count": null,
   "id": "4bdc5657",
   "metadata": {},
   "outputs": [],
   "source": [
    "import numpy as np\n",
    "import pandas as pd\n",
    "import os\n",
    "import scanpy as sc\n",
    "import scanpy.external as sce\n",
    "import sys\n",
    "import muon as mu\n",
    "import muon.atac as ac\n",
    "import matplotlib.pyplot as plt\n",
    "import seaborn as sns\n",
    "figures = '/home/carsten/alvira_bioinformatics/postnatal_lung_multiome/data/pilot/230720_cristina_endo_questions'\n",
    "sc_file = '/home/carsten/alvira_bioinformatics/postnatal_lung_multiome/data/single_cell_files/share'\n",
    "atac_dir = '/home/carsten/alvira_bioinformatics/postnatal_lung_multiome/data/figures/atac'\n",
    "rna_dir = '/home/carsten/alvira_bioinformatics/postnatal_lung_multiome/data/figures/rna'\n",
    "os.makedirs(figures, exist_ok=True)\n",
    "sc.set_figure_params(dpi=300, format=\"png\")\n",
    "sc.settings.figdir = figures\n"
   ]
  },
  {
   "cell_type": "markdown",
   "id": "853c4a32",
   "metadata": {},
   "source": [
    "#### Load in multiomic data"
   ]
  },
  {
   "cell_type": "code",
   "execution_count": null,
   "id": "10527025",
   "metadata": {},
   "outputs": [],
   "source": [
    "rna = sc.read(f'{sc_file}/p7_multiome_rna_processed.gz.h5ad')\n",
    "atac = sc.read(f'{sc_file}/p7_multiome_atac_processed.gz.h5ad')\n",
    "tf = sc.read(f'{sc_file}/p7_multiome_tf_processed.gz.h5ad')"
   ]
  },
  {
   "cell_type": "code",
   "execution_count": null,
   "id": "589c0418",
   "metadata": {},
   "outputs": [],
   "source": [
    "atac.X = atac.layers['counts'].copy()\n",
    "sc.pp.normalize_total(atac,target_sum=1e6)\n",
    "sc.pp.log1p(atac,base=10)"
   ]
  },
  {
   "cell_type": "code",
   "execution_count": null,
   "id": "6a65b98e",
   "metadata": {},
   "outputs": [],
   "source": [
    "tf.var"
   ]
  },
  {
   "cell_type": "markdown",
   "id": "5be86686",
   "metadata": {},
   "source": [
    "###  the veins and the Cap1 seem similar in some ways (including their expression of Peg3, Alpnr, etc.). Would it be meaningful to assess what accessibility they share, that are not shared by other EC?"
   ]
  },
  {
   "cell_type": "markdown",
   "id": "c69f514c",
   "metadata": {},
   "source": [
    "#### Compare the regions that are DAPs in every comparison for venous and Cap1 vs rest of endos"
   ]
  },
  {
   "cell_type": "code",
   "execution_count": null,
   "id": "7345752f",
   "metadata": {},
   "outputs": [],
   "source": [
    "### Look through each cell-cell comparison and make sure it is above a certain level\n",
    "score_threshold=1\n",
    "number_cts_threshold = 3\n",
    "\n",
    "mod_dict = {'deg':rna,\n",
    "           'datf':tf,\n",
    "           'dap':atac}\n",
    "common_feature_dict = {}\n",
    "for mod in mod_dict.keys():\n",
    "    if mod in ['dap','datf']:\n",
    "        cell_type_comparisons =f'/home/carsten/alvira_bioinformatics/postnatal_lung_multiome/data/figures/atac/{mod}/endothelial/cell_type_comparisons/normoxia'\n",
    "    else:\n",
    "        cell_type_comparisons =f'/home/carsten/alvira_bioinformatics/postnatal_lung_multiome/data/figures/rna/{mod}/endothelial/cell_type_comparisons/normoxia'\n",
    "\n",
    "    adata = mod_dict[mod]\n",
    "    shared_gene_dict = {}\n",
    "    for ct in ['Cap1', 'Venous EC']:\n",
    "        comps = pd.read_excel(f'{cell_type_comparisons}/{ct}.xlsx',\n",
    "                         index_col=0,\n",
    "                         header=0,\n",
    "                         sheet_name=None)\n",
    "        gene_dict = {}\n",
    "        for direction in ['up', 'down']:\n",
    "            gene_dict[direction] = {}\n",
    "            gene_dict[direction]['celltypes'] ={}\n",
    "            for ct2 in rna[rna.obs['lineage']=='endothelial'].obs['celltype'].cat.categories:\n",
    "                if ct2 == 'Proliferating EC':\n",
    "                    continue\n",
    "                elif ct == ct2:\n",
    "                    continue\n",
    "                df = comps[f'{ct} v {ct2}']\n",
    "                if direction == 'up':\n",
    "                    df = df.loc[df['scores']>score_threshold]\n",
    "                else:\n",
    "                    df = df.loc[df['scores']<-score_threshold]\n",
    "                gene_ls = df.index.tolist()\n",
    "                for gene in gene_ls:\n",
    "                    if gene in gene_dict[direction]['celltypes'].keys():\n",
    "                        gene_dict[direction]['celltypes'][gene].append(ct2)\n",
    "                    else:\n",
    "                        gene_dict[direction]['celltypes'][gene] = [ct2]\n",
    "\n",
    "            gene_dict[direction]['number_cts'] = {}\n",
    "            for gene in gene_dict[direction]['celltypes'].keys():\n",
    "                gene_dict[direction]['number_cts'][gene] = len(gene_dict[direction]['celltypes'][gene])\n",
    "        shared_gene_dict[ct] = gene_dict\n",
    "    common_feature_dict[mod] = gene_dict\n",
    "    cap1_up = pd.Series(shared_gene_dict['Cap1']['up']['number_cts']).sort_values(ascending=False)\n",
    "    cap1_up = cap1_up.loc[cap1_up>=number_cts_threshold]\n",
    "\n",
    "    cap1_down = pd.Series(shared_gene_dict['Cap1']['down']['number_cts']).sort_values(ascending=False)\n",
    "    cap1_down = cap1_down.loc[cap1_down>=number_cts_threshold]\n",
    "\n",
    "    vec_up = pd.Series(shared_gene_dict['Venous EC']['up']['number_cts']).sort_values(ascending=False)\n",
    "    vec_up = vec_up.loc[vec_up>=number_cts_threshold]\n",
    "\n",
    "    vec_down = pd.Series(shared_gene_dict['Venous EC']['down']['number_cts']).sort_values(ascending=False)\n",
    "    vec_down = vec_down.loc[vec_down>=number_cts_threshold]\n",
    "    if mod=='dap':\n",
    "        up = atac.var[[\"annotated_gene\", \"peak_type\", \"distance\", \"tfs\"]].loc[[x for x in cap1_up.index if x in vec_up.index]]\n",
    "        down = atac.var[[\"annotated_gene\", \"peak_type\", \"distance\", \"tfs\"]].loc[[x for x in cap1_down.index if x in vec_down.index]]\n",
    "        plot_features=up.head(5).index.tolist() + down.head(5).index.tolist()\n",
    "\n",
    "    else:\n",
    "        up = [x for x in cap1_up.index if x in vec_up.index]\n",
    "        down = [x for x in cap1_down.index if x in vec_down.index]\n",
    "        plot_features = up[:5] + down[:5]\n",
    "\n",
    "    common_feature_dict[mod] = {'up':up,\n",
    "                               'down':down}\n",
    "    adata_norm = adata[(adata.obs['treatment']=='Normoxia')&\n",
    "                      (adata.obs['lineage']=='endothelial')]\n",
    "    sc.pl.dotplot(adata_norm,\n",
    "                  plot_features,\n",
    "                  standard_scale='var',\n",
    "                  groupby = 'celltype', \n",
    "                  title=f'Shared {mod}s by Cap1 and VEC')\n"
   ]
  },
  {
   "cell_type": "code",
   "execution_count": null,
   "id": "d1c39df6",
   "metadata": {},
   "outputs": [],
   "source": [
    "sc.pp.calculate_qc_metrics(tf, inplace=True)\n",
    "sc.pl.violin(tf[tf.obs['lineage']=='endothelial'], 'total_counts', groupby='celltype_abv')"
   ]
  },
  {
   "cell_type": "code",
   "execution_count": null,
   "id": "b448dd2f",
   "metadata": {},
   "outputs": [],
   "source": [
    "common_feature_dict['dap']['up']"
   ]
  },
  {
   "cell_type": "code",
   "execution_count": null,
   "id": "298f386c",
   "metadata": {},
   "outputs": [],
   "source": [
    "\n",
    "sc.pl.dotplot(atac[atac.obs['lineage']=='endothelial'],\n",
    "              common_feature_dict['dap']['up'].head(10).index.tolist(),\n",
    "              groupby = 'celltype')"
   ]
  },
  {
   "cell_type": "code",
   "execution_count": null,
   "id": "92048f23",
   "metadata": {},
   "outputs": [],
   "source": [
    "len(common_feature_dict['deg']['down'])"
   ]
  },
  {
   "cell_type": "code",
   "execution_count": null,
   "id": "0833c11b",
   "metadata": {},
   "outputs": [],
   "source": [
    "common_feature_dict['dap']['up'].loc[common_feature_dict['dap']['up']['annotated_gene'].str.contains('Peg3')]"
   ]
  },
  {
   "cell_type": "code",
   "execution_count": null,
   "id": "847f48fe",
   "metadata": {},
   "outputs": [],
   "source": [
    "common_feature_dict['dap']['down']"
   ]
  },
  {
   "cell_type": "code",
   "execution_count": null,
   "id": "13dca33a",
   "metadata": {},
   "outputs": [],
   "source": [
    "atac.var.loc[atac.var['annotated_gene'].str.contains('Peg3')]"
   ]
  },
  {
   "cell_type": "markdown",
   "id": "edbd6bde",
   "metadata": {},
   "source": [
    "#### Can we also compare all Peg3 expressing cells versus non-Peg3 expressing cells?"
   ]
  },
  {
   "cell_type": "code",
   "execution_count": null,
   "id": "2540a7ed",
   "metadata": {},
   "outputs": [],
   "source": [
    "rna_norm = rna[rna.obs['treatment']=='Normoxia']\n",
    "atac_norm = atac[atac.obs['treatment']=='Normoxia']\n",
    "rna_cap1 = rna_norm[rna_norm.obs['celltype']=='Cap1']\n",
    "rna_vec = rna_norm[rna_norm.obs['celltype']=='Venous EC']\n",
    "atac_cap1 = atac_norm[atac_norm.obs['celltype']=='Cap1']\n",
    "atac_vec = atac_norm[atac_norm.obs['celltype']=='Venous EC']"
   ]
  },
  {
   "cell_type": "code",
   "execution_count": null,
   "id": "d12ca3b0",
   "metadata": {},
   "outputs": [],
   "source": [
    "sc.pl.violin(rna_norm[rna_norm.obs['lineage']=='endothelial'],\n",
    "             'Peg3',\n",
    "            groupby = 'celltype_abv')\n",
    "sc.pl.dotplot(rna_norm[rna_norm.obs['lineage']=='endothelial'],\n",
    "             'Peg3',\n",
    "            groupby = 'celltype_abv')"
   ]
  },
  {
   "cell_type": "code",
   "execution_count": null,
   "id": "49fcbfac",
   "metadata": {},
   "outputs": [],
   "source": [
    "for adata in [rna_cap1, rna_vec]:\n",
    "    peg3 = sc.get.obs_df(adata,['Peg3'])\n",
    "    adata.obs['Peg3_high'] = peg3.gt(3)\n",
    "    adata.obs['Peg3_high'].replace({True:'Peg3hi',\n",
    "                                    False:'Peg3-'},\n",
    "                                   inplace=True)\n",
    "atac_cap1.obs['Peg3_high'] = rna_cap1[[x for x in rna_cap1.obs.index if x in atac_cap1.obs.index]].obs['Peg3_high']\n",
    "atac_vec.obs['Peg3_high'] = rna_vec[[x for x in rna_vec.obs.index if x in atac_vec.obs.index]].obs['Peg3_high']\n",
    "for adata in [atac_cap1, atac_vec]:\n",
    "    sc.tl.rank_genes_groups(\n",
    "            adata,\n",
    "            \"Peg3_high\",\n",
    "            method=\"wilcoxon\",\n",
    "            pts=True,\n",
    "            key_added=\"rank_peaks_groups_Peg3_high\",\n",
    "        )"
   ]
  },
  {
   "cell_type": "code",
   "execution_count": null,
   "id": "0513ce71",
   "metadata": {},
   "outputs": [],
   "source": [
    "cap1_df= sc.get.rank_genes_groups_df(\n",
    "                    atac_cap1, key=\"rank_peaks_groups_Peg3_high\",group='Peg3hi'\n",
    "                )\n",
    "cap1_df.index = cap1_df['names']\n",
    "vec_df= sc.get.rank_genes_groups_df(\n",
    "                    atac_vec, key=\"rank_peaks_groups_Peg3_high\",group='Peg3hi'\n",
    "                )\n",
    "vec_df.index = vec_df['names']\n",
    "score_df = pd.DataFrame(index = vec_df.index, \n",
    "                        columns = ['Cap1','VEC'],\n",
    "                        data=None)\n",
    "score_df['Cap1'] = cap1_df['scores']\n",
    "score_df['VEC'] = vec_df['scores']"
   ]
  },
  {
   "cell_type": "code",
   "execution_count": null,
   "id": "c090dd5d",
   "metadata": {},
   "outputs": [],
   "source": [
    "atac.var.loc[atac.var['annotated_gene'].str.contains('Peg3')].index"
   ]
  },
  {
   "cell_type": "code",
   "execution_count": null,
   "id": "712056b6",
   "metadata": {},
   "outputs": [],
   "source": [
    "score_df.loc[atac.var.loc[atac.var['annotated_gene'].str.contains('Peg3')].index]"
   ]
  },
  {
   "cell_type": "code",
   "execution_count": null,
   "id": "35aefb2e",
   "metadata": {},
   "outputs": [],
   "source": [
    "up = score_df[(score_df['Cap1']>1)&(score_df['VEC']>1)].sort_values('Cap1', ascending=False)\n",
    "down = score_df[(score_df['Cap1']<-1)&(score_df['VEC']<-1)].sort_values('Cap1', ascending=True)"
   ]
  },
  {
   "cell_type": "code",
   "execution_count": null,
   "id": "f2bf37b1",
   "metadata": {},
   "outputs": [],
   "source": [
    "atac.var[[\"annotated_gene\", \"peak_type\", \"distance\", \"tfs\"]].loc[up.index]"
   ]
  },
  {
   "cell_type": "code",
   "execution_count": null,
   "id": "cc4a46bc",
   "metadata": {},
   "outputs": [],
   "source": [
    "atac.var[[\"annotated_gene\", \"peak_type\", \"distance\", \"tfs\"]].loc[down.index]"
   ]
  },
  {
   "cell_type": "code",
   "execution_count": null,
   "id": "dfbbcc19",
   "metadata": {},
   "outputs": [],
   "source": [
    "sns.scatterplot(data = score_df,\n",
    "               x= 'VEC',\n",
    "               y='Cap1',\n",
    "               linewidth=0\n",
    "               )"
   ]
  },
  {
   "cell_type": "markdown",
   "id": "5aa6c2fe",
   "metadata": {},
   "source": [
    "#### Can we look at the proliferating venous EC versus the non-venous proliferating EC?\n"
   ]
  },
  {
   "cell_type": "code",
   "execution_count": null,
   "id": "2d295ae0",
   "metadata": {},
   "outputs": [],
   "source": [
    "prolif_ec = rna_norm[rna_norm.obs['celltype']=='Proliferating EC'].copy()\n",
    "sc.pp.highly_variable_genes(prolif_ec, n_top_genes=2000, batch_key=\"mouse\")\n",
    "sc.pp.pca(prolif_ec, use_highly_variable=True)\n",
    "sce.pp.harmony_integrate(prolif_ec, key='mouse', max_iter_harmony=20)\n",
    "sc.pp.neighbors(prolif_ec, use_rep='X_pca_harmony')\n",
    "sc.tl.leiden(\n",
    "    prolif_ec,\n",
    "    key_added=f\"leiden_prolif_ec\",\n",
    ")\n",
    "sc.tl.umap(prolif_ec, min_dist=0.5)\n",
    "sc.pl.umap(prolif_ec, color=['Kit','Car4','Gja5','Car8','Slc6a2','Ccl21a','leiden_prolif_ec', 'mouse'])"
   ]
  },
  {
   "cell_type": "code",
   "execution_count": null,
   "id": "ddc44e99",
   "metadata": {},
   "outputs": [],
   "source": [
    "rna"
   ]
  },
  {
   "cell_type": "code",
   "execution_count": null,
   "id": "2fd72bd7",
   "metadata": {},
   "outputs": [],
   "source": [
    "prolif_ec.obs.groupby('leiden_prolif_ec')['mouse'].value_counts()"
   ]
  },
  {
   "cell_type": "code",
   "execution_count": null,
   "id": "5f29c63a",
   "metadata": {},
   "outputs": [],
   "source": [
    "sc.tl.rank_genes_groups(prolif_ec, \"leiden_prolif_ec\", method=\"wilcoxon\")\n",
    "sc.pl.rank_genes_groups_dotplot(\n",
    "    prolif_ec,\n",
    "    groupby=\"leiden_prolif_ec\",\n",
    "    dendrogram=False,\n",
    "    n_genes=int(50 / len(prolif_ec.obs[\"leiden_prolif_ec\"].unique())),\n",
    ")\n",
    "sc.pl.dotplot(prolif_ec,['Car8','Slc6a2'], groupby='leiden_prolif_ec')"
   ]
  },
  {
   "cell_type": "code",
   "execution_count": null,
   "id": "08bad1b8",
   "metadata": {},
   "outputs": [],
   "source": [
    "pvecs = prolif_ec[prolif_ec.obs['leiden_prolif_ec']=='5'].obs_names.tolist()\n",
    "atac.obs['celltype_pvec'] = ['PVEC' if x in pvecs else y for x,y in zip(atac.obs_names, atac.obs['celltype'])]\n",
    "tf.obs['celltype_pvec'] = ['PVEC' if x in pvecs else y for x,y in zip(atac.obs_names, atac.obs['celltype'])]\n",
    "\n",
    "atac_norm = atac[atac.obs['treatment']=='Normoxia']\n",
    "dap_dict = {}\n",
    "for ct2 in ['Proliferating EC', 'Venous EC']:\n",
    "    cts_adata = atac_norm[atac_norm.obs[\"celltype_pvec\"].isin(['PVEC',\n",
    "                                                          ct2])]\n",
    "    sc.tl.rank_genes_groups(\n",
    "        cts_adata,\n",
    "        \"celltype_pvec\",\n",
    "        groups=['PVEC', ct2],\n",
    "        method=\"wilcoxon\",\n",
    "        pts=True,\n",
    "        key_added=\"rank_peaks_groups_celltype\",\n",
    "    )\n",
    "    df = sc.get.rank_genes_groups_df(\n",
    "        cts_adata, key=\"rank_peaks_groups_celltype\", group='PVEC'\n",
    "    )\n",
    "    df.index = df['names']\n",
    "    df[['gene', 'peak_type', 'distance', 'tfs']] = adata.var[['annotated_gene', 'peak_type', 'distance', 'tfs']]\n",
    "    dap_dict[ct2]=df\n",
    "\n",
    "score_df2 = pd.DataFrame(index = dap_dict['Venous EC'].names, \n",
    "                        columns = ['PEC','VEC'],\n",
    "                        data=None)\n",
    "score_df2['PEC'] = dap_dict['Proliferating EC']['scores']\n",
    "score_df2['VEC'] = dap_dict['Venous EC']['scores']\n",
    "sns.scatterplot(data = score_df2,\n",
    "               x= 'VEC',\n",
    "               y='PEC',\n",
    "               linewidth=0\n",
    "               )"
   ]
  },
  {
   "cell_type": "code",
   "execution_count": null,
   "id": "98a127ea",
   "metadata": {},
   "outputs": [],
   "source": [
    "up = score_df2[(score_df2['PEC']>2)&(score_df2['VEC']>2)].sort_values('PEC', ascending=False)\n",
    "up"
   ]
  },
  {
   "cell_type": "code",
   "execution_count": null,
   "id": "1f04bb00",
   "metadata": {},
   "outputs": [],
   "source": [
    "atac.var[[\"annotated_gene\", \"peak_type\", \"distance\", \"tfs\"]].loc[up.index]"
   ]
  },
  {
   "cell_type": "code",
   "execution_count": null,
   "id": "74c10e6f",
   "metadata": {},
   "outputs": [],
   "source": [
    "down = score_df2[(score_df2['PEC']<-2)&(score_df2['VEC']<-2)].sort_values('PEC', ascending=True)\n",
    "down"
   ]
  },
  {
   "cell_type": "code",
   "execution_count": null,
   "id": "e0615736",
   "metadata": {},
   "outputs": [],
   "source": [
    "atac.var[[\"annotated_gene\", \"peak_type\", \"distance\", \"tfs\"]].loc[down.index]"
   ]
  }
 ],
 "metadata": {
  "kernelspec": {
   "display_name": "Python 3 (ipykernel)",
   "language": "python",
   "name": "python3"
  },
  "language_info": {
   "codemirror_mode": {
    "name": "ipython",
    "version": 3
   },
   "file_extension": ".py",
   "mimetype": "text/x-python",
   "name": "python",
   "nbconvert_exporter": "python",
   "pygments_lexer": "ipython3",
   "version": "3.7.11"
  }
 },
 "nbformat": 4,
 "nbformat_minor": 5
}

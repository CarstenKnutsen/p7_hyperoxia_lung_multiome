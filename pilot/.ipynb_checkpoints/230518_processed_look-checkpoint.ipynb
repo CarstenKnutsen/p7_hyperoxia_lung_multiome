{
 "cells": [
  {
   "cell_type": "code",
   "execution_count": null,
   "id": "023714cc",
   "metadata": {},
   "outputs": [],
   "source": [
    "import scanpy as sc\n",
    "import muon as mu\n",
    "import numpy as np\n",
    "import pandas as pd"
   ]
  },
  {
   "cell_type": "code",
   "execution_count": null,
   "id": "94fdfd10",
   "metadata": {},
   "outputs": [],
   "source": [
    "adata = sc.read('/home/carsten/alvira_bioinformatics/postnatal_lung_multiome/data/single_cell_files/multiome_gex_all_cells_raw.gz.h5ad')"
   ]
  },
  {
   "cell_type": "code",
   "execution_count": null,
   "id": "030e639b",
   "metadata": {},
   "outputs": [],
   "source": [
    "adata"
   ]
  },
  {
   "cell_type": "code",
   "execution_count": null,
   "id": "c77af876",
   "metadata": {},
   "outputs": [],
   "source": [
    "sc.pp.calculate_qc_metrics(adata, expr_type='umis',qc_vars=['mt'],log1p=False,inplace=True)\n",
    "adata.obs['log10_umis']=np.log10(adata.obs['total_umis'])"
   ]
  },
  {
   "cell_type": "code",
   "execution_count": null,
   "id": "c0a86e83",
   "metadata": {},
   "outputs": [],
   "source": [
    "adata"
   ]
  },
  {
   "cell_type": "code",
   "execution_count": null,
   "id": "aa903217",
   "metadata": {},
   "outputs": [],
   "source": [
    "sc.pl.violin(adata, 'log10_umis',groupby='Mouse')\n",
    "sc.pl.violin(adata, 'n_genes_by_umis',groupby='Mouse')\n",
    "sc.pl.violin(adata, 'Cdkn1a',groupby='Mouse')\n",
    "sc.pl.violin(adata, 'pct_umis_mt',groupby='Mouse')\n"
   ]
  },
  {
   "cell_type": "code",
   "execution_count": null,
   "id": "a7bbb4e9",
   "metadata": {},
   "outputs": [],
   "source": [
    "adata.obs['Mouse'].value_counts()"
   ]
  },
  {
   "cell_type": "code",
   "execution_count": null,
   "id": "09d845bc",
   "metadata": {},
   "outputs": [],
   "source": []
  }
 ],
 "metadata": {
  "kernelspec": {
   "display_name": "Python 3 (ipykernel)",
   "language": "python",
   "name": "python3"
  },
  "language_info": {
   "codemirror_mode": {
    "name": "ipython",
    "version": 3
   },
   "file_extension": ".py",
   "mimetype": "text/x-python",
   "name": "python",
   "nbconvert_exporter": "python",
   "pygments_lexer": "ipython3",
   "version": "3.7.11"
  }
 },
 "nbformat": 4,
 "nbformat_minor": 5
}

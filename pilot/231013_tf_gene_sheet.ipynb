{
 "cells": [
  {
   "cell_type": "markdown",
   "id": "22ef57e1",
   "metadata": {},
   "source": [
    "### Goal: Make a TF gene sheet"
   ]
  },
  {
   "cell_type": "code",
   "execution_count": null,
   "id": "4bdc5657",
   "metadata": {},
   "outputs": [],
   "source": [
    "import numpy as np\n",
    "import pandas as pd\n",
    "import os\n",
    "import scanpy as sc\n",
    "import scanpy.external as sce\n",
    "import sys\n",
    "import muon as mu\n",
    "import muon.atac as ac\n",
    "import matplotlib.pyplot as plt\n",
    "import seaborn as sns\n",
    "figures = '/home/carsten/alvira_bioinformatics/postnatal_lung_multiome/data/pilot/231013_tf_gene_sheet'\n",
    "sc_file = '/home/carsten/alvira_bioinformatics/postnatal_lung_multiome/data/single_cell_files/share'\n",
    "atac_dir = '/home/carsten/alvira_bioinformatics/postnatal_lung_multiome/data/figures/atac'\n",
    "rna_dir = '/home/carsten/alvira_bioinformatics/postnatal_lung_multiome/data/figures/rna'\n",
    "os.makedirs(figures, exist_ok=True)\n",
    "sc.set_figure_params(dpi=300, format=\"png\")\n",
    "sc.settings.figdir = figures\n"
   ]
  },
  {
   "cell_type": "markdown",
   "id": "853c4a32",
   "metadata": {},
   "source": [
    "#### Load in multiomic data"
   ]
  },
  {
   "cell_type": "code",
   "execution_count": null,
   "id": "10527025",
   "metadata": {},
   "outputs": [],
   "source": [
    "rna = sc.read(f'{sc_file}/p7_multiome_rna_processed.gz.h5ad')\n",
    "atac = sc.read(f'{sc_file}/p7_multiome_atac_processed.gz.h5ad')\n",
    "tf = sc.read(f'{sc_file}/p7_multiome_tf_processed.gz.h5ad')"
   ]
  },
  {
   "cell_type": "code",
   "execution_count": null,
   "id": "e4f758bf",
   "metadata": {},
   "outputs": [],
   "source": [
    "rna.X = rna.layers['soupx'].copy()\n",
    "sc.pp.normalize_total(rna,target_sum=1e4)\n",
    "sc.pp.log1p(rna,base=10)"
   ]
  },
  {
   "cell_type": "code",
   "execution_count": null,
   "id": "589c0418",
   "metadata": {},
   "outputs": [],
   "source": [
    "atac.X = atac.layers['counts'].copy()\n",
    "sc.pp.normalize_total(atac,target_sum=1e4)\n",
    "sc.pp.log1p(atac,base=10)"
   ]
  },
  {
   "cell_type": "code",
   "execution_count": null,
   "id": "40b7ff02",
   "metadata": {},
   "outputs": [],
   "source": [
    "df_tf_gene = atac.var[['tfs','annotated_gene']]\n",
    "df = atac.var[['tfs','annotated_gene']].copy()\n",
    "df = df.loc[df['annotated_gene']!='']\n",
    "df = df.loc[df['tfs'].isna()==False]\n",
    "gene_tf_dt = {}\n",
    "tf_gene_dt={}\n",
    "for row in df.index:\n",
    "    df_row = df.loc[row]\n",
    "    genes = df_row['annotated_gene'].split(',')\n",
    "    tfs = df_row['tfs'].split('&')\n",
    "    for gene in genes:\n",
    "        if gene in gene_tf_dt.keys():\n",
    "            gene_tf_dt[gene] = sorted(set(gene_tf_dt[gene]+tfs))\n",
    "        else:\n",
    "            gene_tf_dt[gene] = sorted(set(tfs))\n",
    "    for tf in tfs:\n",
    "        if tf in tf_gene_dt.keys():\n",
    "            tf_gene_dt[tf] = sorted(set(tf_gene_dt[tf]+genes))\n",
    "        else:\n",
    "            tf_gene_dt[tf] = sorted(set(genes))\n",
    "        \n",
    "            \n",
    "    "
   ]
  },
  {
   "cell_type": "code",
   "execution_count": null,
   "id": "152bb08f",
   "metadata": {},
   "outputs": [],
   "source": [
    "with pd.ExcelWriter(\n",
    "                f\"{figures}/gene_tf_map.xlsx\", engine=\"xlsxwriter\"\n",
    "        ) as writer:\n",
    "    pd.Series(gene_tf_dt,name='TFs').to_excel(writer, sheet_name=f\"gene to tf\")\n",
    "    pd.Series(tf_gene_dt,name='Genes').to_excel(writer, sheet_name=f\"tf to gene\")"
   ]
  },
  {
   "cell_type": "code",
   "execution_count": null,
   "id": "b551727b",
   "metadata": {},
   "outputs": [],
   "source": []
  }
 ],
 "metadata": {
  "kernelspec": {
   "display_name": "Python 3 (ipykernel)",
   "language": "python",
   "name": "python3"
  },
  "language_info": {
   "codemirror_mode": {
    "name": "ipython",
    "version": 3
   },
   "file_extension": ".py",
   "mimetype": "text/x-python",
   "name": "python",
   "nbconvert_exporter": "python",
   "pygments_lexer": "ipython3",
   "version": "3.7.11"
  }
 },
 "nbformat": 4,
 "nbformat_minor": 5
}

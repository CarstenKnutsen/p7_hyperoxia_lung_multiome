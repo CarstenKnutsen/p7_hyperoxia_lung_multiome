{
 "cells": [
  {
   "cell_type": "markdown",
   "id": "22ef57e1",
   "metadata": {},
   "source": [
    "### Goal: Does down sampling TF counts change the differential tests between normoxia and hyperoxia \n"
   ]
  },
  {
   "cell_type": "code",
   "execution_count": null,
   "id": "4bdc5657",
   "metadata": {},
   "outputs": [],
   "source": [
    "import numpy as np\n",
    "import pandas as pd\n",
    "import os\n",
    "import scanpy as sc\n",
    "import scanpy.external as sce\n",
    "import sys\n",
    "import muon as mu\n",
    "import muon.atac as ac\n",
    "import matplotlib.pyplot as plt\n",
    "import seaborn as sns\n",
    "from scipy.stats import linregress\n",
    "\n",
    "figures = '/home/carsten/alvira_bioinformatics/postnatal_lung_multiome/data/pilot/230724_downsampling_test'\n",
    "sc_file = '/home/carsten/alvira_bioinformatics/postnatal_lung_multiome/data/single_cell_files/share'\n",
    "atac_dir = '/home/carsten/alvira_bioinformatics/postnatal_lung_multiome/data/figures/atac'\n",
    "rna_dir = '/home/carsten/alvira_bioinformatics/postnatal_lung_multiome/data/figures/rna'\n",
    "os.makedirs(figures, exist_ok=True)\n",
    "sc.set_figure_params(dpi=300, format=\"png\")\n",
    "sc.settings.figdir = figures\n"
   ]
  },
  {
   "cell_type": "markdown",
   "id": "853c4a32",
   "metadata": {},
   "source": [
    "#### Load in Tf data and run on  un-downsampled data"
   ]
  },
  {
   "cell_type": "code",
   "execution_count": null,
   "id": "10527025",
   "metadata": {},
   "outputs": [],
   "source": [
    "tf = sc.read(f'{sc_file}/p7_multiome_tf_processed.gz.h5ad')\n",
    "\n",
    "sc.pp.calculate_qc_metrics(tf, inplace=True)\n",
    "print(tf.obs.groupby('treatment')['total_counts'].mean())\n",
    "sc.pl.violin(tf, 'log1p_total_counts', groupby='treatment')\n",
    "sc.pl.violin(tf, 'n_genes_by_counts', groupby='treatment')\n",
    "\n",
    "sc.pp.normalize_total(tf, target_sum=1e4)\n",
    "sc.pp.log1p(tf, base=10)"
   ]
  },
  {
   "cell_type": "code",
   "execution_count": null,
   "id": "d8bb90c1",
   "metadata": {},
   "outputs": [],
   "source": [
    "tf_endo = tf[tf.obs['lineage']=='endothelial']\n",
    "hyp_deg_dict = {}\n",
    "for ct in tf_endo.obs[\"celltype\"].cat.categories:\n",
    "    ct_adata_tf = tf_endo[tf_endo.obs[\"celltype\"] == ct]\n",
    "    try:\n",
    "        sc.tl.rank_genes_groups(\n",
    "            ct_adata_tf,\n",
    "            \"treatment\",\n",
    "            method=\"wilcoxon\",\n",
    "            pts=True,\n",
    "            key_added=\"rank_peaks_groups_treatment\",\n",
    "        )\n",
    "        df = sc.get.rank_genes_groups_df(\n",
    "            ct_adata_tf,\n",
    "            key=\"rank_peaks_groups_treatment\",\n",
    "            group=\"Hyperoxia\",\n",
    "        )\n",
    "        df.index = df['names']\n",
    "        hyp_deg_dict[ct]=df\n",
    "    except:\n",
    "        print(ct)\n",
    "        print('no hyperoxia comparison')\n",
    "        continue"
   ]
  },
  {
   "cell_type": "markdown",
   "id": "e3bdaaea",
   "metadata": {},
   "source": [
    "#### Load in Tf data and run hyperoxia datf on downsampled data"
   ]
  },
  {
   "cell_type": "code",
   "execution_count": null,
   "id": "ae76a610",
   "metadata": {},
   "outputs": [],
   "source": [
    "tf = sc.read(f'{sc_file}/p7_multiome_tf_processed.gz.h5ad')\n",
    "sc.pp.calculate_qc_metrics(tf, inplace=True)\n"
   ]
  },
  {
   "cell_type": "code",
   "execution_count": null,
   "id": "075a7f48",
   "metadata": {},
   "outputs": [],
   "source": [
    "sc.pp.downsample_counts(tf, counts_per_cell=10000,replace=True)\n",
    "sc.pp.calculate_qc_metrics(tf, inplace=True)\n",
    "sc.pl.violin(tf, 'log1p_total_counts', groupby='treatment')\n",
    "sc.pl.violin(tf, 'n_genes_by_counts', groupby='treatment')\n",
    "sc.pp.normalize_total(tf, target_sum=1e4)\n",
    "sc.pp.log1p(tf, base=10)"
   ]
  },
  {
   "cell_type": "code",
   "execution_count": null,
   "id": "11efdd0b",
   "metadata": {},
   "outputs": [],
   "source": [
    "tf_endo = tf[tf.obs['lineage']=='endothelial']\n",
    "hyp_deg_dict_ds = {}\n",
    "for ct in tf_endo.obs[\"celltype\"].cat.categories:\n",
    "    ct_adata_tf = tf_endo[tf_endo.obs[\"celltype\"] == ct]\n",
    "    try:\n",
    "        sc.tl.rank_genes_groups(\n",
    "            ct_adata_tf,\n",
    "            \"treatment\",\n",
    "            method=\"wilcoxon\",\n",
    "            pts=True,\n",
    "            key_added=\"rank_peaks_groups_treatment\",\n",
    "        )\n",
    "        df = sc.get.rank_genes_groups_df(\n",
    "            ct_adata_tf,\n",
    "            key=\"rank_peaks_groups_treatment\",\n",
    "            group=\"Hyperoxia\",\n",
    "        )\n",
    "        df.index = df['names']\n",
    "        hyp_deg_dict_ds[ct]=df\n",
    "    except:\n",
    "        print(ct)\n",
    "        print('no hyperoxia comparison')\n",
    "        continue"
   ]
  },
  {
   "cell_type": "markdown",
   "id": "59676ee2",
   "metadata": {},
   "source": [
    "### Calculate regression for each ct and plot scores"
   ]
  },
  {
   "cell_type": "code",
   "execution_count": null,
   "id": "fcdbf0e1",
   "metadata": {},
   "outputs": [],
   "source": [
    "for ct in tf_endo.obs[\"celltype\"].cat.categories:\n",
    "    print(ct)\n",
    "    score_df = pd.DataFrame(index = hyp_deg_dict[ct].index, \n",
    "                        columns = ['normal','downsampled'],\n",
    "                        data=None)\n",
    "    score_df['normal'] = hyp_deg_dict[ct]['scores']\n",
    "    score_df['downsampled'] = hyp_deg_dict_ds[ct]['scores']\n",
    "    linr = linregress(score_df['normal'].to_numpy(),\n",
    "                      score_df['downsampled'].to_numpy())\n",
    "    print(linr)\n",
    "    sns.scatterplot(x=score_df['normal'], y=score_df['downsampled'], alpha=0.3, linewidth=0)\n",
    "    plt.xticks([-15,-10,-5,0,5,10,15])\n",
    "    plt.yticks([-15,-10,-5,0,5,10,15])\n",
    "\n",
    "    "
   ]
  },
  {
   "cell_type": "code",
   "execution_count": null,
   "id": "887c566e",
   "metadata": {},
   "outputs": [],
   "source": [
    "score_df"
   ]
  },
  {
   "cell_type": "markdown",
   "id": "71ac4ab0",
   "metadata": {},
   "source": [
    "# ATAC"
   ]
  },
  {
   "cell_type": "markdown",
   "id": "68b0f286",
   "metadata": {},
   "source": [
    "#### Load in atac data and run on  un-downsampled data"
   ]
  },
  {
   "cell_type": "code",
   "execution_count": null,
   "id": "45290f64",
   "metadata": {},
   "outputs": [],
   "source": [
    "atac = sc.read(f'{sc_file}/p7_multiome_atac_processed.gz.h5ad')\n",
    "\n",
    "sc.pp.calculate_qc_metrics(atac, inplace=True)\n",
    "print(atac.obs.groupby('treatment')['total_counts'].mean())\n",
    "sc.pl.violin(atac, 'log1p_total_counts', groupby='treatment')\n",
    "sc.pl.violin(atac, 'log1p_n_genes_by_counts', groupby='treatment')\n",
    "sc.pp.normalize_total(atac, target_sum=1e4)\n",
    "sc.pp.log1p(atac, base=10)"
   ]
  },
  {
   "cell_type": "code",
   "execution_count": null,
   "id": "9e4c8549",
   "metadata": {},
   "outputs": [],
   "source": [
    "atac"
   ]
  },
  {
   "cell_type": "code",
   "execution_count": null,
   "id": "a8abfa65",
   "metadata": {},
   "outputs": [],
   "source": [
    "atac_endo = atac[atac.obs['lineage']=='endothelial']\n",
    "hyp_deg_dict = {}\n",
    "for ct in atac_endo.obs[\"celltype\"].cat.categories:\n",
    "    ct_adata_atac = atac_endo[atac_endo.obs[\"celltype\"] == ct]\n",
    "    try:\n",
    "        sc.tl.rank_genes_groups(\n",
    "            ct_adata_atac,\n",
    "            \"treatment\",\n",
    "            method=\"wilcoxon\",\n",
    "            pts=True,\n",
    "            key_added=\"rank_peaks_groups_treatment\",\n",
    "        )\n",
    "        df = sc.get.rank_genes_groups_df(\n",
    "            ct_adata_atac,\n",
    "            key=\"rank_peaks_groups_treatment\",\n",
    "            group=\"Hyperoxia\",\n",
    "        )\n",
    "        df.index = df['names']\n",
    "        hyp_deg_dict[ct]=df\n",
    "    except:\n",
    "        print(ct)\n",
    "        print('no hyperoxia comparison')\n",
    "        continue"
   ]
  },
  {
   "cell_type": "markdown",
   "id": "322869be",
   "metadata": {},
   "source": [
    "#### Load in atac data and run hyperoxia dap on downsampled data"
   ]
  },
  {
   "cell_type": "code",
   "execution_count": null,
   "id": "ebd419e4",
   "metadata": {},
   "outputs": [],
   "source": [
    "atac = sc.read(f'{sc_file}/p7_multiome_atac_processed.gz.h5ad')\n",
    "sc.pp.calculate_qc_metrics(atac, inplace=True)\n"
   ]
  },
  {
   "cell_type": "code",
   "execution_count": null,
   "id": "d8275790",
   "metadata": {},
   "outputs": [],
   "source": [
    "sc.pp.downsample_counts(atac, counts_per_cell=8000,replace=True)\n",
    "sc.pp.normalize_total(atac, target_sum=1e4)\n",
    "sc.pp.log1p(atac, base=10)"
   ]
  },
  {
   "cell_type": "code",
   "execution_count": null,
   "id": "22a07981",
   "metadata": {},
   "outputs": [],
   "source": [
    "atac_endo = atac[atac.obs['lineage']=='endothelial']\n",
    "hyp_deg_dict_ds = {}\n",
    "for ct in atac_endo.obs[\"celltype\"].cat.categories:\n",
    "    ct_adata_atac = atac_endo[atac_endo.obs[\"celltype\"] == ct]\n",
    "    try:\n",
    "        sc.tl.rank_genes_groups(\n",
    "            ct_adata_atac,\n",
    "            \"treatment\",\n",
    "            method=\"wilcoxon\",\n",
    "            pts=True,\n",
    "            key_added=\"rank_peaks_groups_treatment\",\n",
    "        )\n",
    "        df = sc.get.rank_genes_groups_df(\n",
    "            ct_adata_atac,\n",
    "            key=\"rank_peaks_groups_treatment\",\n",
    "            group=\"Hyperoxia\",\n",
    "        )\n",
    "        df.index = df['names']\n",
    "        hyp_deg_dict_ds[ct]=df\n",
    "    except:\n",
    "        print(ct)\n",
    "        print('no hyperoxia comparison')\n",
    "        continue"
   ]
  },
  {
   "cell_type": "markdown",
   "id": "93e2b00d",
   "metadata": {},
   "source": [
    "### Calculate regression for each ct and plot scores"
   ]
  },
  {
   "cell_type": "code",
   "execution_count": null,
   "id": "6e52bacc",
   "metadata": {},
   "outputs": [],
   "source": [
    "for ct in atac_endo.obs[\"celltype\"].cat.categories:\n",
    "    print(ct)\n",
    "    score_df = pd.DataFrame(index = hyp_deg_dict[ct].index, \n",
    "                        columns = ['normal','downsampled'],\n",
    "                        data=None)\n",
    "    score_df['normal'] = hyp_deg_dict[ct]['scores']\n",
    "    score_df['downsampled'] = hyp_deg_dict_ds[ct]['scores']\n",
    "    linr = linregress(score_df['normal'].to_numpy(),\n",
    "                      score_df['downsampled'].to_numpy())\n",
    "    print(linr)\n",
    "    sns.scatterplot(x=score_df['normal'], y=score_df['downsampled'], alpha=0.3, linewidth=0)\n",
    "plt.xticks([-15,-10,-5,0,5,10,15])\n",
    "plt.yticks([-15,-10,-5,0,5,10,15 ])"
   ]
  },
  {
   "cell_type": "code",
   "execution_count": null,
   "id": "5ddedcf9",
   "metadata": {},
   "outputs": [],
   "source": []
  }
 ],
 "metadata": {
  "kernelspec": {
   "display_name": "Python 3 (ipykernel)",
   "language": "python",
   "name": "python3"
  },
  "language_info": {
   "codemirror_mode": {
    "name": "ipython",
    "version": 3
   },
   "file_extension": ".py",
   "mimetype": "text/x-python",
   "name": "python",
   "nbconvert_exporter": "python",
   "pygments_lexer": "ipython3",
   "version": "3.7.11"
  }
 },
 "nbformat": 4,
 "nbformat_minor": 5
}

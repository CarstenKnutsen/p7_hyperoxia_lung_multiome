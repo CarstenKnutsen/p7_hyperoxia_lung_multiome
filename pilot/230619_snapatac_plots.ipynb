{
 "cells": [
  {
   "cell_type": "code",
   "execution_count": null,
   "id": "023714cc",
   "metadata": {},
   "outputs": [],
   "source": [
    "import scanpy as sc\n",
    "import muon as mu\n",
    "import numpy as np\n",
    "import pandas as pd\n",
    "import snapatac2 as snap\n",
    "import os"
   ]
  },
  {
   "cell_type": "code",
   "execution_count": null,
   "id": "4f810077",
   "metadata": {},
   "outputs": [],
   "source": [
    "output_fol = '/home/carsten/alvira_bioinformatics/postnatal_lung_multiome/data/pilot/230525_snapatac2_pilot'\n",
    "os.makedirs(output_fol, exist_ok=True)"
   ]
  },
  {
   "cell_type": "code",
   "execution_count": null,
   "id": "236814b1",
   "metadata": {},
   "outputs": [],
   "source": [
    "adata_rna = sc.read('/home/carsten/alvira_bioinformatics/postnatal_lung_multiome/data/single_cell_files/share/p7_multiome_rna.gz.h5ad')\n",
    "adata_rna.obs_names"
   ]
  },
  {
   "cell_type": "code",
   "execution_count": null,
   "id": "6e555fd5",
   "metadata": {},
   "outputs": [],
   "source": [
    "atac_adata = snap.read('/home/carsten/alvira_bioinformatics/postnatal_lung_multiome/data/single_cell_files/share/p7_multiome_atac.gz.h5ad')"
   ]
  },
  {
   "cell_type": "code",
   "execution_count": null,
   "id": "7f5aad58",
   "metadata": {},
   "outputs": [],
   "source": [
    "atac_adata"
   ]
  },
  {
   "cell_type": "code",
   "execution_count": null,
   "id": "98fd8338",
   "metadata": {},
   "outputs": [],
   "source": [
    "fragment_file = '/home/carsten/alvira_bioinformatics/postnatal_lung_multiome/data/cellranger_output/230609_aggregate/outs/atac_fragments.tsv.gz'\n",
    "output_f = '/home/carsten/alvira_bioinformatics/postnatal_lung_multiome/data/single_cell_files/multiome_snapatac_pilot.h5ad'\n",
    "gtf = '/home/carsten/alvira_bioinformatics/postnatal_lung_multiome/data/refdata-cellranger-arc-mm10-2020-A-2.0.0/genes/genes.gtf'\n",
    "chrom_sizes_fn = '/home/carsten/alvira_bioinformatics/postnatal_lung_multiome/data/refdata-cellranger-arc-mm10-2020-A-2.0.0/sizes.genome'\n",
    "genome = '/home/carsten/alvira_bioinformatics/postnatal_lung_multiome/data/refdata-cellranger-arc-mm10-2020-A-2.0.0/fasta/genome.fa'"
   ]
  },
  {
   "cell_type": "code",
   "execution_count": null,
   "id": "02b7875b",
   "metadata": {},
   "outputs": [],
   "source": [
    "data = snap.read(output_f)\n",
    "snap.pl.umap(data, color='celltype', interactive=False, height=500)\n"
   ]
  },
  {
   "cell_type": "code",
   "execution_count": null,
   "id": "82df6e93",
   "metadata": {},
   "outputs": [],
   "source": [
    "data.obsm['X_umap']"
   ]
  },
  {
   "cell_type": "code",
   "execution_count": null,
   "id": "15c84c43",
   "metadata": {},
   "outputs": [],
   "source": [
    "adata_rna = adata_rna[data.obs_names]\n",
    "adata_rna"
   ]
  },
  {
   "cell_type": "code",
   "execution_count": null,
   "id": "d586e65e",
   "metadata": {},
   "outputs": [],
   "source": [
    "for lineage in adata_rna.obs['lineage'].cat.categories:\n",
    "    lin_data = data.subset(obs_indices=adata_rna[adata_rna.obs['lineage']==lineage].obs_names,\n",
    "               out = f'{output_fol}/atac_{lineage}.h5ad')\n",
    "    snap.pp.select_features(lin_data, n_features=10000)\n",
    "    snap.pp.harmony(lin_data, batch='mouse')\n",
    "    snap.tl.umap(lin_data, use_rep='X_spectral_harmony')\n",
    "    snap.pp.knn(lin_data,use_rep ='X_spectral_harmony' )\n",
    "    snap.tl.leiden(lin_data)\n",
    "    snap.pl.umap(lin_data, color='celltype', interactive=False, height=500)\n",
    "    snap.pl.umap(lin_data, color='treatment', interactive=False, height=500)\n",
    "    snap.pl.umap(lin_data, color='mouse', interactive=False, height=500)\n",
    "\n",
    "\n",
    "    lin_data.close()\n",
    "    \n",
    "    \n",
    "    \n",
    "    \n",
    "    \n",
    "    "
   ]
  },
  {
   "cell_type": "code",
   "execution_count": null,
   "id": "c3355221",
   "metadata": {},
   "outputs": [],
   "source": [
    "end_data = snap.read(f'{output_fol}/atac_endothelial.h5ad')\n",
    "snap.pl.umap(end_data, color='celltype', interactive=True, height=500)\n"
   ]
  },
  {
   "cell_type": "code",
   "execution_count": null,
   "id": "bcb84b5a",
   "metadata": {},
   "outputs": [],
   "source": [
    "snap.pl.umap(end_data, color='celltype', interactive=False, height=500)\n"
   ]
  },
  {
   "cell_type": "code",
   "execution_count": null,
   "id": "39c40752",
   "metadata": {},
   "outputs": [],
   "source": [
    "snap.pl.umap(end_data, color='treatment', interactive=False, height=500)\n"
   ]
  },
  {
   "cell_type": "code",
   "execution_count": null,
   "id": "219b2a8d",
   "metadata": {},
   "outputs": [],
   "source": [
    "snap.pl.umap(end_data, color='mouse', interactive=False, height=500)"
   ]
  },
  {
   "cell_type": "code",
   "execution_count": null,
   "id": "79fbe662",
   "metadata": {},
   "outputs": [],
   "source": [
    "snap.pl.umap(end_data, color='leiden', interactive=False, height=500)"
   ]
  },
  {
   "cell_type": "code",
   "execution_count": null,
   "id": "8f97b808",
   "metadata": {},
   "outputs": [],
   "source": [
    "mes_data = snap.read(f'{output_fol}/atac_mesenchymal.h5ad')\n",
    "snap.pl.umap(mes_data, color='celltype', interactive=False, height=500)"
   ]
  },
  {
   "cell_type": "code",
   "execution_count": null,
   "id": "69b57943",
   "metadata": {},
   "outputs": [],
   "source": [
    "imm_data = snap.read(f'{output_fol}/atac_immune.h5ad')\n",
    "snap.pl.umap(imm_data, color='celltype', interactive=False, height=500)"
   ]
  },
  {
   "cell_type": "code",
   "execution_count": null,
   "id": "bc226468",
   "metadata": {},
   "outputs": [],
   "source": [
    "epi_data = snap.read(f'{output_fol}/atac_epithelial.h5ad')\n",
    "snap.pl.umap(epi_data, color='celltype', interactive=False, height=500)"
   ]
  },
  {
   "cell_type": "code",
   "execution_count": null,
   "id": "bfd8756e",
   "metadata": {},
   "outputs": [],
   "source": [
    "epi_data.var['selected'].to_pandas().value_counts()"
   ]
  },
  {
   "cell_type": "code",
   "execution_count": null,
   "id": "d764e4b6",
   "metadata": {},
   "outputs": [],
   "source": [
    "snap.pl.umap(data, color='mouse', interactive=False, height=500)\n"
   ]
  },
  {
   "cell_type": "code",
   "execution_count": null,
   "id": "6d934883",
   "metadata": {},
   "outputs": [],
   "source": [
    "diff_peaks_dt = {}\n",
    "for ct in adata_rna.obs['celltype'].cat.categories:\n",
    "    print(ct)\n",
    "    norm = (data.obs['celltype'] == ct)&(data.obs['treatment'] == 'Normoxia')\n",
    "    hyper = (data.obs['celltype'] == ct)&(data.obs['treatment'] == 'Hyperoxia')\n",
    "    peaks_selected = np.logical_or(\n",
    "    data.uns[\"peaks\"][ct].to_numpy(),\n",
    "    data.uns[\"peaks\"][ct].to_numpy(),\n",
    ")\n",
    "\n",
    "    diff_peaks = snap.tl.diff_test(\n",
    "    peak_mat,\n",
    "    cell_group1=norm,\n",
    "    cell_group2=hyper,\n",
    "        features=data.uns[\"peaks\"][ct].to_numpy()\n",
    ")\n",
    "    diff_peaks = diff_peaks.to_pandas()\n",
    "    difF_peaks_dt[ct] = diff_peaks"
   ]
  },
  {
   "cell_type": "code",
   "execution_count": null,
   "id": "d8d8bea4",
   "metadata": {},
   "outputs": [],
   "source": [
    "norm = (data.obs['celltype'] == 'AT1')&(data.obs['treatment'] == 'Normoxia')\n",
    "hyper = (data.obs['celltype'] == 'AT2')&(data.obs['treatment'] == 'Normoxia')\n",
    "peaks_selected = np.logical_or(\n",
    "data.uns[\"peaks\"]['AT1'].to_numpy(),\n",
    "data.uns[\"peaks\"]['AT2'].to_numpy(),\n",
    ")\n",
    "\n",
    "diff_peaks = snap.tl.diff_test(\n",
    "peak_mat,\n",
    "cell_group1=norm,\n",
    "cell_group2=hyper,\n",
    "    features=peaks_selected,\n",
    "    penalty='none'\n",
    ")\n",
    "diff_peaks = diff_peaks.to_pandas()\n",
    "difF_peaks_dt"
   ]
  },
  {
   "cell_type": "code",
   "execution_count": null,
   "id": "39f037ea",
   "metadata": {},
   "outputs": [],
   "source": [
    "snap.pl.motif_enrichment(motifs, max_fdr=0.0001, height=3000, width = 2000,interactive=False)\n"
   ]
  },
  {
   "cell_type": "code",
   "execution_count": null,
   "id": "661202ff",
   "metadata": {},
   "outputs": [],
   "source": [
    "rna_names=adata_rna.obs_names.tolist()\n",
    "overlap_names = list(set(adata_rna.obs_names) & set(data.obs_names))\n",
    "not_in_fragment = [x for x in rna_names if x not in overlap_names]"
   ]
  },
  {
   "cell_type": "code",
   "execution_count": null,
   "id": "097be6be",
   "metadata": {},
   "outputs": [],
   "source": [
    "adata_rna.obs.loc[not_in_fragment]"
   ]
  },
  {
   "cell_type": "code",
   "execution_count": null,
   "id": "7c71e9fb",
   "metadata": {},
   "outputs": [],
   "source": [
    "not_in_fragment"
   ]
  },
  {
   "cell_type": "code",
   "execution_count": null,
   "id": "b55abb2b",
   "metadata": {},
   "outputs": [],
   "source": [
    "print(len(adata_rna.obs_names.tolist()))\n",
    "print(len(data.obs_names))\n",
    "print(len(list(set(adata_rna.obs_names) & set(data.obs_names))))\n"
   ]
  },
  {
   "cell_type": "code",
   "execution_count": null,
   "id": "643d3fdb",
   "metadata": {},
   "outputs": [],
   "source": [
    "snap.pl.tsse(data, interactive=False)"
   ]
  },
  {
   "cell_type": "code",
   "execution_count": null,
   "id": "c7727b01",
   "metadata": {},
   "outputs": [],
   "source": [
    "data"
   ]
  },
  {
   "cell_type": "code",
   "execution_count": null,
   "id": "57ff6507",
   "metadata": {},
   "outputs": [],
   "source": [
    "len(set(data.obs_names))"
   ]
  },
  {
   "cell_type": "code",
   "execution_count": null,
   "id": "e882a5fb",
   "metadata": {},
   "outputs": [],
   "source": [
    "data_sub = \n",
    "data_sub"
   ]
  },
  {
   "cell_type": "code",
   "execution_count": null,
   "id": "788a1408",
   "metadata": {},
   "outputs": [],
   "source": [
    "%%time\n",
    "snap.pp.filter_cells(data, min_counts=5000, min_tsse=0, max_counts=1000000)\n",
    "data"
   ]
  }
 ],
 "metadata": {
  "kernelspec": {
   "display_name": "Python 3 (ipykernel)",
   "language": "python",
   "name": "python3"
  },
  "language_info": {
   "codemirror_mode": {
    "name": "ipython",
    "version": 3
   },
   "file_extension": ".py",
   "mimetype": "text/x-python",
   "name": "python",
   "nbconvert_exporter": "python",
   "pygments_lexer": "ipython3",
   "version": "3.7.11"
  }
 },
 "nbformat": 4,
 "nbformat_minor": 5
}

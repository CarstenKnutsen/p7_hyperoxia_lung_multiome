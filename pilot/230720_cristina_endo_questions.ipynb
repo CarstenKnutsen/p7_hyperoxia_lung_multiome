{
 "cells": [
  {
   "cell_type": "markdown",
   "id": "22ef57e1",
   "metadata": {},
   "source": [
    "### Goal: Email request from Cristina on various endothelial cell questions\n",
    "#### Carsten did a great job creating lists of differentially accessible chromatin regions, but is there any utility to also identify shared regions of accessibility between certain cell types? For example, the veins and the Cap1 seem similar in some ways (including their expression of Peg3, Alpnr, etc.). Would it be meaningful to assess what accessibility they share, that are not shared by other EC?\n",
    "#### Can we also compare all Peg3 expressing cells versus non-Peg3 expressing cells?\n",
    "#### Can we look at the proliferating venous EC versus the non-venous proliferating EC?\n"
   ]
  },
  {
   "cell_type": "code",
   "execution_count": null,
   "id": "4bdc5657",
   "metadata": {},
   "outputs": [],
   "source": [
    "import numpy as np\n",
    "import pandas as pd\n",
    "import os\n",
    "import scanpy as sc\n",
    "import scanpy.external as sce\n",
    "import sys\n",
    "import muon as mu\n",
    "import muon.atac as ac\n",
    "import matplotlib.pyplot as plt\n",
    "import seaborn as sns\n",
    "figures = '/home/carsten/alvira_bioinformatics/postnatal_lung_multiome/data/pilot/230720_cristina_endo_questions'\n",
    "sc_file = '/home/carsten/alvira_bioinformatics/postnatal_lung_multiome/data/single_cell_files/share'\n",
    "atac_dir = '/home/carsten/alvira_bioinformatics/postnatal_lung_multiome/data/figures/atac'\n",
    "rna_dir = '/home/carsten/alvira_bioinformatics/postnatal_lung_multiome/data/figures/rna'\n",
    "os.makedirs(figures, exist_ok=True)\n",
    "sc.set_figure_params(dpi=300, format=\"png\")\n",
    "sc.settings.figdir = figures\n"
   ]
  },
  {
   "cell_type": "markdown",
   "id": "853c4a32",
   "metadata": {},
   "source": [
    "#### Load in multiomic data"
   ]
  },
  {
   "cell_type": "code",
   "execution_count": null,
   "id": "10527025",
   "metadata": {},
   "outputs": [],
   "source": [
    "rna = sc.read(f'{sc_file}/p7_multiome_rna_processed.gz.h5ad')\n",
    "atac = sc.read(f'{sc_file}/p7_multiome_atac_processed.gz.h5ad')\n",
    "tf = sc.read(f'{sc_file}/p7_multiome_tf_processed.gz.h5ad')"
   ]
  },
  {
   "cell_type": "code",
   "execution_count": null,
   "id": "e4f758bf",
   "metadata": {},
   "outputs": [],
   "source": [
    "rna.X = rna.layers['soupx'].copy()\n",
    "sc.pp.normalize_total(rna,target_sum=1e4)\n",
    "sc.pp.log1p(rna,base=10)"
   ]
  },
  {
   "cell_type": "code",
   "execution_count": null,
   "id": "589c0418",
   "metadata": {},
   "outputs": [],
   "source": [
    "atac.X = atac.layers['counts'].copy()\n",
    "sc.pp.normalize_total(atac,target_sum=1e4)\n",
    "sc.pp.log1p(atac,base=10)"
   ]
  },
  {
   "cell_type": "code",
   "execution_count": null,
   "id": "dc390247",
   "metadata": {},
   "outputs": [],
   "source": [
    "atac.var['peak_name'] = [ind if y == 'intergenic' else f'{x}_{y}_{z}' for x,y,z,ind in zip(atac.var['annotated_gene'],\n",
    "                                                                      atac.var['peak_type'],\n",
    "                                                                      atac.var['distance'],\n",
    "                                                                      atac.var.index\n",
    "                                                                     )\n",
    "                        ]"
   ]
  },
  {
   "cell_type": "code",
   "execution_count": null,
   "id": "af7680c0",
   "metadata": {},
   "outputs": [],
   "source": [
    "tf.X = tf.layers['raw'].copy()\n",
    "sc.pp.normalize_total(tf,target_sum=1e4)\n",
    "sc.pp.log1p(tf,base=10)"
   ]
  },
  {
   "cell_type": "markdown",
   "id": "5be86686",
   "metadata": {},
   "source": [
    "###  the veins and the Cap1 seem similar in some ways (including their expression of Peg3, Alpnr, etc.). Would it be meaningful to assess what accessibility they share, that are not shared by other EC?"
   ]
  },
  {
   "cell_type": "markdown",
   "id": "c69f514c",
   "metadata": {},
   "source": [
    "#### Compare the regions that are differentially changed in every comparison for venous and Cap1 vs other endo cell types \n",
    "#### All modalities\n",
    "#### Changes in expression/accesibility must go same direction (both up or both down)"
   ]
  },
  {
   "cell_type": "code",
   "execution_count": null,
   "id": "ef50278e",
   "metadata": {},
   "outputs": [],
   "source": [
    "### Look through each cell-cell comparison and make sure it is above a certain level\n",
    "score_threshold=1\n",
    "number_cts_threshold = 3\n",
    "\n",
    "mod_dict = {'deg':rna,\n",
    "           'datf':tf,\n",
    "           'dap':atac}\n",
    "common_feature_dict = {}\n",
    "for mod in mod_dict.keys():\n",
    "    if mod in ['dap','datf']:\n",
    "        cell_type_comparisons =f'/home/carsten/alvira_bioinformatics/postnatal_lung_multiome/data/figures/atac/{mod}/endothelial/cell_type_comparisons/normoxia'\n",
    "    else:\n",
    "        cell_type_comparisons =f'/home/carsten/alvira_bioinformatics/postnatal_lung_multiome/data/figures/rna/{mod}/endothelial/cell_type_comparisons/normoxia'\n",
    "\n",
    "    adata = mod_dict[mod].copy()\n",
    "#     sc.pp.scale(adata)\n",
    "    shared_gene_dict = {}\n",
    "    for ct in ['Cap2', 'Venous EC']:\n",
    "        comps = pd.read_excel(f'{cell_type_comparisons}/{ct}.xlsx',\n",
    "                         index_col=0,\n",
    "                         header=0,\n",
    "                         sheet_name=None)\n",
    "        gene_dict = {}\n",
    "        for direction in ['up', 'down']:\n",
    "            gene_dict[direction] = {}\n",
    "            gene_dict[direction]['celltypes'] ={}\n",
    "            for ct2 in rna[rna.obs['lineage']=='endothelial'].obs['celltype'].cat.categories:\n",
    "                if ct2 == 'Proliferating EC':\n",
    "                    continue\n",
    "                elif ct == ct2:\n",
    "                    continue\n",
    "                df = comps[f'{ct} v {ct2}']\n",
    "                if direction == 'up':\n",
    "                    df = df.loc[df['scores']>score_threshold]\n",
    "                else:\n",
    "                    df = df.loc[df['scores']<-score_threshold]\n",
    "                gene_ls = df.index.tolist()\n",
    "                for gene in gene_ls:\n",
    "                    if gene in gene_dict[direction]['celltypes'].keys():\n",
    "                        gene_dict[direction]['celltypes'][gene].append(ct2)\n",
    "                    else:\n",
    "                        gene_dict[direction]['celltypes'][gene] = [ct2]\n",
    "\n",
    "            gene_dict[direction]['number_cts'] = {}\n",
    "            for gene in gene_dict[direction]['celltypes'].keys():\n",
    "                gene_dict[direction]['number_cts'][gene] = len(gene_dict[direction]['celltypes'][gene])\n",
    "        shared_gene_dict[ct] = gene_dict\n",
    "    common_feature_dict[mod] = gene_dict\n",
    "    Cap2_up = pd.Series(shared_gene_dict['Cap2']['up']['number_cts']).sort_values(ascending=False)\n",
    "    Cap2_up = Cap2_up.loc[Cap2_up>=number_cts_threshold]\n",
    "\n",
    "    Cap2_down = pd.Series(shared_gene_dict['Cap2']['down']['number_cts']).sort_values(ascending=False)\n",
    "    Cap2_down = Cap2_down.loc[Cap2_down>=number_cts_threshold]\n",
    "\n",
    "    vec_up = pd.Series(shared_gene_dict['Venous EC']['up']['number_cts']).sort_values(ascending=False)\n",
    "    vec_up = vec_up.loc[vec_up>=number_cts_threshold]\n",
    "\n",
    "    vec_down = pd.Series(shared_gene_dict['Venous EC']['down']['number_cts']).sort_values(ascending=False)\n",
    "    vec_down = vec_down.loc[vec_down>=number_cts_threshold]\n",
    "    if mod=='dap':\n",
    "        up = atac.var[[\"annotated_gene\", \"peak_type\", \"distance\", \"tfs\"]].loc[[x for x in Cap2_up.index if x in vec_up.index]]\n",
    "        down = atac.var[[\"annotated_gene\", \"peak_type\", \"distance\", \"tfs\"]].loc[[x for x in Cap2_down.index if x in vec_down.index]]\n",
    "        plot_features=up.head(5).index.tolist() + down.head(5).index.tolist()\n",
    "\n",
    "    else:\n",
    "        up = [x for x in Cap2_up.index if x in vec_up.index]\n",
    "        down = [x for x in Cap2_down.index if x in vec_down.index]\n",
    "        plot_features = up[:5] + down[:5]\n",
    "\n",
    "    common_feature_dict[mod] = {'up':up,\n",
    "                               'down':down}\n",
    "    adata_norm = adata[(adata.obs['treatment']=='Normoxia')&\n",
    "                      (adata.obs['lineage']=='endothelial')]\n",
    "    if mod == 'dap':\n",
    "        gene_sym = 'peak_name'\n",
    "        plot_features = atac.var['peak_name'].loc[plot_features].values\n",
    "    else:\n",
    "        gene_sym=None\n",
    "        \n",
    "    sc.pl.dotplot(adata_norm,\n",
    "                  plot_features,\n",
    "                  standard_scale='var',\n",
    "                  groupby = 'celltype', \n",
    "                  use_raw=False,\n",
    "                  gene_symbols=gene_sym,\n",
    "                  title=f'Shared {mod}s by Cap2 and VEC')"
   ]
  },
  {
   "cell_type": "code",
   "execution_count": null,
   "id": "7345752f",
   "metadata": {},
   "outputs": [],
   "source": [
    "### Look through each cell-cell comparison and make sure it is above a certain level\n",
    "score_threshold=1\n",
    "number_cts_threshold = 3\n",
    "\n",
    "mod_dict = {'deg':rna,\n",
    "           'datf':tf,\n",
    "           'dap':atac}\n",
    "common_feature_dict = {}\n",
    "for mod in mod_dict.keys():\n",
    "    if mod in ['dap','datf']:\n",
    "        cell_type_comparisons =f'/home/carsten/alvira_bioinformatics/postnatal_lung_multiome/data/figures/atac/{mod}/endothelial/cell_type_comparisons/normoxia'\n",
    "    else:\n",
    "        cell_type_comparisons =f'/home/carsten/alvira_bioinformatics/postnatal_lung_multiome/data/figures/rna/{mod}/endothelial/cell_type_comparisons/normoxia'\n",
    "\n",
    "    adata = mod_dict[mod].copy()\n",
    "#     sc.pp.scale(adata)\n",
    "    shared_gene_dict = {}\n",
    "    for ct in ['Cap1', 'Venous EC']:\n",
    "        comps = pd.read_excel(f'{cell_type_comparisons}/{ct}.xlsx',\n",
    "                         index_col=0,\n",
    "                         header=0,\n",
    "                         sheet_name=None)\n",
    "        gene_dict = {}\n",
    "        for direction in ['up', 'down']:\n",
    "            gene_dict[direction] = {}\n",
    "            gene_dict[direction]['celltypes'] ={}\n",
    "            for ct2 in rna[rna.obs['lineage']=='endothelial'].obs['celltype'].cat.categories:\n",
    "                if ct2 == 'Proliferating EC':\n",
    "                    continue\n",
    "                elif ct == ct2:\n",
    "                    continue\n",
    "                df = comps[f'{ct} v {ct2}']\n",
    "                if direction == 'up':\n",
    "                    df = df.loc[df['scores']>score_threshold]\n",
    "                else:\n",
    "                    df = df.loc[df['scores']<-score_threshold]\n",
    "                gene_ls = df.index.tolist()\n",
    "                for gene in gene_ls:\n",
    "                    if gene in gene_dict[direction]['celltypes'].keys():\n",
    "                        gene_dict[direction]['celltypes'][gene].append(ct2)\n",
    "                    else:\n",
    "                        gene_dict[direction]['celltypes'][gene] = [ct2]\n",
    "\n",
    "            gene_dict[direction]['number_cts'] = {}\n",
    "            for gene in gene_dict[direction]['celltypes'].keys():\n",
    "                gene_dict[direction]['number_cts'][gene] = len(gene_dict[direction]['celltypes'][gene])\n",
    "        shared_gene_dict[ct] = gene_dict\n",
    "    common_feature_dict[mod] = gene_dict\n",
    "    cap1_up = pd.Series(shared_gene_dict['Cap1']['up']['number_cts']).sort_values(ascending=False)\n",
    "    cap1_up = cap1_up.loc[cap1_up>=number_cts_threshold]\n",
    "\n",
    "    cap1_down = pd.Series(shared_gene_dict['Cap1']['down']['number_cts']).sort_values(ascending=False)\n",
    "    cap1_down = cap1_down.loc[cap1_down>=number_cts_threshold]\n",
    "\n",
    "    vec_up = pd.Series(shared_gene_dict['Venous EC']['up']['number_cts']).sort_values(ascending=False)\n",
    "    vec_up = vec_up.loc[vec_up>=number_cts_threshold]\n",
    "\n",
    "    vec_down = pd.Series(shared_gene_dict['Venous EC']['down']['number_cts']).sort_values(ascending=False)\n",
    "    vec_down = vec_down.loc[vec_down>=number_cts_threshold]\n",
    "    if mod=='dap':\n",
    "        up = atac.var[[\"annotated_gene\", \"peak_type\", \"distance\", \"tfs\"]].loc[[x for x in cap1_up.index if x in vec_up.index]]\n",
    "        down = atac.var[[\"annotated_gene\", \"peak_type\", \"distance\", \"tfs\"]].loc[[x for x in cap1_down.index if x in vec_down.index]]\n",
    "        plot_features=up.head(5).index.tolist() + down.head(5).index.tolist()\n",
    "\n",
    "    else:\n",
    "        up = [x for x in cap1_up.index if x in vec_up.index]\n",
    "        down = [x for x in cap1_down.index if x in vec_down.index]\n",
    "        plot_features = up[:10] + down[:10]\n",
    "\n",
    "    common_feature_dict[mod] = {'up':up,\n",
    "                               'down':down}\n",
    "    adata_norm = adata[(adata.obs['treatment']=='Normoxia')&\n",
    "                      (adata.obs['lineage']=='endothelial')]\n",
    "    if mod == 'dap':\n",
    "        gene_sym = 'peak_name'\n",
    "        plot_features = atac.var['peak_name'].loc[plot_features].values\n",
    "    else:\n",
    "        gene_sym=None\n",
    "        \n",
    "    sc.pl.dotplot(adata_norm,\n",
    "                  plot_features,\n",
    "                  standard_scale='var',\n",
    "                  groupby = 'celltype', \n",
    "                  use_raw=False,\n",
    "                  gene_symbols=gene_sym,\n",
    "                  title=f'Shared {mod}s by Cap1 and VEC')\n"
   ]
  },
  {
   "cell_type": "code",
   "execution_count": null,
   "id": "717f925d",
   "metadata": {},
   "outputs": [],
   "source": [
    " sc.pl.dotplot(rna[rna.obs['lineage']=='endothelial'],\n",
    "                  sorted(common_feature_dict['deg']['up']),\n",
    "                  standard_scale='var',\n",
    "                  groupby = 'celltype', \n",
    "                  use_raw=False,\n",
    "                  title=f'Shared {mod}s by Cap1 and VEC')\n"
   ]
  },
  {
   "cell_type": "markdown",
   "id": "e381e57f",
   "metadata": {},
   "source": [
    "#### subsample all populations to 100 cells and run Cap1 v rest and Ven v rest and see what comes out"
   ]
  },
  {
   "cell_type": "code",
   "execution_count": null,
   "id": "6cdc4ae0",
   "metadata": {},
   "outputs": [],
   "source": [
    "# https://github.com/scverse/scanpy/issues/987\n",
    "def obs_key_wise_subsampling(adata, obs_key, N):\n",
    "    '''\n",
    "    Subsample each class to same cell numbers (N). Classes are given by obs_key pointing to categorical in adata.obs.\n",
    "    '''\n",
    "    counts = adata.obs[obs_key].value_counts()\n",
    "    # subsample indices per group defined by obs_key\n",
    "    indices = [np.random.choice(adata.obs_names[adata.obs[obs_key]==group], size=N, replace=True) for group in counts.index]\n",
    "    selection = np.hstack(np.array(indices))\n",
    "    return adata[selection].copy()"
   ]
  },
  {
   "cell_type": "code",
   "execution_count": null,
   "id": "166bf189",
   "metadata": {},
   "outputs": [],
   "source": [
    "celltypes = ['Cap1', 'Venous EC']\n",
    "\n",
    "mod_dict = {'deg':rna,\n",
    "           'datf':tf,\n",
    "           'dap':atac}\n",
    "mod_df_dict = {}\n",
    "for mod in mod_dict.keys():\n",
    "    adata = mod_dict[mod].copy()\n",
    "    adata_norm = adata[(adata.obs['treatment']=='Normoxia')&\n",
    "                      (adata.obs['lineage']=='endothelial')]\n",
    "    subsampled = obs_key_wise_subsampling(adata_norm, 'celltype',100)\n",
    "    df = pd.DataFrame(index= adata_norm.var_names,\n",
    "                     columns = celltypes,\n",
    "                     data= None)\n",
    "    for ct in celltypes:\n",
    "        ## Drop cell types that are similar\n",
    "        if ct =='Cap1':\n",
    "            subsampled = subsampled[~subsampled.obs['celltype'].isin(['Venous Ec','Proliferating EC','Intermediate cap'])]\n",
    "        else:\n",
    "            subsampled = subsampled[~subsampled.obs['celltype'].isin(['Cap1','Proliferating EC','Intermediate cap'])]\n",
    "        sc.tl.rank_genes_groups(\n",
    "            subsampled,\n",
    "            \"celltype\",\n",
    "            method=\"wilcoxon\",\n",
    "            pts=True,\n",
    "            key_added=\"rank_peaks_groups_celltype\",\n",
    "        )\n",
    "\n",
    "        ct_df= sc.get.rank_genes_groups_df(\n",
    "                            subsampled, key=\"rank_peaks_groups_celltype\",group=ct\n",
    "                        )\n",
    "        ct_df.index = ct_df['names']\n",
    "\n",
    "        df[ct] = ct_df['scores']\n",
    "\n",
    "    mod_df_dict[mod]=df\n",
    "        \n",
    "        \n",
    "    \n"
   ]
  },
  {
   "cell_type": "code",
   "execution_count": null,
   "id": "8af91f34",
   "metadata": {},
   "outputs": [],
   "source": [
    "mod_df_dict['deg']"
   ]
  },
  {
   "cell_type": "code",
   "execution_count": null,
   "id": "e5113906",
   "metadata": {},
   "outputs": [],
   "source": [
    "mod_df_dict['deg'].loc['Epas1']"
   ]
  },
  {
   "cell_type": "code",
   "execution_count": null,
   "id": "305167d5",
   "metadata": {},
   "outputs": [],
   "source": [
    "mod = 'deg'\n",
    "score = 3\n",
    "df = mod_df_dict[mod]\n",
    "\n",
    "sns.scatterplot(data = df,\n",
    "           x= 'Venous EC',\n",
    "           y='Cap1',\n",
    "           linewidth=0\n",
    "           )\n",
    "df = df.loc[((df['Cap1']>score) & (df['Venous EC']>score))|\n",
    "            ((df['Cap1']<-score) & ((df['Venous EC']<-score)))]\n",
    "sc.pl.dotplot(rna[rna.obs['lineage']=='endothelial'],\n",
    "              df.sort_values('Venous EC',ascending=False).index,\n",
    "              standard_scale='var',\n",
    "              groupby = 'celltype', \n",
    "              use_raw=False,\n",
    "              title=f'Shared {mod}s by Cap1 and VEC')\n",
    "df.sort_values('Venous EC',ascending=False).to_csv(f'{figures}/cap1_vec_shared_deg.csv')"
   ]
  },
  {
   "cell_type": "code",
   "execution_count": null,
   "id": "d5c1e473",
   "metadata": {},
   "outputs": [],
   "source": [
    "sc.pl.dotplot(rna[rna.obs['lineage']=='endothelial'],\n",
    "              ['Kcnh1','Peg3','Aplnr','Tek','Syne1','Timp3'],\n",
    "#               standard_scale='var',\n",
    "              groupby = 'celltype', \n",
    "              use_raw=False,\n",
    "              )"
   ]
  },
  {
   "cell_type": "code",
   "execution_count": null,
   "id": "37d96f5b",
   "metadata": {},
   "outputs": [],
   "source": [
    "mod = 'dap'\n",
    "score = 1.5\n",
    "df = mod_df_dict[mod]\n",
    "\n",
    "sns.scatterplot(data = df,\n",
    "           x= 'Venous EC',\n",
    "           y='Cap1',\n",
    "           linewidth=0\n",
    "           )\n",
    "df = df.loc[((df['Cap1']>score) & (df['Venous EC']>score))|\n",
    "            ((df['Cap1']<-score) & ((df['Venous EC']<-score)))]\n",
    "plot_genes = atac.var['peak_name'].loc[df.index].values\n",
    "sc.pl.dotplot(atac[atac.obs['lineage']=='endothelial'],\n",
    "              df.sort_values('Venous EC',ascending=False).index,\n",
    "              standard_scale='var',\n",
    "              groupby = 'celltype', \n",
    "              title=f'Shared {mod}s by Cap1 and VEC')\n",
    "df\n",
    "atac_df = atac.var[[\"annotated_gene\", \"peak_type\", \"distance\", \"tfs\"]].loc[df.index]\n",
    "atac_df[df.columns] = df\n",
    "atac_df.to_csv(f'{figures}/cap1_vec_shared_dap.csv')\n",
    "atac_df.loc[atac_df['annotated_gene']=='Kcnh1']"
   ]
  },
  {
   "cell_type": "code",
   "execution_count": null,
   "id": "85a33531",
   "metadata": {},
   "outputs": [],
   "source": []
  },
  {
   "cell_type": "code",
   "execution_count": null,
   "id": "5ae29ab4",
   "metadata": {},
   "outputs": [],
   "source": [
    "mod = 'datf'\n",
    "score = 3\n",
    "df = mod_df_dict[mod]\n",
    "\n",
    "sns.scatterplot(data = df,\n",
    "           x= 'Venous EC',\n",
    "           y='Cap1',\n",
    "           linewidth=0\n",
    "           )\n",
    "df = df.loc[((df['Cap1']>score) & (df['Venous EC']>score))|\n",
    "            ((df['Cap1']<-score) & ((df['Venous EC']<-score)))]\n",
    "sc.pl.dotplot(tf[tf.obs['lineage']=='endothelial'],\n",
    "              df.sort_values('Venous EC',ascending=False).index,\n",
    "              standard_scale='var',\n",
    "              groupby = 'celltype', \n",
    "              title=f'Shared {mod}s by Cap1 and VEC')\n",
    "df.to_csv(f'{figures}/cap1_vec_shared_datf.csv')\n",
    "\n",
    "df\n"
   ]
  },
  {
   "cell_type": "markdown",
   "id": "edbd6bde",
   "metadata": {},
   "source": [
    "#### Can we also compare all Peg3 expressing cells versus non-Peg3 expressing cells?"
   ]
  },
  {
   "cell_type": "code",
   "execution_count": null,
   "id": "2540a7ed",
   "metadata": {},
   "outputs": [],
   "source": [
    "## Worst code ever lol\n",
    "rna_norm = rna[rna.obs['treatment']=='Normoxia']\n",
    "atac_norm = atac[atac.obs['treatment']=='Normoxia']\n",
    "tf_norm = tf[tf.obs['treatment']=='Normoxia']\n",
    "\n",
    "rna_cap1 = rna_norm[rna_norm.obs['celltype']=='Cap1']\n",
    "rna_vec = rna_norm[rna_norm.obs['celltype']=='Venous EC']\n",
    "\n",
    "atac_cap1 = atac_norm[atac_norm.obs['celltype']=='Cap1']\n",
    "atac_vec = atac_norm[atac_norm.obs['celltype']=='Venous EC']\n",
    "\n",
    "tf_cap1 = tf_norm[atac_norm.obs['celltype']=='Cap1']\n",
    "tf_vec = tf_norm[atac_norm.obs['celltype']=='Venous EC']"
   ]
  },
  {
   "cell_type": "code",
   "execution_count": null,
   "id": "d12ca3b0",
   "metadata": {},
   "outputs": [],
   "source": [
    "sc.pl.violin(rna_norm[rna_norm.obs['lineage']=='endothelial'],\n",
    "             'Peg3',\n",
    "            groupby = 'celltype_abv')\n",
    "sc.pl.dotplot(rna_norm[rna_norm.obs['lineage']=='endothelial'],\n",
    "             'Peg3',\n",
    "            groupby = 'celltype_abv')"
   ]
  },
  {
   "cell_type": "code",
   "execution_count": null,
   "id": "a73892b1",
   "metadata": {},
   "outputs": [],
   "source": [
    "for adata in [rna_cap1, rna_vec]:\n",
    "    peg3 = sc.get.obs_df(adata,['Peg3'])\n",
    "    cat = []\n",
    "    for x in peg3.values:\n",
    "        if x>0.75:\n",
    "            cat.append('high')\n",
    "        elif x <0.75 and x >0:\n",
    "            cat.append('med')\n",
    "        else:\n",
    "            cat.append('low')\n",
    "    adata.obs['Peg3_cat'] = cat\n",
    "    adata.obs['Peg3_high'] = peg3.gt(0.75)\n",
    "    adata.obs['Peg3_high'].replace({True:'Peg3hi',\n",
    "                                    False:'Peg3-'},\n",
    "                                   inplace=True)"
   ]
  },
  {
   "cell_type": "code",
   "execution_count": null,
   "id": "e4bafcc7",
   "metadata": {},
   "outputs": [],
   "source": [
    "peg3.quantile(0.25)"
   ]
  },
  {
   "cell_type": "code",
   "execution_count": null,
   "id": "83e63ff4",
   "metadata": {},
   "outputs": [],
   "source": [
    "atac_cap1.obs['Peg3_cat'] = rna_cap1[[x for x in rna_cap1.obs.index if x in atac_cap1.obs.index]].obs['Peg3_cat']\n",
    "atac_vec.obs['Peg3_cat'] = rna_vec[[x for x in rna_vec.obs.index if x in atac_vec.obs.index]].obs['Peg3_cat']\n",
    "atac_cap1_drop = atac_cap1[atac_cap1.obs['Peg3_cat']!='med']\n",
    "atac_vec_drop = atac_vec[atac_vec.obs['Peg3_cat']!='med']\n",
    "\n",
    "sc.tl.rank_genes_groups(\n",
    "        atac_cap1_drop,\n",
    "        \"Peg3_cat\",\n",
    "        method=\"wilcoxon\",\n",
    "        pts=True,\n",
    "        key_added=\"rank_peaks_groups_Peg3_cat\",\n",
    "    )\n",
    "sc.tl.rank_genes_groups(\n",
    "        atac_vec_drop,\n",
    "        \"Peg3_cat\",\n",
    "        method=\"wilcoxon\",\n",
    "        pts=True,\n",
    "        key_added=\"rank_peaks_groups_Peg3_cat\",\n",
    "    )\n",
    "\n",
    "\n",
    "cap1_df= sc.get.rank_genes_groups_df(\n",
    "                    atac_cap1_drop, key=\"rank_peaks_groups_Peg3_cat\",group='high'\n",
    "                )\n",
    "cap1_df.index = cap1_df['names']\n",
    "vec_df= sc.get.rank_genes_groups_df(\n",
    "                    atac_vec_drop, key=\"rank_peaks_groups_Peg3_cat\",group='high'\n",
    "                )\n",
    "vec_df.index = vec_df['names']\n",
    "score_df = pd.DataFrame(index = vec_df.index, \n",
    "                        columns = ['Cap1','VEC'],\n",
    "                        data=None)\n",
    "score_df['Cap1'] = cap1_df['scores']\n",
    "score_df['VEC'] = vec_df['scores']\n",
    "sns.scatterplot(data = score_df,\n",
    "               x= 'VEC',\n",
    "               y='Cap1',\n",
    "               linewidth=0\n",
    "              )\n",
    "score = 1\n",
    "atac_df = atac.var[[\"annotated_gene\", \"peak_type\", \"distance\", \"tfs\"]].loc[score_df.index]\n",
    "atac_df[score_df.columns] = score_df\n",
    "atac_df = atac_df.loc[((atac_df['Cap1']>score) & (atac_df['VEC']>score))|\n",
    "            ((atac_df['Cap1']<-score) & ((atac_df['VEC']<-score)))]\n",
    "atac_df.to_csv(f'{figures}/peg3_vec_cap1_shared_dap.csv')"
   ]
  },
  {
   "cell_type": "code",
   "execution_count": null,
   "id": "d3f3e84c",
   "metadata": {},
   "outputs": [],
   "source": [
    "score_df"
   ]
  },
  {
   "cell_type": "code",
   "execution_count": null,
   "id": "49fcbfac",
   "metadata": {},
   "outputs": [],
   "source": [
    "atac_cap1.obs['Peg3_high'] = rna_cap1[[x for x in rna_cap1.obs.index if x in atac_cap1.obs.index]].obs['Peg3_high']\n",
    "atac_vec.obs['Peg3_high'] = rna_vec[[x for x in rna_vec.obs.index if x in atac_vec.obs.index]].obs['Peg3_high']\n",
    "for adata in [atac_cap1, atac_vec]:\n",
    "    sc.tl.rank_genes_groups(\n",
    "            adata,\n",
    "            \"Peg3_high\",\n",
    "            method=\"wilcoxon\",\n",
    "            pts=True,\n",
    "            key_added=\"rank_peaks_groups_Peg3_high\",\n",
    "        )\n",
    "\n",
    "cap1_df= sc.get.rank_genes_groups_df(\n",
    "                    atac_cap1, key=\"rank_peaks_groups_Peg3_high\",group='Peg3hi'\n",
    "                )\n",
    "cap1_df.index = cap1_df['names']\n",
    "vec_df= sc.get.rank_genes_groups_df(\n",
    "                    atac_vec, key=\"rank_peaks_groups_Peg3_high\",group='Peg3hi'\n",
    "                )\n",
    "vec_df.index = vec_df['names']\n",
    "score_df = pd.DataFrame(index = vec_df.index, \n",
    "                        columns = ['Cap1','VEC'],\n",
    "                        data=None)\n",
    "score_df['Cap1'] = cap1_df['scores']\n",
    "score_df['VEC'] = vec_df['scores']\n",
    "sns.scatterplot(data = score_df,\n",
    "               x= 'VEC',\n",
    "               y='Cap1',\n",
    "               linewidth=0\n",
    "               )\n"
   ]
  },
  {
   "cell_type": "code",
   "execution_count": null,
   "id": "712056b6",
   "metadata": {},
   "outputs": [],
   "source": [
    "score_df.loc[atac.var.loc[atac.var['annotated_gene'].str.contains('Peg3')].index]"
   ]
  },
  {
   "cell_type": "code",
   "execution_count": null,
   "id": "35aefb2e",
   "metadata": {},
   "outputs": [],
   "source": [
    "up = score_df[(score_df['Cap1']>1)&(score_df['VEC']>1)].sort_values('Cap1', ascending=False)\n",
    "down = score_df[(score_df['Cap1']<-1)&(score_df['VEC']<-1)].sort_values('Cap1', ascending=True)\n",
    "\n",
    "atac.var[[\"annotated_gene\", \"peak_type\", \"distance\", \"tfs\"]].loc[up.index]"
   ]
  },
  {
   "cell_type": "code",
   "execution_count": null,
   "id": "cc4a46bc",
   "metadata": {},
   "outputs": [],
   "source": [
    "atac.var[[\"annotated_gene\", \"peak_type\", \"distance\", \"tfs\"]].loc[down.index]"
   ]
  },
  {
   "cell_type": "markdown",
   "id": "3918669f",
   "metadata": {},
   "source": [
    "#### TF data now\n"
   ]
  },
  {
   "cell_type": "code",
   "execution_count": null,
   "id": "62082756",
   "metadata": {},
   "outputs": [],
   "source": []
  },
  {
   "cell_type": "code",
   "execution_count": null,
   "id": "de096ed6",
   "metadata": {},
   "outputs": [],
   "source": []
  },
  {
   "cell_type": "code",
   "execution_count": null,
   "id": "763242d5",
   "metadata": {},
   "outputs": [],
   "source": [
    "\n",
    "tf_cap1.obs['Peg3_cat'] = rna_cap1[[x for x in rna_cap1.obs.index if x in tf_cap1.obs.index]].obs['Peg3_cat']\n",
    "tf_vec.obs['Peg3_cat'] = rna_vec[[x for x in rna_vec.obs.index if x in tf_vec.obs.index]].obs['Peg3_cat']\n",
    "for adata in [tf_cap1, tf_vec]:\n",
    "    sc.tl.rank_genes_groups(\n",
    "            adata,\n",
    "            \"Peg3_cat\",\n",
    "            method=\"wilcoxon\",\n",
    "            pts=True,\n",
    "            key_added=\"rank_peaks_groups_Peg3_cat\",\n",
    "        )\n",
    "\n",
    "cap1_df= sc.get.rank_genes_groups_df(\n",
    "                    tf_cap1, key=\"rank_peaks_groups_Peg3_cat\",group='high'\n",
    "                )\n",
    "cap1_df.index = cap1_df['names']\n",
    "vec_df= sc.get.rank_genes_groups_df(\n",
    "                    tf_vec, key=\"rank_peaks_groups_Peg3_cat\",group='high'\n",
    "                )\n",
    "vec_df.index = vec_df['names']\n",
    "score_df = pd.DataFrame(index = vec_df.index, \n",
    "                        columns = ['Cap1','VEC'],\n",
    "                        data=None)\n",
    "score_df['Cap1'] = cap1_df['scores']\n",
    "score_df['VEC'] = vec_df['scores']\n",
    "sns.scatterplot(data = score_df,\n",
    "               x= 'VEC',\n",
    "               y='Cap1',\n",
    "               linewidth=0\n",
    "               )\n",
    "score = 1\n",
    "score_df.loc[((score_df['Cap1']>score) & (score_df['VEC']>score))|\n",
    "            ((score_df['Cap1']<-score) & ((score_df['VEC']<-score)))]\n",
    "score_df.to_csv(f'{figures}/peg3_vec_cap1_shared_datf.csv')"
   ]
  },
  {
   "cell_type": "code",
   "execution_count": null,
   "id": "d239c48a",
   "metadata": {},
   "outputs": [],
   "source": [
    "up = score_df[(score_df['Cap1']>1)&(score_df['VEC']>1)].sort_values('Cap1', ascending=False)\n",
    "down = score_df[(score_df['Cap1']<-1)&(score_df['VEC']<-1)].sort_values('Cap1', ascending=True)\n",
    "\n",
    "up"
   ]
  },
  {
   "cell_type": "code",
   "execution_count": null,
   "id": "9b591e12",
   "metadata": {},
   "outputs": [],
   "source": [
    "down"
   ]
  },
  {
   "cell_type": "code",
   "execution_count": null,
   "id": "ccc72336",
   "metadata": {},
   "outputs": [],
   "source": [
    "\n",
    "rna_cap1.obs['Peg3_cat'] = rna_cap1[[x for x in rna_cap1.obs.index if x in rna_cap1.obs.index]].obs['Peg3_cat']\n",
    "rna_vec.obs['Peg3_cat'] = rna_vec[[x for x in rna_vec.obs.index if x in rna_vec.obs.index]].obs['Peg3_cat']\n",
    "for adata in [rna_cap1, rna_vec]:\n",
    "    sc.tl.rank_genes_groups(\n",
    "            adata,\n",
    "            \"Peg3_cat\",\n",
    "            method=\"wilcoxon\",\n",
    "            pts=True,\n",
    "            key_added=\"rank_peaks_groups_Peg3_cat\",\n",
    "        )\n",
    "\n",
    "cap1_df= sc.get.rank_genes_groups_df(\n",
    "                    rna_cap1, key=\"rank_peaks_groups_Peg3_cat\",group='high'\n",
    "                )\n",
    "cap1_df.index = cap1_df['names']\n",
    "vec_df= sc.get.rank_genes_groups_df(\n",
    "                    rna_vec, key=\"rank_peaks_groups_Peg3_cat\",group='high'\n",
    "                )\n",
    "vec_df.index = vec_df['names']\n",
    "score_df = pd.DataFrame(index = vec_df.index, \n",
    "                        columns = ['Cap1','VEC'],\n",
    "                        data=None)\n",
    "score_df['Cap1'] = cap1_df['scores']\n",
    "score_df['VEC'] = vec_df['scores']\n",
    "score_df = score_df.loc[~score_df.index.isin(['Peg3'])]\n",
    "sns.scatterplot(data = score_df,\n",
    "               x= 'VEC',\n",
    "               y='Cap1',\n",
    "               linewidth=0\n",
    "               )\n",
    "score_df.sort_values('VEC')\n",
    "score = 2\n",
    "score_df.loc[((score_df['Cap1']>score) & (score_df['VEC']>score))|\n",
    "            ((score_df['Cap1']<-score) & ((score_df['VEC']<-score)))]\n",
    "score_df.to_csv(f'{figures}/peg3_vec_cap1_shared_deg.csv')"
   ]
  },
  {
   "cell_type": "markdown",
   "id": "5aa6c2fe",
   "metadata": {},
   "source": [
    "#### Can we look at the proliferating venous EC versus the non-venous proliferating EC?\n"
   ]
  },
  {
   "cell_type": "code",
   "execution_count": null,
   "id": "2d295ae0",
   "metadata": {},
   "outputs": [],
   "source": [
    "prolif_ec = rna[rna.obs['celltype']=='Proliferating EC'].copy()\n",
    "sc.pp.highly_variable_genes(prolif_ec, n_top_genes=2000, batch_key=\"mouse\")\n",
    "sc.pp.pca(prolif_ec, use_highly_variable=True)\n",
    "sce.pp.harmony_integrate(prolif_ec, key='mouse', max_iter_harmony=50)\n",
    "sc.pp.neighbors(prolif_ec, use_rep='X_pca_harmony')\n",
    "sc.tl.leiden(\n",
    "    prolif_ec,\n",
    "    key_added=f\"leiden_prolif_ec\",\n",
    ")\n",
    "sc.tl.umap(prolif_ec, min_dist=0.5)\n",
    "sc.pl.umap(prolif_ec, color=['Kit','Car4','Gja5','Car8','Slc6a2','Ccl21a','leiden_prolif_ec', 'log10_total_umis','mouse'])"
   ]
  },
  {
   "cell_type": "code",
   "execution_count": null,
   "id": "41603190",
   "metadata": {},
   "outputs": [],
   "source": [
    "prolif_ec"
   ]
  },
  {
   "cell_type": "code",
   "execution_count": null,
   "id": "2fd72bd7",
   "metadata": {},
   "outputs": [],
   "source": [
    "prolif_ec.obs.groupby('leiden_prolif_ec')['mouse'].value_counts()"
   ]
  },
  {
   "cell_type": "code",
   "execution_count": null,
   "id": "5f29c63a",
   "metadata": {},
   "outputs": [],
   "source": [
    "sc.tl.rank_genes_groups(prolif_ec, \"leiden_prolif_ec\", method=\"wilcoxon\")\n",
    "sc.pl.rank_genes_groups_dotplot(\n",
    "    prolif_ec,\n",
    "    groupby=\"leiden_prolif_ec\",\n",
    "    dendrogram=False,\n",
    "    n_genes=int(50 / len(prolif_ec.obs[\"leiden_prolif_ec\"].unique())),\n",
    ")\n",
    "sc.pl.dotplot(prolif_ec,['Car8','Mmp16','Slc6a2'], groupby='leiden_prolif_ec')"
   ]
  },
  {
   "cell_type": "code",
   "execution_count": null,
   "id": "08bad1b8",
   "metadata": {},
   "outputs": [],
   "source": [
    "pvecs = prolif_ec[prolif_ec.obs['leiden_prolif_ec'].isin(['9'])].obs_names.tolist()\n",
    "atac.obs['celltype_pvec'] = ['PVEC' if x in pvecs else y for x,y in zip(atac.obs_names, atac.obs['celltype'])]\n",
    "tf.obs['celltype_pvec'] = ['PVEC' if x in pvecs else y for x,y in zip(atac.obs_names, atac.obs['celltype'])]\n",
    "rna.obs['celltype_pvec'] = ['PVEC' if x in pvecs else y for x,y in zip(rna.obs_names, rna.obs['celltype'])]\n",
    "\n",
    "atac_norm = atac[atac.obs['treatment']=='Hyperoxia']\n",
    "dap_dict = {}\n",
    "for ct2 in ['Proliferating EC', 'Venous EC']:\n",
    "    cts_adata = atac_norm[atac_norm.obs[\"celltype_pvec\"].isin(['PVEC',\n",
    "                                                          ct2])]\n",
    "    sc.tl.rank_genes_groups(\n",
    "        cts_adata,\n",
    "        \"celltype_pvec\",\n",
    "        groups=['PVEC', ct2],\n",
    "        method=\"wilcoxon\",\n",
    "        pts=True,\n",
    "        key_added=\"rank_peaks_groups_celltype\",\n",
    "    )\n",
    "    df = sc.get.rank_genes_groups_df(\n",
    "        cts_adata, key=\"rank_peaks_groups_celltype\", group='PVEC'\n",
    "    )\n",
    "    df.index = df['names']\n",
    "    df[['gene', 'peak_type', 'distance', 'tfs']] = cts_adata.var[['annotated_gene', 'peak_type', 'distance', 'tfs']]\n",
    "    dap_dict[ct2]=df\n",
    "\n",
    "score_df2 = pd.DataFrame(index = dap_dict['Venous EC'].names, \n",
    "                        columns = ['PEC','VEC'],\n",
    "                        data=None)\n",
    "score_df2['PEC'] = dap_dict['Proliferating EC']['scores']\n",
    "score_df2['VEC'] = dap_dict['Venous EC']['scores']\n",
    "sns.scatterplot(data = score_df2,\n",
    "               x= 'VEC',\n",
    "               y='PEC',\n",
    "               linewidth=0\n",
    "               )\n",
    "score = 2\n",
    "score_df2 = score_df2.loc[((score_df2['PEC']>score) & (score_df2['VEC']>score))|\n",
    "            ((score_df2['PEC']<-score) & ((score_df2['VEC']<-score)))]\n",
    "atac_df = atac.var[[\"annotated_gene\", \"peak_type\", \"distance\", \"tfs\"]].loc[score_df2.index]\n",
    "atac_df['PEC_score'] = score_df2.loc[atac_df.index]['PEC']\n",
    "atac_df['VEC_score'] = score_df2.loc[atac_df.index]['VEC']\n",
    "atac_df.to_csv(f'{figures}/proliferating_vec_unique_dap.csv')"
   ]
  },
  {
   "cell_type": "code",
   "execution_count": null,
   "id": "9e0a7352",
   "metadata": {},
   "outputs": [],
   "source": [
    "from scipy.stats import linregress\n",
    "linr = linregress(score_df2['VEC'].to_numpy(),\n",
    "                  score_df2['PEC'].to_numpy())\n",
    "print(linr)"
   ]
  },
  {
   "cell_type": "code",
   "execution_count": null,
   "id": "98a127ea",
   "metadata": {},
   "outputs": [],
   "source": [
    "up = score_df2[(score_df2['PEC']>2)&(score_df2['VEC']>2)].sort_values('PEC', ascending=False)\n",
    "atac.var[[\"annotated_gene\", \"peak_type\", \"distance\", \"tfs\"]].loc[up.index]"
   ]
  },
  {
   "cell_type": "code",
   "execution_count": null,
   "id": "74c10e6f",
   "metadata": {},
   "outputs": [],
   "source": [
    "down = score_df2[(score_df2['PEC']<-2)&(score_df2['VEC']<-2)].sort_values('PEC', ascending=True)\n",
    "atac.var[[\"annotated_gene\", \"peak_type\", \"distance\", \"tfs\"]].loc[down.index]"
   ]
  },
  {
   "cell_type": "code",
   "execution_count": null,
   "id": "88339897",
   "metadata": {},
   "outputs": [],
   "source": [
    "rna_norm = rna[rna.obs['treatment']=='Hyperoxia']\n",
    "dap_dict = {}\n",
    "for ct2 in ['Proliferating EC', 'Venous EC']:\n",
    "    cts_adata = rna_norm[rna_norm.obs[\"celltype_pvec\"].isin(['PVEC',\n",
    "                                                          ct2])]\n",
    "    sc.tl.rank_genes_groups(\n",
    "        cts_adata,\n",
    "        \"celltype_pvec\",\n",
    "        groups=['PVEC', ct2],\n",
    "        method=\"wilcoxon\",\n",
    "        pts=True,\n",
    "        key_added=\"rank_peaks_groups_celltype\",\n",
    "    )\n",
    "    df = sc.get.rank_genes_groups_df(\n",
    "        cts_adata, key=\"rank_peaks_groups_celltype\", group='PVEC'\n",
    "    )\n",
    "    df.index = df['names']\n",
    "    dap_dict[ct2]=df\n",
    "\n",
    "score_df2 = pd.DataFrame(index = dap_dict['Venous EC'].names, \n",
    "                        columns = ['PEC','VEC'],\n",
    "                        data=None)\n",
    "score_df2['PEC'] = dap_dict['Proliferating EC']['scores']\n",
    "score_df2['VEC'] = dap_dict['Venous EC']['scores']\n",
    "sns.scatterplot(data = score_df2,\n",
    "               x= 'VEC',\n",
    "               y='PEC',\n",
    "               linewidth=0\n",
    "               )\n",
    "score = 2\n",
    "score_df2 = score_df2.loc[((score_df2['PEC']>score) & (score_df2['VEC']>score))|\n",
    "            ((score_df2['PEC']<-score) & ((score_df2['VEC']<-score)))]\n",
    "score_df2.to_csv(f'{figures}/proliferating_vec_unique_deg.csv')"
   ]
  },
  {
   "cell_type": "code",
   "execution_count": null,
   "id": "8dc13898",
   "metadata": {},
   "outputs": [],
   "source": [
    "score_df2\n"
   ]
  },
  {
   "cell_type": "markdown",
   "id": "3e2effdb",
   "metadata": {},
   "source": [
    "### TF"
   ]
  },
  {
   "cell_type": "code",
   "execution_count": null,
   "id": "99ed3972",
   "metadata": {},
   "outputs": [],
   "source": [
    "tf_norm = tf[tf.obs['treatment']=='Hyperoxia']\n",
    "dap_dict = {}\n",
    "for ct2 in ['Proliferating EC', 'Venous EC']:\n",
    "    cts_adata = tf[tf.obs[\"celltype_pvec\"].isin(['PVEC',\n",
    "                                                          ct2])]\n",
    "    sc.tl.rank_genes_groups(\n",
    "        cts_adata,\n",
    "        \"celltype_pvec\",\n",
    "        groups=['PVEC', ct2],\n",
    "        method=\"wilcoxon\",\n",
    "        pts=True,\n",
    "        key_added=\"rank_peaks_groups_celltype\",\n",
    "    )\n",
    "    df = sc.get.rank_genes_groups_df(\n",
    "        cts_adata, key=\"rank_peaks_groups_celltype\", group='PVEC'\n",
    "    )\n",
    "    df.index = df['names']\n",
    "    dap_dict[ct2]=df\n",
    "\n",
    "score_df2 = pd.DataFrame(index = dap_dict['Venous EC'].names, \n",
    "                        columns = ['PEC','VEC'],\n",
    "                        data=None)\n",
    "score_df2['PEC'] = dap_dict['Proliferating EC']['scores']\n",
    "score_df2['VEC'] = dap_dict['Venous EC']['scores']\n",
    "sns.scatterplot(data = score_df2,\n",
    "               x= 'VEC',\n",
    "               y='PEC',\n",
    "               linewidth=0\n",
    "               )\n",
    "score = 2\n",
    "score_df2 = score_df2.loc[((score_df2['PEC']>score) & (score_df2['VEC']>score))|\n",
    "            ((score_df2['PEC']<-score) & ((score_df2['VEC']<-score)))]\n",
    "score_df2.to_csv(f'{figures}/proliferating_vec_unique_datf.csv')"
   ]
  },
  {
   "cell_type": "code",
   "execution_count": null,
   "id": "aeb2d567",
   "metadata": {},
   "outputs": [],
   "source": [
    "up = score_df2[(score_df2['PEC']>2)&(score_df2['VEC']>2)].sort_values('PEC', ascending=False)\n",
    "up"
   ]
  },
  {
   "cell_type": "code",
   "execution_count": null,
   "id": "27fdaa56",
   "metadata": {},
   "outputs": [],
   "source": [
    "down = score_df2[(score_df2['PEC']<-2)&(score_df2['VEC']<-2)].sort_values('PEC', ascending=True)\n",
    "down"
   ]
  },
  {
   "cell_type": "code",
   "execution_count": null,
   "id": "c0dd8c3f",
   "metadata": {},
   "outputs": [],
   "source": [
    "score_df2 = pd.DataFrame(index = dap_dict['Venous EC'].names, \n",
    "                        columns = ['PEC','VEC'],\n",
    "                        data=None)\n",
    "score_df2['PEC'] = dap_dict['Proliferating EC']['scores']\n",
    "score_df2['VEC'] = dap_dict['Venous EC']['scores']\n",
    "outlier = score_df2[(score_df2['PEC']<-2)&(score_df2['VEC']>1)].sort_values('PEC', ascending=True)\n",
    "outlier"
   ]
  },
  {
   "cell_type": "code",
   "execution_count": null,
   "id": "6cd22092",
   "metadata": {},
   "outputs": [],
   "source": [
    "sc.pl.embedding(rna[rna.obs['lineage']=='endothelial'],\n",
    "                basis='X_umap_endothelial',\n",
    "                color=['celltype_abv', 'Car8','Mmp16','Slc6a2','Gja5','Ednrb'])"
   ]
  },
  {
   "cell_type": "code",
   "execution_count": null,
   "id": "eba31397",
   "metadata": {},
   "outputs": [],
   "source": [
    "hyp_dict = {}\n",
    "for mod, label in [(rna,'rna'),\n",
    "                   (tf,'tf'),\n",
    "                   (atac,'atac')\n",
    "                  ]:\n",
    "    hyp_dict[label]={}\n",
    "    for ct in ['Proliferating EC', 'PVEC']:\n",
    "        ct_adata = mod[mod.obs['celltype_pvec'].isin([ct])]\n",
    "        print(ct_adata.obs['treatment'].value_counts())\n",
    "        sc.tl.rank_genes_groups(\n",
    "            ct_adata,\n",
    "            \"treatment\",\n",
    "            method=\"wilcoxon\",\n",
    "            pts=True,\n",
    "            key_added=\"rank_peaks_groups_treatment\",\n",
    "        )\n",
    "        df = sc.get.rank_genes_groups_df(\n",
    "            ct_adata, key=\"rank_peaks_groups_treatment\", group='Hyperoxia'\n",
    "        )\n",
    "        df.index = df['names']\n",
    "        hyp_dict[label][ct] = df\n",
    "    score_df2 = pd.DataFrame(index = hyp_dict[label][ct].names, \n",
    "                        columns = ['PEC','PVEC'],\n",
    "                        data=None)\n",
    "    score_df2['PEC'] = hyp_dict[label]['Proliferating EC']['scores']\n",
    "    score_df2['PVEC'] = hyp_dict[label]['PVEC']['scores']\n",
    "    hyp_dict[label]['df'] = score_df2\n",
    "    sns.scatterplot(data = score_df2,\n",
    "               x= 'PVEC',\n",
    "               y='PEC',\n",
    "               linewidth=0\n",
    "               )\n",
    "    plt.title(label\n",
    "             )\n",
    "    plt.show()\n",
    "    plt.close()\n",
    "    "
   ]
  },
  {
   "cell_type": "code",
   "execution_count": null,
   "id": "00fe2f19",
   "metadata": {},
   "outputs": [],
   "source": [
    "hyp_dict['atac']['df'].sort_values('PEC').head(2)"
   ]
  },
  {
   "cell_type": "code",
   "execution_count": null,
   "id": "73297d71",
   "metadata": {},
   "outputs": [],
   "source": [
    "atac.var.loc[hyp_dict['atac']['df'].sort_values('PEC').head(2).index]\n"
   ]
  },
  {
   "cell_type": "code",
   "execution_count": null,
   "id": "8cf54f8a",
   "metadata": {},
   "outputs": [],
   "source": [
    "hyp_dict['atac']['df'].sort_values('PEC',ascending=False).head(5)"
   ]
  },
  {
   "cell_type": "code",
   "execution_count": null,
   "id": "992643ce",
   "metadata": {},
   "outputs": [],
   "source": [
    "atac.var.loc[hyp_dict['atac']['df'].sort_values('PEC',ascending=False).head(5).index]\n"
   ]
  },
  {
   "cell_type": "code",
   "execution_count": null,
   "id": "6c01f2ff",
   "metadata": {},
   "outputs": [],
   "source": [
    "pd.set_option('display.max_rows', 500)\n",
    "rna.obs.groupby('treatment')['celltype_pvec'].value_counts(normalize=True)*100"
   ]
  },
  {
   "cell_type": "code",
   "execution_count": null,
   "id": "37e9447b",
   "metadata": {},
   "outputs": [],
   "source": [
    "pd.set_option('display.max_rows', 500)\n",
    "rna[rna.obs['lineage']=='endothelial'].obs.groupby('treatment')['celltype_pvec'].value_counts(normalize=True)*100"
   ]
  },
  {
   "cell_type": "code",
   "execution_count": null,
   "id": "0ad25d5d",
   "metadata": {},
   "outputs": [],
   "source": [
    "tf_corr = tf.to_df().corr(method='spearman')"
   ]
  },
  {
   "cell_type": "code",
   "execution_count": null,
   "id": "ab6c2d5a",
   "metadata": {},
   "outputs": [],
   "source": [
    "fam='fox'\n",
    "tf_corr[[x for x in tf_corr.columns if x.lower().startswith(fam)]].loc[[x for x in tf_corr.columns if x.lower().startswith(fam)]]"
   ]
  },
  {
   "cell_type": "code",
   "execution_count": null,
   "id": "be31272e",
   "metadata": {},
   "outputs": [],
   "source": [
    "fam = 'Alx'\n",
    "tf_corr[[x for x in tf_corr.columns if x.startswith(fam)]].loc[[x for x in tf_corr.columns if x.startswith(fam)]]"
   ]
  },
  {
   "cell_type": "code",
   "execution_count": null,
   "id": "947844e1",
   "metadata": {},
   "outputs": [],
   "source": [
    "meis = tf_corr.loc[tf_corr.index.str.startswith('MEIS')].index.tolist()\n",
    "tf_corr.loc[meis][meis]"
   ]
  },
  {
   "cell_type": "code",
   "execution_count": null,
   "id": "59479d42",
   "metadata": {},
   "outputs": [],
   "source": [
    "fam='fox'\n",
    "df = tf_corr[[x for x in tf_corr.columns if x.lower().startswith(fam)]].loc[[x for x in tf_corr.columns if x.lower().startswith(fam)]]\n",
    "for col in df.columns:\n",
    "    sub = df[col].sort_values(ascending=False)\n",
    "    print(sub.head(5))"
   ]
  },
  {
   "cell_type": "code",
   "execution_count": null,
   "id": "6fd186c2",
   "metadata": {},
   "outputs": [],
   "source": []
  }
 ],
 "metadata": {
  "kernelspec": {
   "display_name": "Python 3 (ipykernel)",
   "language": "python",
   "name": "python3"
  },
  "language_info": {
   "codemirror_mode": {
    "name": "ipython",
    "version": 3
   },
   "file_extension": ".py",
   "mimetype": "text/x-python",
   "name": "python",
   "nbconvert_exporter": "python",
   "pygments_lexer": "ipython3",
   "version": "3.7.11"
  }
 },
 "nbformat": 4,
 "nbformat_minor": 5
}

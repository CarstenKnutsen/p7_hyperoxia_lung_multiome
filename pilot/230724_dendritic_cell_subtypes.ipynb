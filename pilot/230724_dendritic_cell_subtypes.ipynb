{
 "cells": [
  {
   "cell_type": "markdown",
   "id": "22ef57e1",
   "metadata": {},
   "source": [
    "### Goal: Can we see subsets of dendritic cells in P7 multiome data\n"
   ]
  },
  {
   "cell_type": "code",
   "execution_count": null,
   "id": "4bdc5657",
   "metadata": {},
   "outputs": [],
   "source": [
    "import numpy as np\n",
    "import pandas as pd\n",
    "import os\n",
    "import scanpy as sc\n",
    "import scanpy.external as sce\n",
    "import sys\n",
    "import muon as mu\n",
    "import muon.atac as ac\n",
    "import matplotlib.pyplot as plt\n",
    "import seaborn as sns\n",
    "figures = '/home/carsten/alvira_bioinformatics/postnatal_lung_multiome/data/pilot/230720_cristina_endo_questions'\n",
    "sc_file = '/home/carsten/alvira_bioinformatics/postnatal_lung_multiome/data/single_cell_files/share'\n",
    "atac_dir = '/home/carsten/alvira_bioinformatics/postnatal_lung_multiome/data/figures/atac'\n",
    "rna_dir = '/home/carsten/alvira_bioinformatics/postnatal_lung_multiome/data/figures/rna'\n",
    "os.makedirs(figures, exist_ok=True)\n",
    "sc.set_figure_params(dpi=300, format=\"png\")\n",
    "sc.settings.figdir = figures\n"
   ]
  },
  {
   "cell_type": "markdown",
   "id": "853c4a32",
   "metadata": {},
   "source": [
    "#### Load in multiomic data"
   ]
  },
  {
   "cell_type": "code",
   "execution_count": null,
   "id": "10527025",
   "metadata": {},
   "outputs": [],
   "source": [
    "rna = sc.read(f'{sc_file}/p7_multiome_rna_processed.gz.h5ad')\n",
    "atac = sc.read(f'{sc_file}/p7_multiome_atac_processed.gz.h5ad')\n",
    "tf = sc.read(f'{sc_file}/p7_multiome_tf_processed.gz.h5ad')"
   ]
  },
  {
   "cell_type": "code",
   "execution_count": null,
   "id": "4de12e73",
   "metadata": {},
   "outputs": [],
   "source": [
    "rna.X = rna.layers['soupx'].copy()\n",
    "sc.pp.normalize_total(rna,target_sum=1e4)\n",
    "sc.pp.log1p(rna,base=10)"
   ]
  },
  {
   "cell_type": "code",
   "execution_count": null,
   "id": "589c0418",
   "metadata": {},
   "outputs": [],
   "source": [
    "atac.X = atac.layers['counts'].copy()\n",
    "sc.pp.normalize_total(atac,target_sum=1e4)\n",
    "sc.pp.log1p(atac,base=10)"
   ]
  },
  {
   "cell_type": "code",
   "execution_count": null,
   "id": "018624d8",
   "metadata": {},
   "outputs": [],
   "source": [
    "tf.X = tf.layers['raw'].copy()\n",
    "sc.pp.normalize_total(tf,target_sum=1e4)\n",
    "sc.pp.log1p(tf,base=10)"
   ]
  },
  {
   "cell_type": "markdown",
   "id": "5aa6c2fe",
   "metadata": {},
   "source": [
    "#### Subset DC"
   ]
  },
  {
   "cell_type": "code",
   "execution_count": null,
   "id": "a11b1266",
   "metadata": {},
   "outputs": [],
   "source": [
    "markers = {\n",
    "    'pan':['Zbtb46', 'Flt3'],\n",
    "    'cDC1':['Itgae','Irf8','Cadm1'],\n",
    "    'cDC2':['Itgam', 'Sirpa', 'Irf4'],\n",
    "    'mig-DC':['Mreg','Cacnb3','Fscn1','Ccl5','Ccr7',]\n",
    "}\n",
    "marker_ls = []\n",
    "for x in markers.keys():\n",
    "    marker_ls+=markers[x]"
   ]
  },
  {
   "cell_type": "code",
   "execution_count": null,
   "id": "2d295ae0",
   "metadata": {},
   "outputs": [],
   "source": [
    "dc = rna[rna.obs['celltype']=='DC'].copy()\n",
    "sc.pp.highly_variable_genes(dc, n_top_genes=500, batch_key=\"mouse\")\n",
    "sc.pp.pca(dc, use_highly_variable=True)\n",
    "sce.pp.harmony_integrate(dc, key='mouse', max_iter_harmony=20)\n",
    "sc.pp.neighbors(dc, use_rep='X_pca')\n",
    "sc.tl.leiden(\n",
    "    dc,\n",
    "    key_added=f\"leiden_dc\",\n",
    "    resolution=0.9\n",
    ")\n",
    "sc.tl.umap(dc, min_dist=0.1)\n",
    "sc.pl.umap(dc, color=marker_ls)\n",
    "sc.pl.umap(dc, color=['leiden_dc','mouse'])\n"
   ]
  },
  {
   "cell_type": "code",
   "execution_count": null,
   "id": "274f3575",
   "metadata": {},
   "outputs": [],
   "source": [
    "dc.obs.groupby('leiden_dc')['mouse'].value_counts()"
   ]
  },
  {
   "cell_type": "code",
   "execution_count": null,
   "id": "5f29c63a",
   "metadata": {},
   "outputs": [],
   "source": [
    "sc.tl.rank_genes_groups(dc, \"leiden_dc\", method=\"wilcoxon\")\n",
    "sc.pl.rank_genes_groups_dotplot(\n",
    "    dc,\n",
    "    groupby=\"leiden_dc\",\n",
    "    dendrogram=False,\n",
    "    n_genes=int(50 / len(dc.obs[\"leiden_dc\"].unique())),\n",
    ")\n",
    "sc.pl.dotplot(dc,markers, groupby='leiden_dc')"
   ]
  },
  {
   "cell_type": "code",
   "execution_count": null,
   "id": "99ec3d8c",
   "metadata": {},
   "outputs": [],
   "source": [
    "dc.obs.groupby('treatment')['leiden_dc'].value_counts(normalize=True)"
   ]
  },
  {
   "cell_type": "code",
   "execution_count": null,
   "id": "f0e3d3b4",
   "metadata": {},
   "outputs": [],
   "source": []
  }
 ],
 "metadata": {
  "kernelspec": {
   "display_name": "Python 3 (ipykernel)",
   "language": "python",
   "name": "python3"
  },
  "language_info": {
   "codemirror_mode": {
    "name": "ipython",
    "version": 3
   },
   "file_extension": ".py",
   "mimetype": "text/x-python",
   "name": "python",
   "nbconvert_exporter": "python",
   "pygments_lexer": "ipython3",
   "version": "3.7.11"
  }
 },
 "nbformat": 4,
 "nbformat_minor": 5
}

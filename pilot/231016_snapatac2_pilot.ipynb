{
 "cells": [
  {
   "cell_type": "code",
   "execution_count": null,
   "id": "f9974000-67ab-492e-b37b-29bc3269705d",
   "metadata": {},
   "outputs": [],
   "source": [
    "'''\n",
    "Goal: Run SnapATAC2 pipeline on multiome snATAC data\n",
    "Author:Carsten Knutsen\n",
    "Date:231016\n",
    "conda_env:snapatac\n",
    "'''"
   ]
  },
  {
   "cell_type": "code",
   "execution_count": null,
   "id": "023714cc",
   "metadata": {},
   "outputs": [],
   "source": [
    "import scanpy as sc\n",
    "import muon as mu\n",
    "import numpy as np\n",
    "import pandas as pd\n",
    "import snapatac2 as snap\n",
    "import os"
   ]
  },
  {
   "cell_type": "code",
   "execution_count": null,
   "id": "4f810077",
   "metadata": {},
   "outputs": [],
   "source": [
    "output_fol = '/home/carsten/alvira_bioinformatics/postnatal_lung_multiome/data/pilot/231016_snapatac2_pilot'\n",
    "os.makedirs(output_fol, exist_ok=True)"
   ]
  },
  {
   "cell_type": "code",
   "execution_count": null,
   "id": "236814b1",
   "metadata": {},
   "outputs": [],
   "source": [
    "adata_rna = sc.read('/home/carsten/alvira_bioinformatics/postnatal_lung_multiome/data/single_cell_files/share/p7_multiome_rna_processed.gz.h5ad')\n",
    "adata_rna.obs_names"
   ]
  },
  {
   "cell_type": "code",
   "execution_count": null,
   "id": "98fd8338",
   "metadata": {},
   "outputs": [],
   "source": [
    "fragment_file = '/home/carsten/alvira_bioinformatics/postnatal_lung_multiome/data/cellranger_output/230609_aggregate/outs/atac_fragments.tsv.gz'\n",
    "output_f = f'{output_fol}/multiome_snapatac_pilot.h5ad'\n",
    "gtf = '/home/carsten/alvira_bioinformatics/postnatal_lung_multiome/data/refdata-cellranger-arc-mm10-2020-A-2.0.0/genes/genes.gtf'\n",
    "chrom_sizes_fn = '/home/carsten/alvira_bioinformatics/postnatal_lung_multiome/data/refdata-cellranger-arc-mm10-2020-A-2.0.0/sizes.genome'\n",
    "genome = '/home/carsten/alvira_bioinformatics/postnatal_lung_multiome/data/refdata-cellranger-arc-mm10-2020-A-2.0.0/fasta/genome.fa'"
   ]
  },
  {
   "cell_type": "code",
   "execution_count": null,
   "id": "ad0c82c6",
   "metadata": {},
   "outputs": [],
   "source": [
    "## Chrom sizes were genereated using command on next line \n",
    "# faidx refdata-cellranger-arc-mm10-2020-A-2.0.0/fasta/genome.fa -i chromsizes > sizes.genome\n",
    "chrom_sizes = pd.read_csv(chrom_sizes_fn, sep='\\t', header=None, index_col=0).to_dict()\n",
    "chrom_sizes = chrom_sizes[1]"
   ]
  },
  {
   "cell_type": "code",
   "execution_count": null,
   "id": "2b5ce44a",
   "metadata": {},
   "outputs": [],
   "source": [
    "%%time\n",
    "data = snap.pp.import_data(\n",
    "    fragment_file,\n",
    "    chrom_sizes,\n",
    "    file=output_f,  # Optional\n",
    "    sorted_by_barcode=False,\n",
    ")\n",
    "data"
   ]
  },
  {
   "cell_type": "code",
   "execution_count": null,
   "id": "087ba541-a0bd-49de-a77c-5de91da3638b",
   "metadata": {},
   "outputs": [],
   "source": [
    "fig = snap.pl.frag_size_distr(data, show=False)\n",
    "fig.update_yaxes(type=\"log\")\n",
    "fig.show()"
   ]
  },
  {
   "cell_type": "code",
   "execution_count": null,
   "id": "b0b24257-6e81-4aa4-b044-65fd651ac1d7",
   "metadata": {},
   "outputs": [],
   "source": []
  },
  {
   "cell_type": "code",
   "execution_count": null,
   "id": "ad763419-cbc7-47ef-a64a-cb1872df86b5",
   "metadata": {},
   "outputs": [],
   "source": [
    "%%time\n",
    "snap.metrics.tsse(data, gtf)"
   ]
  },
  {
   "cell_type": "code",
   "execution_count": null,
   "id": "7e1bab5b",
   "metadata": {},
   "outputs": [],
   "source": [
    "snap.pl.tsse(data, interactive=False)"
   ]
  },
  {
   "cell_type": "code",
   "execution_count": null,
   "id": "baca9e8b",
   "metadata": {},
   "outputs": [],
   "source": [
    "%%time\n",
    "snap.pp.filter_cells(data, min_counts=1000, min_tsse=0, max_counts=100000)\n",
    "overlap_names = list(set(adata_rna.obs_names) & set(data.obs_names))\n",
    "data.subset(obs_indices=overlap_names)\n",
    "data.obs['lineage'] = adata_rna.obs['lineage'].loc[overlap_names]\n",
    "data.obs['celltype'] = adata_rna.obs['celltype'].loc[overlap_names]\n",
    "data.obs['treatment'] = adata_rna.obs['treatment'].loc[overlap_names]\n",
    "data.obs['mouse'] = adata_rna.obs['mouse'].loc[overlap_names]\n",
    "data.obs['sex'] = adata_rna.obs['sex'].loc[overlap_names]"
   ]
  },
  {
   "cell_type": "code",
   "execution_count": null,
   "id": "6371230e-b4b3-4f32-8507-f84dbfded2aa",
   "metadata": {},
   "outputs": [],
   "source": [
    "%%time\n",
    "snap.pp.add_tile_matrix(data)"
   ]
  },
  {
   "cell_type": "code",
   "execution_count": null,
   "id": "57aad307-9c6f-4c89-ac4b-86c9997bbe12",
   "metadata": {},
   "outputs": [],
   "source": [
    "%%time\n",
    "snap.pp.select_features(data, n_features=500000)\n",
    "snap.tl.spectral(data)\n",
    "snap.pp.knn(data)\n",
    "snap.tl.leiden(data)\n",
    "snap.tl.umap(data)\n",
    "snap.pl.umap(data, color='leiden', interactive=False, height=500)\n",
    "\n",
    "\n"
   ]
  },
  {
   "cell_type": "code",
   "execution_count": null,
   "id": "5332bfa7-5c69-4d80-b9ac-bcb6e6f00280",
   "metadata": {},
   "outputs": [],
   "source": [
    "%%time\n",
    "gene_matrix = snap.pp.make_gene_matrix(data, gtf)\n",
    "gene_matrix"
   ]
  },
  {
   "cell_type": "code",
   "execution_count": null,
   "id": "41c95b7d-acd2-4bba-8e05-a3b3f3fa5b37",
   "metadata": {},
   "outputs": [],
   "source": [
    "import scanpy as sc\n",
    "\n",
    "sc.pp.filter_genes(gene_matrix, min_cells= 5)\n",
    "sc.pp.normalize_total(gene_matrix)\n",
    "sc.pp.log1p(gene_matrix)"
   ]
  },
  {
   "cell_type": "code",
   "execution_count": null,
   "id": "39a37316-0be4-429b-9864-be0f1df93b5e",
   "metadata": {},
   "outputs": [],
   "source": [
    "%load_ext autoreload\n"
   ]
  },
  {
   "cell_type": "code",
   "execution_count": null,
   "id": "8b45a21e-c282-442a-8481-7a67032c6209",
   "metadata": {},
   "outputs": [],
   "source": [
    "%autoreload 2"
   ]
  },
  {
   "cell_type": "code",
   "execution_count": null,
   "id": "f784ed76-c4fa-47c0-b5c0-3ba594020a15",
   "metadata": {},
   "outputs": [],
   "source": [
    "%%time\n",
    "import scanpy.external as sce\n",
    "sce.pp.magic(gene_matrix, solver=\"approximate\")"
   ]
  },
  {
   "cell_type": "code",
   "execution_count": null,
   "id": "ce22e0aa-36e8-4705-9e14-915ac0d905bb",
   "metadata": {},
   "outputs": [],
   "source": [
    "snap.tl.macs3(data, groupby='celltype')\n"
   ]
  },
  {
   "cell_type": "code",
   "execution_count": null,
   "id": "fe8223bf-fd16-4bc0-a37e-23c712b00833",
   "metadata": {},
   "outputs": [],
   "source": [
    "%%time\n",
    "peaks = snap.tl.merge_peaks(data.uns['macs3'], chrom_sizes)\n",
    "peaks.head()"
   ]
  },
  {
   "cell_type": "code",
   "execution_count": null,
   "id": "eb22085c-db1b-4ec4-8e08-0fa1cc76e230",
   "metadata": {},
   "outputs": [],
   "source": [
    "%%time\n",
    "peak_mat = snap.pp.make_peak_matrix(data, use_rep=peaks['Peaks'])\n",
    "peak_mat"
   ]
  },
  {
   "cell_type": "code",
   "execution_count": null,
   "id": "308cc347-6480-4c4d-97f4-72be905521ff",
   "metadata": {},
   "outputs": [],
   "source": [
    "%%time\n",
    "marker_peaks = snap.tl.marker_regions(peak_mat, groupby='celltype', pvalue=0.01)"
   ]
  },
  {
   "cell_type": "code",
   "execution_count": null,
   "id": "5ca10531-1c52-47c5-8d4d-f1590b643f9b",
   "metadata": {},
   "outputs": [],
   "source": [
    "marker_peaks"
   ]
  },
  {
   "cell_type": "code",
   "execution_count": null,
   "id": "1555cfc2-06a7-4c08-845d-7befaf426f92",
   "metadata": {},
   "outputs": [],
   "source": [
    "%%time\n",
    "motifs = snap.tl.motif_enrichment(\n",
    "    motifs=snap.datasets.cis_bp(unique=True),\n",
    "    regions=marker_peaks,\n",
    "    genome_fasta=genome,\n",
    ")"
   ]
  },
  {
   "cell_type": "code",
   "execution_count": null,
   "id": "1fe375a4-fb5e-4faf-9142-7e50e452fced",
   "metadata": {},
   "outputs": [],
   "source": [
    "snap.pl.regions(peak_mat, groupby='celltype', peaks=marker_peaks, interactive=False)\n"
   ]
  },
  {
   "cell_type": "code",
   "execution_count": null,
   "id": "2725d5cb-7bed-47f3-b1ef-0af8f4799723",
   "metadata": {},
   "outputs": [],
   "source": [
    "snap.pl.motif_enrichment(motifs, max_fdr=0.0001, height=1600, interactive=False)\n"
   ]
  },
  {
   "cell_type": "code",
   "execution_count": null,
   "id": "c930cb34-6596-4eeb-a28e-c22504cf2b19",
   "metadata": {},
   "outputs": [],
   "source": [
    "motifs"
   ]
  },
  {
   "cell_type": "code",
   "execution_count": null,
   "id": "8835ff24-03c3-42d5-a0de-1efa7be1648d",
   "metadata": {},
   "outputs": [],
   "source": [
    "# Copy over UMAP embedding\n",
    "gene_matrix.obsm[\"X_umap\"] = data.obsm[\"X_umap\"]"
   ]
  },
  {
   "cell_type": "code",
   "execution_count": null,
   "id": "8a0686b9-91a1-4f3f-9d43-3614fb396508",
   "metadata": {},
   "outputs": [],
   "source": [
    "snap.pp.select_features(data, n_features=250000)\n",
    "snap"
   ]
  },
  {
   "cell_type": "code",
   "execution_count": null,
   "id": "33c6028b-c040-4860-b98d-6b059b25e34e",
   "metadata": {},
   "outputs": [],
   "source": [
    "%%time\n",
    "snap.pp.scrublet(data)"
   ]
  },
  {
   "cell_type": "code",
   "execution_count": null,
   "id": "76d76e08-de50-46e6-a454-59253c165417",
   "metadata": {},
   "outputs": [],
   "source": [
    "snap.pp.filter_doublets(data)\n",
    "data"
   ]
  },
  {
   "cell_type": "code",
   "execution_count": null,
   "id": "b8bf3a3f-55d0-4961-b2b7-77f045e60b90",
   "metadata": {},
   "outputs": [],
   "source": []
  },
  {
   "cell_type": "code",
   "execution_count": null,
   "id": "a6219d0c-7e20-4dfa-a0c3-ceb2c2125f99",
   "metadata": {},
   "outputs": [],
   "source": [
    "data"
   ]
  },
  {
   "cell_type": "code",
   "execution_count": null,
   "id": "e04879bb-3766-4ea0-bedd-f4883e4e458c",
   "metadata": {},
   "outputs": [],
   "source": []
  },
  {
   "cell_type": "code",
   "execution_count": null,
   "id": "b534e5f9",
   "metadata": {},
   "outputs": [],
   "source": [
    "data.subset(obs_indices=list(set(adata_rna.obs_names) & set(data.obs_names)))\n",
    "data.obs['lineage'] = adata_rna.obs['lineage'].loc[overlap_names]\n",
    "data.obs['celltype'] = adata_rna.obs['celltype'].loc[overlap_names]\n",
    "data.obs['treatment'] = adata_rna.obs['treatment'].loc[overlap_names]\n",
    "data.obs['mouse'] = adata_rna.obs['mouse'].loc[overlap_names]\n",
    "data.obs['sex'] = adata_rna.obs['sex'].loc[overlap_names]"
   ]
  },
  {
   "cell_type": "code",
   "execution_count": null,
   "id": "8f85b4f6",
   "metadata": {},
   "outputs": [],
   "source": [
    "%%time\n",
    "snap.pp.add_tile_matrix(data)"
   ]
  },
  {
   "cell_type": "code",
   "execution_count": null,
   "id": "9b1f7e54",
   "metadata": {},
   "outputs": [],
   "source": [
    "snap.pp.select_features(data, n_features=250000)\n"
   ]
  },
  {
   "cell_type": "code",
   "execution_count": null,
   "id": "8fd341ae",
   "metadata": {},
   "outputs": [],
   "source": [
    "snap.pp.harmony(data, batch='mouse')"
   ]
  },
  {
   "cell_type": "code",
   "execution_count": null,
   "id": "5f3af3c7",
   "metadata": {},
   "outputs": [],
   "source": [
    "data"
   ]
  },
  {
   "cell_type": "code",
   "execution_count": null,
   "id": "36a7f24c",
   "metadata": {},
   "outputs": [],
   "source": [
    "%%time\n",
    "snap.tl.umap(data, use_rep='X_spectral_harmony',)"
   ]
  },
  {
   "cell_type": "code",
   "execution_count": null,
   "id": "3e845267",
   "metadata": {},
   "outputs": [],
   "source": [
    "snap.pp.knn(data,use_rep ='X_spectral_harmony' )\n",
    "snap.tl.leiden(data)"
   ]
  },
  {
   "cell_type": "code",
   "execution_count": null,
   "id": "e0ea704e",
   "metadata": {},
   "outputs": [],
   "source": [
    "snap.pl.umap(data, color='leiden', interactive=False, height=500)\n"
   ]
  },
  {
   "cell_type": "code",
   "execution_count": null,
   "id": "60e5b23a",
   "metadata": {},
   "outputs": [],
   "source": [
    "%%time\n",
    "marker_peaks = snap.tl.marker_regions(peak_mat, groupby='celltype', pvalue=0.01)"
   ]
  },
  {
   "cell_type": "code",
   "execution_count": null,
   "id": "8277b648",
   "metadata": {},
   "outputs": [],
   "source": [
    "snap.pl.umap(data, color='lineage', interactive=False, height=500)\n"
   ]
  },
  {
   "cell_type": "code",
   "execution_count": null,
   "id": "3b991f42",
   "metadata": {},
   "outputs": [],
   "source": [
    "data.close()"
   ]
  },
  {
   "cell_type": "code",
   "execution_count": null,
   "id": "7afb8129",
   "metadata": {},
   "outputs": [],
   "source": [
    "adata = sc.read(output_f)"
   ]
  },
  {
   "cell_type": "code",
   "execution_count": null,
   "id": "02b7875b",
   "metadata": {},
   "outputs": [],
   "source": [
    "data = snap.read(output_f)\n",
    "snap.pl.umap(data, color='celltype', interactive=False, height=500)\n"
   ]
  },
  {
   "cell_type": "code",
   "execution_count": null,
   "id": "d764e4b6",
   "metadata": {},
   "outputs": [],
   "source": [
    "snap.pl.umap(data, color='mouse', interactive=False, height=500)\n"
   ]
  },
  {
   "cell_type": "code",
   "execution_count": null,
   "id": "2e1e0866",
   "metadata": {},
   "outputs": [],
   "source": [
    "%%time\n",
    "snap.tl.call_peaks(data, groupby='celltype')"
   ]
  },
  {
   "cell_type": "code",
   "execution_count": null,
   "id": "ed4e02a7",
   "metadata": {},
   "outputs": [],
   "source": [
    "%%time\n",
    "peak_mat = snap.pp.make_peak_matrix(data, \n",
    "                                    file=\"/home/carsten/alvira_bioinformatics/postnatal_lung_multiome/data/single_cell_files/multiome_snapatac_peak_matrix.h5ad\"\n",
    "                                   )\n",
    "peak_mat"
   ]
  },
  {
   "cell_type": "code",
   "execution_count": null,
   "id": "d5489cd7",
   "metadata": {},
   "outputs": [],
   "source": [
    "snap.pl.regions(peak_mat, groupby='celltype', peaks=marker_peaks, interactive=False)\n"
   ]
  },
  {
   "cell_type": "code",
   "execution_count": null,
   "id": "33f7a11e",
   "metadata": {},
   "outputs": [],
   "source": [
    "peak_mat = snap.read(\"/home/carsten/alvira_bioinformatics/postnatal_lung_multiome/data/single_cell_files/multiome_snapatac_peak_matrix.h5ad\")\n",
    "%%time\n",
    "marker_peaks = snap.tl.marker_regions(peak_mat, groupby='celltype', pvalue=0.01)\n"
   ]
  },
  {
   "cell_type": "code",
   "execution_count": null,
   "id": "f9dafd0d",
   "metadata": {},
   "outputs": [],
   "source": [
    "peak_mat"
   ]
  },
  {
   "cell_type": "code",
   "execution_count": null,
   "id": "b382c7f3",
   "metadata": {},
   "outputs": [],
   "source": [
    "%%time\n",
    "motifs = snap.tl.motif_enrichment(\n",
    "    motifs=snap.datasets.cis_bp(unique=True),\n",
    "    regions=marker_peaks,\n",
    "    genome_fasta=genome,\n",
    ")"
   ]
  },
  {
   "cell_type": "code",
   "execution_count": null,
   "id": "7fd55893",
   "metadata": {},
   "outputs": [],
   "source": [
    "motifs['Venous EC'].to_pandas()"
   ]
  },
  {
   "cell_type": "code",
   "execution_count": null,
   "id": "944b665e",
   "metadata": {},
   "outputs": [],
   "source": [
    "with pd.ExcelWriter(\n",
    "    f\"{output_fol}/motif_enrichment_celltype.xlsx\", engine=\"xlsxwriter\"\n",
    ") as writer:\n",
    "    for key in sorted(motifs.keys()):\n",
    "        out = key.replace('/','_')\n",
    "        df = motifs[key].to_pandas()\n",
    "        df.loc[df['adjusted p-value']<0.01].sort_values('log2(fold change)', ascending=False).to_excel(writer, sheet_name=out[:31])"
   ]
  },
  {
   "cell_type": "code",
   "execution_count": null,
   "id": "6d934883",
   "metadata": {},
   "outputs": [],
   "source": [
    "diff_peaks_dt = {}\n",
    "for ct in adata_rna.obs['celltype'].cat.categories:\n",
    "    print(ct)\n",
    "    norm = (data.obs['celltype'] == ct)&(data.obs['treatment'] == 'Normoxia')\n",
    "    hyper = (data.obs['celltype'] == ct)&(data.obs['treatment'] == 'Hyperoxia')\n",
    "    peaks_selected = np.logical_or(\n",
    "    data.uns[\"peaks\"][ct].to_numpy(),\n",
    "    data.uns[\"peaks\"][ct].to_numpy(),\n",
    ")\n",
    "\n",
    "    diff_peaks = snap.tl.diff_test(\n",
    "    peak_mat,\n",
    "    cell_group1=norm,\n",
    "    cell_group2=hyper,\n",
    "        features=data.uns[\"peaks\"][ct].to_numpy()\n",
    ")\n",
    "    diff_peaks = diff_peaks.to_pandas()\n",
    "    difF_peaks_dt[ct] = diff_peaks"
   ]
  },
  {
   "cell_type": "code",
   "execution_count": null,
   "id": "d8d8bea4",
   "metadata": {},
   "outputs": [],
   "source": [
    "norm = (data.obs['celltype'] == 'AT1')&(data.obs['treatment'] == 'Normoxia')\n",
    "hyper = (data.obs['celltype'] == 'AT2')&(data.obs['treatment'] == 'Normoxia')\n",
    "peaks_selected = np.logical_or(\n",
    "data.uns[\"peaks\"]['AT1'].to_numpy(),\n",
    "data.uns[\"peaks\"]['AT2'].to_numpy(),\n",
    ")\n",
    "\n",
    "diff_peaks = snap.tl.diff_test(\n",
    "peak_mat,\n",
    "cell_group1=norm,\n",
    "cell_group2=hyper,\n",
    "    features=peaks_selected,\n",
    "    penalty='none'\n",
    ")\n",
    "diff_peaks = diff_peaks.to_pandas()\n",
    "difF_peaks_dt"
   ]
  },
  {
   "cell_type": "code",
   "execution_count": null,
   "id": "39f037ea",
   "metadata": {},
   "outputs": [],
   "source": [
    "snap.pl.motif_enrichment(motifs, max_fdr=0.0001, height=3000, width = 2000,interactive=False)\n"
   ]
  },
  {
   "cell_type": "code",
   "execution_count": null,
   "id": "661202ff",
   "metadata": {},
   "outputs": [],
   "source": [
    "rna_names=adata_rna.obs_names.tolist()\n",
    "overlap_names = list(set(adata_rna.obs_names) & set(data.obs_names))\n",
    "not_in_fragment = [x for x in rna_names if x not in overlap_names]"
   ]
  },
  {
   "cell_type": "code",
   "execution_count": null,
   "id": "097be6be",
   "metadata": {},
   "outputs": [],
   "source": [
    "adata_rna.obs.loc[not_in_fragment]"
   ]
  },
  {
   "cell_type": "code",
   "execution_count": null,
   "id": "7c71e9fb",
   "metadata": {},
   "outputs": [],
   "source": [
    "not_in_fragment"
   ]
  },
  {
   "cell_type": "code",
   "execution_count": null,
   "id": "b55abb2b",
   "metadata": {},
   "outputs": [],
   "source": [
    "print(len(adata_rna.obs_names.tolist()))\n",
    "print(len(data.obs_names))\n",
    "print(len(list(set(adata_rna.obs_names) & set(data.obs_names))))\n"
   ]
  },
  {
   "cell_type": "code",
   "execution_count": null,
   "id": "643d3fdb",
   "metadata": {},
   "outputs": [],
   "source": [
    "snap.pl.tsse(data, interactive=False)"
   ]
  },
  {
   "cell_type": "code",
   "execution_count": null,
   "id": "c7727b01",
   "metadata": {},
   "outputs": [],
   "source": [
    "data"
   ]
  },
  {
   "cell_type": "code",
   "execution_count": null,
   "id": "57ff6507",
   "metadata": {},
   "outputs": [],
   "source": [
    "len(set(data.obs_names))"
   ]
  },
  {
   "cell_type": "code",
   "execution_count": null,
   "id": "e882a5fb",
   "metadata": {},
   "outputs": [],
   "source": [
    "data_sub = \n",
    "data_sub"
   ]
  },
  {
   "cell_type": "code",
   "execution_count": null,
   "id": "788a1408",
   "metadata": {},
   "outputs": [],
   "source": [
    "%%time\n",
    "snap.pp.filter_cells(data, min_counts=5000, min_tsse=0, max_counts=1000000)\n",
    "data"
   ]
  }
 ],
 "metadata": {
  "kernelspec": {
   "display_name": "Python 3 (ipykernel)",
   "language": "python",
   "name": "python3"
  },
  "language_info": {
   "codemirror_mode": {
    "name": "ipython",
    "version": 3
   },
   "file_extension": ".py",
   "mimetype": "text/x-python",
   "name": "python",
   "nbconvert_exporter": "python",
   "pygments_lexer": "ipython3",
   "version": "3.9.18"
  }
 },
 "nbformat": 4,
 "nbformat_minor": 5
}
